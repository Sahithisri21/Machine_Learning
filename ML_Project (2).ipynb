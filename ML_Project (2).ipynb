{
  "cells": [
    {
      "cell_type": "markdown",
      "metadata": {
        "id": "zj_Tgqu8OGFH"
      },
      "source": [
        "**Importing Libraries**"
      ]
    },
    {
      "cell_type": "code",
      "execution_count": null,
      "metadata": {
        "id": "XqLS-Kr7SJf8"
      },
      "outputs": [],
      "source": [
        "import pandas as pd\n",
        "import numpy as np\n",
        "import matplotlib.pyplot as plt\n",
        "import seaborn as sns\n",
        "from sklearn.preprocessing import LabelEncoder, OneHotEncoder\n",
        "from sklearn.linear_model import LinearRegression\n",
        "from sklearn.metrics import f1_score\n",
        "from sklearn.metrics import mean_squared_error, mean_absolute_error, r2_score\n",
        "from sklearn.ensemble import RandomForestRegressor\n",
        "from sklearn.model_selection import GridSearchCV\n"
      ]
    },
    {
      "cell_type": "markdown",
      "metadata": {
        "id": "TuvGiby2OMgL"
      },
      "source": [
        "**Importing data**"
      ]
    },
    {
      "cell_type": "code",
      "execution_count": null,
      "metadata": {
        "id": "HKRtbIrhS3UE",
        "colab": {
          "base_uri": "https://localhost:8080/",
          "height": 345
        },
        "outputId": "79f580bd-162a-4d7d-9749-bc23fd1645a6"
      },
      "outputs": [
        {
          "output_type": "error",
          "ename": "FileNotFoundError",
          "evalue": "ignored",
          "traceback": [
            "\u001b[0;31m---------------------------------------------------------------------------\u001b[0m",
            "\u001b[0;31mFileNotFoundError\u001b[0m                         Traceback (most recent call last)",
            "\u001b[0;32m<ipython-input-3-3be2799a121f>\u001b[0m in \u001b[0;36m<module>\u001b[0;34m\u001b[0m\n\u001b[0;32m----> 1\u001b[0;31m \u001b[0mtrain_data\u001b[0m \u001b[0;34m=\u001b[0m \u001b[0mpd\u001b[0m\u001b[0;34m.\u001b[0m\u001b[0mread_csv\u001b[0m\u001b[0;34m(\u001b[0m\u001b[0;34m'/content/train.csv'\u001b[0m\u001b[0;34m)\u001b[0m\u001b[0;34m\u001b[0m\u001b[0;34m\u001b[0m\u001b[0m\n\u001b[0m\u001b[1;32m      2\u001b[0m \u001b[0mtest_data\u001b[0m \u001b[0;34m=\u001b[0m \u001b[0mpd\u001b[0m\u001b[0;34m.\u001b[0m\u001b[0mread_csv\u001b[0m\u001b[0;34m(\u001b[0m\u001b[0;34m'/content/test.csv'\u001b[0m\u001b[0;34m)\u001b[0m\u001b[0;34m\u001b[0m\u001b[0;34m\u001b[0m\u001b[0m\n",
            "\u001b[0;32m/usr/local/lib/python3.9/dist-packages/pandas/util/_decorators.py\u001b[0m in \u001b[0;36mwrapper\u001b[0;34m(*args, **kwargs)\u001b[0m\n\u001b[1;32m    309\u001b[0m                     \u001b[0mstacklevel\u001b[0m\u001b[0;34m=\u001b[0m\u001b[0mstacklevel\u001b[0m\u001b[0;34m,\u001b[0m\u001b[0;34m\u001b[0m\u001b[0;34m\u001b[0m\u001b[0m\n\u001b[1;32m    310\u001b[0m                 )\n\u001b[0;32m--> 311\u001b[0;31m             \u001b[0;32mreturn\u001b[0m \u001b[0mfunc\u001b[0m\u001b[0;34m(\u001b[0m\u001b[0;34m*\u001b[0m\u001b[0margs\u001b[0m\u001b[0;34m,\u001b[0m \u001b[0;34m**\u001b[0m\u001b[0mkwargs\u001b[0m\u001b[0;34m)\u001b[0m\u001b[0;34m\u001b[0m\u001b[0;34m\u001b[0m\u001b[0m\n\u001b[0m\u001b[1;32m    312\u001b[0m \u001b[0;34m\u001b[0m\u001b[0m\n\u001b[1;32m    313\u001b[0m         \u001b[0;32mreturn\u001b[0m \u001b[0mwrapper\u001b[0m\u001b[0;34m\u001b[0m\u001b[0;34m\u001b[0m\u001b[0m\n",
            "\u001b[0;32m/usr/local/lib/python3.9/dist-packages/pandas/io/parsers/readers.py\u001b[0m in \u001b[0;36mread_csv\u001b[0;34m(filepath_or_buffer, sep, delimiter, header, names, index_col, usecols, squeeze, prefix, mangle_dupe_cols, dtype, engine, converters, true_values, false_values, skipinitialspace, skiprows, skipfooter, nrows, na_values, keep_default_na, na_filter, verbose, skip_blank_lines, parse_dates, infer_datetime_format, keep_date_col, date_parser, dayfirst, cache_dates, iterator, chunksize, compression, thousands, decimal, lineterminator, quotechar, quoting, doublequote, escapechar, comment, encoding, encoding_errors, dialect, error_bad_lines, warn_bad_lines, on_bad_lines, delim_whitespace, low_memory, memory_map, float_precision, storage_options)\u001b[0m\n\u001b[1;32m    676\u001b[0m     \u001b[0mkwds\u001b[0m\u001b[0;34m.\u001b[0m\u001b[0mupdate\u001b[0m\u001b[0;34m(\u001b[0m\u001b[0mkwds_defaults\u001b[0m\u001b[0;34m)\u001b[0m\u001b[0;34m\u001b[0m\u001b[0;34m\u001b[0m\u001b[0m\n\u001b[1;32m    677\u001b[0m \u001b[0;34m\u001b[0m\u001b[0m\n\u001b[0;32m--> 678\u001b[0;31m     \u001b[0;32mreturn\u001b[0m \u001b[0m_read\u001b[0m\u001b[0;34m(\u001b[0m\u001b[0mfilepath_or_buffer\u001b[0m\u001b[0;34m,\u001b[0m \u001b[0mkwds\u001b[0m\u001b[0;34m)\u001b[0m\u001b[0;34m\u001b[0m\u001b[0;34m\u001b[0m\u001b[0m\n\u001b[0m\u001b[1;32m    679\u001b[0m \u001b[0;34m\u001b[0m\u001b[0m\n\u001b[1;32m    680\u001b[0m \u001b[0;34m\u001b[0m\u001b[0m\n",
            "\u001b[0;32m/usr/local/lib/python3.9/dist-packages/pandas/io/parsers/readers.py\u001b[0m in \u001b[0;36m_read\u001b[0;34m(filepath_or_buffer, kwds)\u001b[0m\n\u001b[1;32m    573\u001b[0m \u001b[0;34m\u001b[0m\u001b[0m\n\u001b[1;32m    574\u001b[0m     \u001b[0;31m# Create the parser.\u001b[0m\u001b[0;34m\u001b[0m\u001b[0;34m\u001b[0m\u001b[0m\n\u001b[0;32m--> 575\u001b[0;31m     \u001b[0mparser\u001b[0m \u001b[0;34m=\u001b[0m \u001b[0mTextFileReader\u001b[0m\u001b[0;34m(\u001b[0m\u001b[0mfilepath_or_buffer\u001b[0m\u001b[0;34m,\u001b[0m \u001b[0;34m**\u001b[0m\u001b[0mkwds\u001b[0m\u001b[0;34m)\u001b[0m\u001b[0;34m\u001b[0m\u001b[0;34m\u001b[0m\u001b[0m\n\u001b[0m\u001b[1;32m    576\u001b[0m \u001b[0;34m\u001b[0m\u001b[0m\n\u001b[1;32m    577\u001b[0m     \u001b[0;32mif\u001b[0m \u001b[0mchunksize\u001b[0m \u001b[0;32mor\u001b[0m \u001b[0miterator\u001b[0m\u001b[0;34m:\u001b[0m\u001b[0;34m\u001b[0m\u001b[0;34m\u001b[0m\u001b[0m\n",
            "\u001b[0;32m/usr/local/lib/python3.9/dist-packages/pandas/io/parsers/readers.py\u001b[0m in \u001b[0;36m__init__\u001b[0;34m(self, f, engine, **kwds)\u001b[0m\n\u001b[1;32m    930\u001b[0m \u001b[0;34m\u001b[0m\u001b[0m\n\u001b[1;32m    931\u001b[0m         \u001b[0mself\u001b[0m\u001b[0;34m.\u001b[0m\u001b[0mhandles\u001b[0m\u001b[0;34m:\u001b[0m \u001b[0mIOHandles\u001b[0m \u001b[0;34m|\u001b[0m \u001b[0;32mNone\u001b[0m \u001b[0;34m=\u001b[0m \u001b[0;32mNone\u001b[0m\u001b[0;34m\u001b[0m\u001b[0;34m\u001b[0m\u001b[0m\n\u001b[0;32m--> 932\u001b[0;31m         \u001b[0mself\u001b[0m\u001b[0;34m.\u001b[0m\u001b[0m_engine\u001b[0m \u001b[0;34m=\u001b[0m \u001b[0mself\u001b[0m\u001b[0;34m.\u001b[0m\u001b[0m_make_engine\u001b[0m\u001b[0;34m(\u001b[0m\u001b[0mf\u001b[0m\u001b[0;34m,\u001b[0m \u001b[0mself\u001b[0m\u001b[0;34m.\u001b[0m\u001b[0mengine\u001b[0m\u001b[0;34m)\u001b[0m\u001b[0;34m\u001b[0m\u001b[0;34m\u001b[0m\u001b[0m\n\u001b[0m\u001b[1;32m    933\u001b[0m \u001b[0;34m\u001b[0m\u001b[0m\n\u001b[1;32m    934\u001b[0m     \u001b[0;32mdef\u001b[0m \u001b[0mclose\u001b[0m\u001b[0;34m(\u001b[0m\u001b[0mself\u001b[0m\u001b[0;34m)\u001b[0m\u001b[0;34m:\u001b[0m\u001b[0;34m\u001b[0m\u001b[0;34m\u001b[0m\u001b[0m\n",
            "\u001b[0;32m/usr/local/lib/python3.9/dist-packages/pandas/io/parsers/readers.py\u001b[0m in \u001b[0;36m_make_engine\u001b[0;34m(self, f, engine)\u001b[0m\n\u001b[1;32m   1214\u001b[0m             \u001b[0;31m# \"Union[str, PathLike[str], ReadCsvBuffer[bytes], ReadCsvBuffer[str]]\"\u001b[0m\u001b[0;34m\u001b[0m\u001b[0;34m\u001b[0m\u001b[0m\n\u001b[1;32m   1215\u001b[0m             \u001b[0;31m# , \"str\", \"bool\", \"Any\", \"Any\", \"Any\", \"Any\", \"Any\"\u001b[0m\u001b[0;34m\u001b[0m\u001b[0;34m\u001b[0m\u001b[0m\n\u001b[0;32m-> 1216\u001b[0;31m             self.handles = get_handle(  # type: ignore[call-overload]\n\u001b[0m\u001b[1;32m   1217\u001b[0m                 \u001b[0mf\u001b[0m\u001b[0;34m,\u001b[0m\u001b[0;34m\u001b[0m\u001b[0;34m\u001b[0m\u001b[0m\n\u001b[1;32m   1218\u001b[0m                 \u001b[0mmode\u001b[0m\u001b[0;34m,\u001b[0m\u001b[0;34m\u001b[0m\u001b[0;34m\u001b[0m\u001b[0m\n",
            "\u001b[0;32m/usr/local/lib/python3.9/dist-packages/pandas/io/common.py\u001b[0m in \u001b[0;36mget_handle\u001b[0;34m(path_or_buf, mode, encoding, compression, memory_map, is_text, errors, storage_options)\u001b[0m\n\u001b[1;32m    784\u001b[0m         \u001b[0;32mif\u001b[0m \u001b[0mioargs\u001b[0m\u001b[0;34m.\u001b[0m\u001b[0mencoding\u001b[0m \u001b[0;32mand\u001b[0m \u001b[0;34m\"b\"\u001b[0m \u001b[0;32mnot\u001b[0m \u001b[0;32min\u001b[0m \u001b[0mioargs\u001b[0m\u001b[0;34m.\u001b[0m\u001b[0mmode\u001b[0m\u001b[0;34m:\u001b[0m\u001b[0;34m\u001b[0m\u001b[0;34m\u001b[0m\u001b[0m\n\u001b[1;32m    785\u001b[0m             \u001b[0;31m# Encoding\u001b[0m\u001b[0;34m\u001b[0m\u001b[0;34m\u001b[0m\u001b[0m\n\u001b[0;32m--> 786\u001b[0;31m             handle = open(\n\u001b[0m\u001b[1;32m    787\u001b[0m                 \u001b[0mhandle\u001b[0m\u001b[0;34m,\u001b[0m\u001b[0;34m\u001b[0m\u001b[0;34m\u001b[0m\u001b[0m\n\u001b[1;32m    788\u001b[0m                 \u001b[0mioargs\u001b[0m\u001b[0;34m.\u001b[0m\u001b[0mmode\u001b[0m\u001b[0;34m,\u001b[0m\u001b[0;34m\u001b[0m\u001b[0;34m\u001b[0m\u001b[0m\n",
            "\u001b[0;31mFileNotFoundError\u001b[0m: [Errno 2] No such file or directory: '/content/train.csv'"
          ]
        }
      ],
      "source": [
        "train_data = pd.read_csv('/content/train.csv')\n",
        "test_data = pd.read_csv('/content/test.csv')"
      ]
    },
    {
      "cell_type": "markdown",
      "metadata": {
        "id": "soFhmdzROQ9L"
      },
      "source": [
        "**EDA**"
      ]
    },
    {
      "cell_type": "code",
      "execution_count": null,
      "metadata": {
        "id": "VtAhZYgfOWVd"
      },
      "outputs": [],
      "source": [
        "train_data.shape"
      ]
    },
    {
      "cell_type": "code",
      "execution_count": null,
      "metadata": {
        "id": "apDLVnFIObCj"
      },
      "outputs": [],
      "source": [
        "test_data.shape"
      ]
    },
    {
      "cell_type": "code",
      "execution_count": null,
      "metadata": {
        "id": "SZb5H3FfOdu5"
      },
      "outputs": [],
      "source": [
        "train_data.info()"
      ]
    },
    {
      "cell_type": "code",
      "execution_count": null,
      "metadata": {
        "id": "NZbjXtoYOg9L"
      },
      "outputs": [],
      "source": [
        "train_data.describe()"
      ]
    },
    {
      "cell_type": "code",
      "execution_count": null,
      "metadata": {
        "id": "YKEUpPjjTO_B"
      },
      "outputs": [],
      "source": [
        "train_data.head(15)"
      ]
    },
    {
      "cell_type": "code",
      "execution_count": null,
      "metadata": {
        "id": "HmE50nTfTR5E"
      },
      "outputs": [],
      "source": [
        "test_data.head(15)"
      ]
    },
    {
      "cell_type": "code",
      "execution_count": null,
      "metadata": {
        "id": "SdI82bxUTXgi"
      },
      "outputs": [],
      "source": [
        "#checking for null values in train data\n",
        "train_data.isnull().sum()"
      ]
    },
    {
      "cell_type": "code",
      "execution_count": null,
      "metadata": {
        "id": "_OJkQ2YYTgCY"
      },
      "outputs": [],
      "source": [
        "#checking for null values in test data\n",
        "test_data.isnull().sum()"
      ]
    },
    {
      "cell_type": "code",
      "execution_count": null,
      "metadata": {
        "id": "O4OBYr8iOutr"
      },
      "outputs": [],
      "source": [
        "#checking for unique values\n",
        "train_data.nunique()"
      ]
    },
    {
      "cell_type": "code",
      "execution_count": null,
      "metadata": {
        "id": "96vSAFYLPXhk"
      },
      "outputs": [],
      "source": [
        "#checking for duplicate values\n",
        "train_data.duplicated().sum()"
      ]
    },
    {
      "cell_type": "code",
      "execution_count": null,
      "metadata": {
        "id": "7hfde_KjO8SO"
      },
      "outputs": [],
      "source": [
        "#unique values in country attribute\n",
        "train_data['country'].unique().tolist()"
      ]
    },
    {
      "cell_type": "code",
      "execution_count": null,
      "metadata": {
        "id": "Q9Yf1uAyUJ10"
      },
      "outputs": [],
      "source": [
        "train_data['country'].value_counts()"
      ]
    },
    {
      "cell_type": "code",
      "execution_count": null,
      "metadata": {
        "id": "rRuo5AVzPCYu"
      },
      "outputs": [],
      "source": [
        "#unique values in store attribute\n",
        "train_data['store'].unique().tolist()"
      ]
    },
    {
      "cell_type": "code",
      "execution_count": null,
      "metadata": {
        "id": "wsmNV_GIUnju"
      },
      "outputs": [],
      "source": [
        "train_data['store'].value_counts()"
      ]
    },
    {
      "cell_type": "code",
      "execution_count": null,
      "metadata": {
        "id": "s6NA8jKKPGjW"
      },
      "outputs": [],
      "source": [
        "#unique values in product attribute\n",
        "train_data['product'].unique().tolist()"
      ]
    },
    {
      "cell_type": "code",
      "execution_count": null,
      "metadata": {
        "id": "jNH3Ge6RUspZ"
      },
      "outputs": [],
      "source": [
        "train_data['product'].value_counts()"
      ]
    },
    {
      "cell_type": "code",
      "execution_count": null,
      "metadata": {
        "id": "sizLn7RpQamg"
      },
      "outputs": [],
      "source": [
        "print(\"Train Data start and end years area \" ,train_data['date'].min(), \"------>\",train_data['date'].max())"
      ]
    },
    {
      "cell_type": "code",
      "execution_count": null,
      "metadata": {
        "id": "Hx_wAMYWQwiO"
      },
      "outputs": [],
      "source": [
        "print(\"Test data start and end years are \",test_data['date'].min(),\"----->\",test_data['date'].max())"
      ]
    },
    {
      "cell_type": "markdown",
      "metadata": {
        "id": "pKfXtTAyQ_kF"
      },
      "source": [
        "Train data is from 2017 to 2020 and test data is from year 2020"
      ]
    },
    {
      "cell_type": "code",
      "execution_count": null,
      "metadata": {
        "id": "H4gCgZ0_S4-I"
      },
      "outputs": [],
      "source": [
        "# convert date column to datetime object\n",
        "train_data['date'] = pd.to_datetime(train_data['date'])\n",
        "test_data['date'] = pd.to_datetime(test_data['date'])"
      ]
    },
    {
      "cell_type": "code",
      "execution_count": null,
      "metadata": {
        "id": "1B9pMf40S_UU"
      },
      "outputs": [],
      "source": [
        "train_data.info()"
      ]
    },
    {
      "cell_type": "code",
      "execution_count": null,
      "metadata": {
        "id": "NseQ2qaRTDNw"
      },
      "outputs": [],
      "source": [
        "test_data.info()"
      ]
    },
    {
      "cell_type": "code",
      "execution_count": null,
      "metadata": {
        "id": "yNAUK0c-P_Z1"
      },
      "outputs": [],
      "source": [
        "#creating year month and day columns in train data\n",
        "train_data['year'] = train_data['date'].dt.year\n",
        "train_data['month'] = train_data['date'].dt.month\n",
        "train_data['day'] = train_data['date'].dt.day\n"
      ]
    },
    {
      "cell_type": "code",
      "execution_count": null,
      "metadata": {
        "id": "XrNMEbl0Thp0"
      },
      "outputs": [],
      "source": [
        "train_data.tail(15)"
      ]
    },
    {
      "cell_type": "code",
      "execution_count": null,
      "metadata": {
        "id": "QWpb0DQqTtot"
      },
      "outputs": [],
      "source": [
        "#creating year month and day columns in test data\n",
        "test_data['year'] = test_data['date'].dt.year\n",
        "test_data['month'] = test_data['date'].dt.month\n",
        "test_data['day'] = test_data['date'].dt.day"
      ]
    },
    {
      "cell_type": "code",
      "execution_count": null,
      "metadata": {
        "id": "hRB63pl7T2Kx"
      },
      "outputs": [],
      "source": [
        "test_data.tail(15)"
      ]
    },
    {
      "cell_type": "code",
      "execution_count": null,
      "metadata": {
        "id": "wUfBXeKnU-Hm"
      },
      "outputs": [],
      "source": [
        "# drop columns\n",
        "train_data.drop(['row_id'], axis=1, inplace=True)"
      ]
    },
    {
      "cell_type": "code",
      "execution_count": null,
      "metadata": {
        "id": "Apq0j-sIVkWb"
      },
      "outputs": [],
      "source": [
        "test_data.drop(['row_id'],axis = 1,inplace = True)"
      ]
    },
    {
      "cell_type": "markdown",
      "metadata": {
        "id": "LDG06pT4WE4A"
      },
      "source": [
        "**Visualization**"
      ]
    },
    {
      "cell_type": "code",
      "execution_count": null,
      "metadata": {
        "id": "frOMoLq8Ws28"
      },
      "outputs": [],
      "source": [
        "# Create a stacked bar chart to compare the sales of the four items between the two stores and the six countries\n",
        "plt.figure(figsize=(100, 100))\n",
        "train_data.groupby(['store', 'country', 'product'])['num_sold'].sum().unstack().plot(kind='bar', stacked=True)\n",
        "\n",
        "# Add a title and axis labels\n",
        "plt.title('Sales Comparison by Store, Country and Item')\n",
        "plt.xlabel('Store, Country')\n",
        "plt.ylabel('Total Sales')\n",
        "\n",
        "# Display the chart\n",
        "plt.show()\n"
      ]
    },
    {
      "cell_type": "code",
      "execution_count": null,
      "metadata": {
        "id": "stLNrZOFb2lR"
      },
      "outputs": [],
      "source": [
        "num_sold_store = train_data.groupby('store')['num_sold'].sum()\n",
        "num_sold_store"
      ]
    },
    {
      "cell_type": "code",
      "execution_count": null,
      "metadata": {
        "id": "cGKIRzAewg3y"
      },
      "outputs": [],
      "source": [
        "plt.figure(figsize=(7, 5))\n",
        "ax = sns.barplot(x = num_sold_store.sort_values().index, y = num_sold_store.sort_values())\n",
        "ax.set_title('The The number of items sold in each store', fontdict={'fontsize':18})"
      ]
    },
    {
      "cell_type": "markdown",
      "metadata": {
        "id": "6kSwNv0Iw3EO"
      },
      "source": [
        "KaggleMart sold high number of items than KaggleRama"
      ]
    },
    {
      "cell_type": "code",
      "execution_count": null,
      "metadata": {
        "id": "O3iMirNawu4x"
      },
      "outputs": [],
      "source": [
        "num_sold_country = train_data.groupby('country')['num_sold'].sum()\n",
        "num_sold_country"
      ]
    },
    {
      "cell_type": "code",
      "execution_count": null,
      "metadata": {
        "id": "3VJErTG3xIaV"
      },
      "outputs": [],
      "source": [
        "plt.figure(figsize=(7, 5))\n",
        "ax = sns.barplot(x = num_sold_country.sort_values().index, y = num_sold_country.sort_values())\n",
        "ax.set_title('The The number of items sold in each country', fontdict={'fontsize':18})"
      ]
    },
    {
      "cell_type": "markdown",
      "metadata": {
        "id": "AxJcYtUu2XC5"
      },
      "source": [
        "Belgium and Germany sold high number of products"
      ]
    },
    {
      "cell_type": "code",
      "execution_count": null,
      "metadata": {
        "id": "DdUtksHoxOrx"
      },
      "outputs": [],
      "source": [
        "num_sold_prod = train_data.groupby('product')['num_sold'].sum()\n",
        "num_sold_prod"
      ]
    },
    {
      "cell_type": "code",
      "execution_count": null,
      "metadata": {
        "id": "mWHpeZrOxgIL"
      },
      "outputs": [],
      "source": [
        "plt.figure(figsize=(15, 5))\n",
        "ax = sns.barplot(x = num_sold_prod.sort_values().index, y = num_sold_prod.sort_values())\n",
        "ax.set_title('The The number of items sold of each type', fontdict={'fontsize':18})"
      ]
    },
    {
      "cell_type": "markdown",
      "metadata": {
        "id": "B6uFf0ghxybT"
      },
      "source": [
        "Kaggle for kids : One Smart Goose is most sold product"
      ]
    },
    {
      "cell_type": "code",
      "execution_count": null,
      "metadata": {
        "id": "hmfv9krcxo45"
      },
      "outputs": [],
      "source": [
        "fig, ax = plt.subplots(figsize=(25,10))\n",
        "sns.barplot(data=train_data, y='num_sold', x='country', hue='product')"
      ]
    },
    {
      "cell_type": "code",
      "execution_count": null,
      "metadata": {
        "id": "ykBF7YZmybP1"
      },
      "outputs": [],
      "source": [
        "fig, ax = plt.subplots(figsize=(25,10))\n",
        "sns.barplot(data=train_data, y='num_sold', x='country', hue='store')"
      ]
    },
    {
      "cell_type": "code",
      "execution_count": null,
      "metadata": {
        "id": "_rAmCjluyk7O"
      },
      "outputs": [],
      "source": [
        "fig, ax = plt.subplots(figsize=(25,10))\n",
        "sns.barplot(data=train_data, y='num_sold', x='store', hue='product')"
      ]
    },
    {
      "cell_type": "code",
      "execution_count": null,
      "metadata": {
        "id": "dlt9HQkRy3p1"
      },
      "outputs": [],
      "source": [
        "num_sold_year = train_data.groupby('year')['num_sold'].sum()\n",
        "num_sold_year"
      ]
    },
    {
      "cell_type": "code",
      "execution_count": null,
      "metadata": {
        "id": "99IAgjcy0CYX"
      },
      "outputs": [],
      "source": [
        "plt.figure(figsize=(7, 5))\n",
        "ax = sns.lineplot(x = num_sold_year.sort_values().index, y = num_sold_prod.sort_values())\n",
        "ax.set_title('The The number of items sold in each year', fontdict={'fontsize':15})"
      ]
    },
    {
      "cell_type": "markdown",
      "metadata": {
        "id": "dS6HXhjA0zPn"
      },
      "source": [
        "Total number of items sold in year 2020 is high"
      ]
    },
    {
      "cell_type": "code",
      "execution_count": null,
      "metadata": {
        "id": "KPvjU5zc0U51"
      },
      "outputs": [],
      "source": [
        "num_sold_month = train_data.groupby('month')['num_sold'].sum()\n",
        "num_sold_month"
      ]
    },
    {
      "cell_type": "code",
      "execution_count": null,
      "metadata": {
        "id": "LGIBAFLe1Ohb"
      },
      "outputs": [],
      "source": [
        "fig, ax = plt.subplots(figsize=(25,10))\n",
        "sns.barplot(data=train_data, y='num_sold', x='month', hue='year')"
      ]
    },
    {
      "cell_type": "markdown",
      "metadata": {
        "id": "yLiJs_TJ2F8m"
      },
      "source": [
        "In January and december sales are high in every year"
      ]
    },
    {
      "cell_type": "code",
      "execution_count": null,
      "metadata": {
        "id": "oNMQq_r_24c8"
      },
      "outputs": [],
      "source": [
        "num_sold_date = train_data.groupby('date')['num_sold'].sum()\n",
        "num_sold_date"
      ]
    },
    {
      "cell_type": "code",
      "execution_count": null,
      "metadata": {
        "id": "Ds9TnJ-g87fE"
      },
      "outputs": [],
      "source": [
        "plt.figure(figsize=(15, 5))\n",
        "sns.barplot(data=train_data, x='day', y='num_sold')"
      ]
    },
    {
      "cell_type": "markdown",
      "metadata": {
        "id": "l82kUJzR9Oy_"
      },
      "source": [
        "Sales on 28,29,30,31 are high"
      ]
    },
    {
      "cell_type": "code",
      "execution_count": null,
      "metadata": {
        "id": "p3wKJHvD38l8"
      },
      "outputs": [],
      "source": [
        "plt.figure(figsize=(15, 5))\n",
        "ax = sns.lineplot(x = num_sold_date.sort_values().index, y = num_sold_date.sort_values())\n",
        "ax.set_title('The The number of items sold in each year', fontdict={'fontsize':15})"
      ]
    },
    {
      "cell_type": "markdown",
      "source": [
        "**Correlation map**"
      ],
      "metadata": {
        "id": "Pwv09XMMT-aa"
      }
    },
    {
      "cell_type": "code",
      "execution_count": null,
      "metadata": {
        "id": "5h-SslccdexB"
      },
      "outputs": [],
      "source": [
        "# Encoding the data using Label Encoder\n",
        "encoder = LabelEncoder()\n",
        "def encode_data(data, categories=['country', 'store', 'product']):\n",
        "    for cat in categories:\n",
        "        data[cat] = encoder.fit_transform(data[[cat]])\n",
        "    return data\n",
        "\n",
        "train_data = encode_data(train_data)\n",
        "test_data = encode_data(test_data)"
      ]
    },
    {
      "cell_type": "code",
      "execution_count": null,
      "metadata": {
        "id": "wR6kh_xddkcm"
      },
      "outputs": [],
      "source": [
        "plt.figure(figsize = (15,15))\n",
        "corr_matrix = train_data.corr()\n",
        "\n",
        "# Create heatmap\n",
        "sns.heatmap(corr_matrix,annot = True)\n",
        "\n",
        "# Show plot\n",
        "plt.show()"
      ]
    },
    {
      "cell_type": "markdown",
      "metadata": {
        "id": "6a8PLJ6texTH"
      },
      "source": [
        "Correlation map shows that 'num_sold' column is highly correlated with 'country','store','year'.\n",
        "\n",
        "We can drop 'row_id' column as it is weakly correlated with 'num_sold' column.\n",
        "\n",
        "Though 'product' column is weakly correlated with 'num_sold' we can directly drop that column. Instead we can first visualize how it varies with target column."
      ]
    },
    {
      "cell_type": "markdown",
      "metadata": {
        "id": "KGMeKodK77tw"
      },
      "source": [
        "**Preprocessing**"
      ]
    },
    {
      "cell_type": "code",
      "execution_count": null,
      "metadata": {
        "id": "nKfkdLNS8QyQ"
      },
      "outputs": [],
      "source": [
        "train_data.drop(['date'],axis = 1,inplace = True)"
      ]
    },
    {
      "cell_type": "code",
      "execution_count": null,
      "metadata": {
        "id": "rzB5H83H8blC"
      },
      "outputs": [],
      "source": [
        "test_data.drop(['date'],axis = 1,inplace = True)"
      ]
    },
    {
      "cell_type": "code",
      "execution_count": null,
      "metadata": {
        "id": "Phcxay9-8iGu"
      },
      "outputs": [],
      "source": [
        "train_data.drop(['day'],axis = 1,inplace = True)\n",
        "test_data.drop(['day'],axis = 1,inplace = True)"
      ]
    },
    {
      "cell_type": "code",
      "execution_count": null,
      "metadata": {
        "id": "WJrtogB89waR"
      },
      "outputs": [],
      "source": [
        "train_data.head()"
      ]
    },
    {
      "cell_type": "code",
      "execution_count": null,
      "metadata": {
        "id": "PEWjLAS290CT"
      },
      "outputs": [],
      "source": [
        "\n",
        "test_data.head()"
      ]
    },
    {
      "cell_type": "code",
      "execution_count": null,
      "metadata": {
        "id": "mZ1N80Ha_K05"
      },
      "outputs": [],
      "source": [
        "plt.figure(figsize = (15,15))\n",
        "corr_matrix = train_data.corr()\n",
        "\n",
        "# Create heatmap\n",
        "sns.heatmap(corr_matrix,annot = True)\n",
        "\n",
        "# Show plot\n",
        "plt.show()"
      ]
    },
    {
      "cell_type": "markdown",
      "metadata": {
        "id": "02Ks0OIV-M1F"
      },
      "source": [
        "**Train Test Split**"
      ]
    },
    {
      "cell_type": "code",
      "execution_count": null,
      "metadata": {
        "id": "ucpK_1dB91ac"
      },
      "outputs": [],
      "source": [
        "from sklearn.model_selection import train_test_split\n",
        "\n",
        "y = train_data['num_sold'] #target column\n",
        "X = train_data.drop(['num_sold'], axis =1)  #training columns\n",
        "\n",
        "X_train, X_val, y_train, y_val = train_test_split(X, y, test_size=0.2,random_state = 42)\n",
        "\n",
        "\n",
        "print(\"X-train shape :\", X_train.shape)\n",
        "print(\"y-train shape :\", y_train.shape)\n",
        "print(\"X-val shape :\", X_val.shape)\n",
        "print(\"y-val shape :\", y_val.shape)"
      ]
    },
    {
      "cell_type": "markdown",
      "metadata": {
        "id": "a0BFYKLM-gnJ"
      },
      "source": [
        "**Modelling**"
      ]
    },
    {
      "cell_type": "code",
      "execution_count": null,
      "metadata": {
        "id": "l_iuwaOCCcqc"
      },
      "outputs": [],
      "source": [
        "def mape(actual, pred):\n",
        "    actual, pred = np.array(actual), np.array(pred)\n",
        "    return np.mean(np.abs((actual - pred) / actual)) * 100"
      ]
    },
    {
      "cell_type": "markdown",
      "metadata": {
        "id": "geLKzYNExHE5"
      },
      "source": [
        "**Linear Regression**"
      ]
    },
    {
      "cell_type": "code",
      "execution_count": null,
      "metadata": {
        "id": "NTFbbLLc-Ya4",
        "colab": {
          "base_uri": "https://localhost:8080/"
        },
        "outputId": "2044c39a-5735-49aa-9d17-f9e90c54acc5"
      },
      "outputs": [
        {
          "output_type": "stream",
          "name": "stdout",
          "text": [
            "RMSE Score :  76.76921795839834\n",
            "Mean Absolute Percentage Error: 37.935438396473955\n",
            "Mean Absolute Error :  57.10750204039198\n",
            "r2 - Score : 0.6264958346796703\n"
          ]
        }
      ],
      "source": [
        "from sklearn.linear_model import LinearRegression\n",
        "LR_model = LinearRegression()\n",
        "\n",
        "LR_model.fit(X_train, y_train)\n",
        "\n",
        "# Predict target variable using fitted model on testing data\n",
        "y_pred = LR_model.predict(X_val)\n",
        "\n",
        "# Calculate evaluation metrics on testing data\n",
        "rmse = np.sqrt(mean_squared_error(y_val, y_pred))\n",
        "mape = np.mean(np.abs((y_val - y_pred) / y_val)) * 100\n",
        "mae = mean_absolute_error(y_val, y_pred)\n",
        "r2 = r2_score(y_val, y_pred)\n",
        "\n",
        "print('RMSE Score : ',rmse)\n",
        "print(\"Mean Absolute Percentage Error:\", mape)\n",
        "print('Mean Absolute Error : ',mae)\n",
        "print('r2 - Score :',r2)"
      ]
    },
    {
      "cell_type": "markdown",
      "metadata": {
        "id": "uBfeQBRozr1c"
      },
      "source": [
        "**Decision Tree Regressor**"
      ]
    },
    {
      "cell_type": "code",
      "execution_count": null,
      "metadata": {
        "id": "l74vrpCRzwM6",
        "colab": {
          "base_uri": "https://localhost:8080/"
        },
        "outputId": "827cc952-e580-42b4-8192-cc6a7e8f6d34"
      },
      "outputs": [
        {
          "output_type": "stream",
          "name": "stdout",
          "text": [
            "RMSE Score :  28.915451904340802\n",
            "Mean Absolute Percentage Error: 8.909509946772861\n",
            "Mean Absolute Error :  17.74743584685675\n",
            "r2 - Score : 0.947011553824499\n"
          ]
        }
      ],
      "source": [
        "from sklearn.tree import DecisionTreeRegressor\n",
        "from sklearn.metrics import mean_squared_error\n",
        "regressor = DecisionTreeRegressor()\n",
        "regressor.fit(X_train, y_train)\n",
        "\n",
        "# Predict target variable using fitted model on testing data\n",
        "y_pred = regressor.predict(X_val)\n",
        "rmse = np.sqrt(mean_squared_error(y_val, y_pred))\n",
        "mape = np.mean(np.abs((y_val - y_pred) / y_val)) * 100\n",
        "mae = mean_absolute_error(y_val, y_pred)\n",
        "r2 = r2_score(y_val, y_pred)\n",
        "\n",
        "print('RMSE Score : ',rmse)\n",
        "print(\"Mean Absolute Percentage Error:\", mape)\n",
        "print('Mean Absolute Error : ',mae)\n",
        "print('r2 - Score :',r2)"
      ]
    },
    {
      "cell_type": "markdown",
      "metadata": {
        "id": "vDefYc_WxZyh"
      },
      "source": [
        "**Random Forest Regressor**"
      ]
    },
    {
      "cell_type": "code",
      "execution_count": null,
      "metadata": {
        "id": "545YV9F7yFl8"
      },
      "outputs": [],
      "source": [
        "rf = RandomForestRegressor()"
      ]
    },
    {
      "cell_type": "code",
      "execution_count": null,
      "metadata": {
        "id": "n_MMWg6XyvJe"
      },
      "outputs": [],
      "source": [
        "param_grid = {\n",
        "    'n_estimators': [50, 100, 200],\n",
        "    'max_depth': [5, 10, 20, None],\n",
        "    'min_samples_split': [2, 5, 10],\n",
        "    'min_samples_leaf': [1, 2, 4],\n",
        "    'max_features': ['auto', 'sqrt']\n",
        "}"
      ]
    },
    {
      "cell_type": "code",
      "execution_count": null,
      "metadata": {
        "id": "CUwyk3VkywJc"
      },
      "outputs": [],
      "source": [
        "grid_search = GridSearchCV(estimator=rf, param_grid=param_grid, cv=5, n_jobs=-1)\n"
      ]
    },
    {
      "cell_type": "code",
      "execution_count": null,
      "metadata": {
        "id": "_keiPcD3yyt3"
      },
      "outputs": [],
      "source": [
        "grid_search.fit(X_train, y_train)\n"
      ]
    },
    {
      "cell_type": "code",
      "execution_count": null,
      "metadata": {
        "id": "ofPZKScay1AC"
      },
      "outputs": [],
      "source": [
        "best_params = grid_search.best_params_\n",
        "best_score = grid_search.best_score_\n"
      ]
    },
    {
      "cell_type": "code",
      "execution_count": null,
      "metadata": {
        "id": "6szN-SOmzSMe"
      },
      "outputs": [],
      "source": [
        "rf = RandomForestRegressor(**best_params)\n",
        "rf.fit(X_train, y_train)\n",
        "y_pred = rf.predict(X_val)\n"
      ]
    },
    {
      "cell_type": "code",
      "execution_count": null,
      "metadata": {
        "id": "_Y3Z3q-DDkMT"
      },
      "outputs": [],
      "source": [
        "rmse = np.sqrt(mean_squared_error(y_val, y_pred))\n",
        "mape = np.mean(np.abs((y_val - y_pred) / y_val)) * 100\n",
        "mae = mean_absolute_error(y_val, y_pred)\n",
        "r2 = r2_score(y_val, y_pred)\n",
        "\n",
        "print('RMSE Score : ',rmse)\n",
        "print(\"Mean Absolute Percentage Error:\", mape)\n",
        "print('Mean Absolute Error : ',mae)\n",
        "print('r2 - Score :',r2)"
      ]
    },
    {
      "cell_type": "markdown",
      "metadata": {
        "id": "JiwM04nTEc3V"
      },
      "source": [
        "**XGBoost Regressor**"
      ]
    },
    {
      "cell_type": "code",
      "execution_count": null,
      "metadata": {
        "id": "TV9X6CE_Dpxr"
      },
      "outputs": [],
      "source": [
        "import xgboost as xgb\n",
        "xg_reg = xgb.XGBRegressor(objective='reg:squarederror', n_estimators=1000, seed=42)\n",
        "\n",
        "xg_reg.fit(X_train, y_train)\n",
        "\n",
        "# Make predictions on the testing data\n",
        "y_pred = xg_reg.predict(X_val)"
      ]
    },
    {
      "cell_type": "code",
      "execution_count": null,
      "metadata": {
        "id": "4H2nDBfnE8Oq",
        "colab": {
          "base_uri": "https://localhost:8080/"
        },
        "outputId": "e2a7ba1a-24a2-4eb6-9d35-3df3dae9fb75"
      },
      "outputs": [
        {
          "output_type": "stream",
          "name": "stdout",
          "text": [
            "RMSE Score :  28.813780992901563\n",
            "Mean Absolute Percentage Error: 8.864921497352542\n",
            "Mean Absolute Error :  17.664706209765576\n",
            "r2 - Score : 0.9473835287966466\n"
          ]
        }
      ],
      "source": [
        "rmse = np.sqrt(mean_squared_error(y_val, y_pred))\n",
        "mape = np.mean(np.abs((y_val - y_pred) / y_val)) * 100\n",
        "mae = mean_absolute_error(y_val, y_pred)\n",
        "r2 = r2_score(y_val, y_pred)\n",
        "\n",
        "print('RMSE Score : ',rmse)\n",
        "print(\"Mean Absolute Percentage Error:\", mape)\n",
        "print('Mean Absolute Error : ',mae)\n",
        "print('r2 - Score :',r2)"
      ]
    },
    {
      "cell_type": "markdown",
      "metadata": {
        "id": "v3SoAMSAGqQw"
      },
      "source": [
        "**Submission**"
      ]
    },
    {
      "cell_type": "code",
      "execution_count": null,
      "metadata": {
        "id": "Z18eglorGjPQ"
      },
      "outputs": [],
      "source": [
        "Submission = pd.read_csv('/content/sample_submission.csv')"
      ]
    },
    {
      "cell_type": "code",
      "execution_count": null,
      "metadata": {
        "id": "JdyJJlx5HSfy"
      },
      "outputs": [],
      "source": [
        "test_data.columns"
      ]
    },
    {
      "cell_type": "code",
      "execution_count": null,
      "metadata": {
        "id": "l9eNt2sSI4Mn"
      },
      "outputs": [],
      "source": [
        "train_data.columns"
      ]
    },
    {
      "cell_type": "code",
      "execution_count": null,
      "metadata": {
        "id": "n5lmafDBI6yY"
      },
      "outputs": [],
      "source": [
        "Final_Prediction = xg_reg.predict(test_data)"
      ]
    },
    {
      "cell_type": "code",
      "execution_count": null,
      "metadata": {
        "id": "r5ceEXzqJE-8"
      },
      "outputs": [],
      "source": [
        "Submission.num_sold = Final_Prediction\n",
        "Submission.head()"
      ]
    },
    {
      "cell_type": "code",
      "execution_count": null,
      "metadata": {
        "id": "q_XNsv8MJPch"
      },
      "outputs": [],
      "source": [
        "Submission.shape"
      ]
    },
    {
      "cell_type": "code",
      "execution_count": null,
      "metadata": {
        "id": "heG9wx56JSwM"
      },
      "outputs": [],
      "source": [
        "Submission.to_csv(\"submission.csv\", index=False)"
      ]
    },
    {
      "cell_type": "code",
      "source": [],
      "metadata": {
        "id": "xyicsL0kKwa8"
      },
      "execution_count": null,
      "outputs": []
    }
  ],
  "metadata": {
    "colab": {
      "provenance": []
    },
    "kernelspec": {
      "display_name": "Python 3",
      "name": "python3"
    },
    "language_info": {
      "name": "python"
    },
    "accelerator": "GPU",
    "gpuClass": "standard"
  },
  "nbformat": 4,
  "nbformat_minor": 0
}