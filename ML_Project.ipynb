{
  "cells": [
    {
      "cell_type": "markdown",
      "metadata": {
        "id": "zj_Tgqu8OGFH"
      },
      "source": [
        "**Importing Libraries**"
      ]
    },
    {
      "cell_type": "code",
      "execution_count": 86,
      "metadata": {
        "id": "XqLS-Kr7SJf8"
      },
      "outputs": [],
      "source": [
        "import pandas as pd\n",
        "import numpy as np\n",
        "import matplotlib.pyplot as plt\n",
        "import seaborn as sns\n",
        "from sklearn.preprocessing import LabelEncoder, OneHotEncoder\n",
        "from sklearn.linear_model import LinearRegression\n",
        "from sklearn.metrics import f1_score\n",
        "from sklearn.metrics import mean_squared_error, mean_absolute_error, r2_score\n",
        "from sklearn.ensemble import RandomForestRegressor\n",
        "from sklearn.model_selection import GridSearchCV\n"
      ]
    },
    {
      "cell_type": "markdown",
      "metadata": {
        "id": "TuvGiby2OMgL"
      },
      "source": [
        "**Importing data**"
      ]
    },
    {
      "cell_type": "code",
      "execution_count": 87,
      "metadata": {
        "id": "HKRtbIrhS3UE"
      },
      "outputs": [],
      "source": [
        "train_data = pd.read_csv('train.csv')\n",
        "test_data = pd.read_csv('test.csv')"
      ]
    },
    {
      "cell_type": "markdown",
      "metadata": {
        "id": "soFhmdzROQ9L"
      },
      "source": [
        "**EDA**"
      ]
    },
    {
      "cell_type": "code",
      "execution_count": 88,
      "metadata": {
        "colab": {
          "base_uri": "https://localhost:8080/"
        },
        "id": "VtAhZYgfOWVd",
        "outputId": "882f0faf-44aa-4ca3-f0bb-e4969a9daca2"
      },
      "outputs": [
        {
          "data": {
            "text/plain": [
              "(70128, 6)"
            ]
          },
          "execution_count": 88,
          "metadata": {},
          "output_type": "execute_result"
        }
      ],
      "source": [
        "train_data.shape"
      ]
    },
    {
      "cell_type": "code",
      "execution_count": 89,
      "metadata": {
        "colab": {
          "base_uri": "https://localhost:8080/"
        },
        "id": "apDLVnFIObCj",
        "outputId": "6fe6145b-7006-4f61-d3bc-1ca2f07c1c10"
      },
      "outputs": [
        {
          "data": {
            "text/plain": [
              "(17520, 5)"
            ]
          },
          "execution_count": 89,
          "metadata": {},
          "output_type": "execute_result"
        }
      ],
      "source": [
        "test_data.shape"
      ]
    },
    {
      "cell_type": "code",
      "execution_count": 90,
      "metadata": {
        "colab": {
          "base_uri": "https://localhost:8080/"
        },
        "id": "SZb5H3FfOdu5",
        "outputId": "e67df765-5f1c-4408-b285-0a3076e42fe8"
      },
      "outputs": [
        {
          "name": "stdout",
          "output_type": "stream",
          "text": [
            "<class 'pandas.core.frame.DataFrame'>\n",
            "RangeIndex: 70128 entries, 0 to 70127\n",
            "Data columns (total 6 columns):\n",
            " #   Column    Non-Null Count  Dtype \n",
            "---  ------    --------------  ----- \n",
            " 0   row_id    70128 non-null  int64 \n",
            " 1   date      70128 non-null  object\n",
            " 2   country   70128 non-null  object\n",
            " 3   store     70128 non-null  object\n",
            " 4   product   70128 non-null  object\n",
            " 5   num_sold  70128 non-null  int64 \n",
            "dtypes: int64(2), object(4)\n",
            "memory usage: 3.2+ MB\n"
          ]
        }
      ],
      "source": [
        "train_data.info()"
      ]
    },
    {
      "cell_type": "code",
      "execution_count": 91,
      "metadata": {
        "colab": {
          "base_uri": "https://localhost:8080/",
          "height": 300
        },
        "id": "NZbjXtoYOg9L",
        "outputId": "360e5f3e-ceae-474b-d8f2-1b640cb018cd"
      },
      "outputs": [
        {
          "data": {
            "text/html": [
              "<div>\n",
              "<style scoped>\n",
              "    .dataframe tbody tr th:only-of-type {\n",
              "        vertical-align: middle;\n",
              "    }\n",
              "\n",
              "    .dataframe tbody tr th {\n",
              "        vertical-align: top;\n",
              "    }\n",
              "\n",
              "    .dataframe thead th {\n",
              "        text-align: right;\n",
              "    }\n",
              "</style>\n",
              "<table border=\"1\" class=\"dataframe\">\n",
              "  <thead>\n",
              "    <tr style=\"text-align: right;\">\n",
              "      <th></th>\n",
              "      <th>row_id</th>\n",
              "      <th>num_sold</th>\n",
              "    </tr>\n",
              "  </thead>\n",
              "  <tbody>\n",
              "    <tr>\n",
              "      <th>count</th>\n",
              "      <td>70128.000000</td>\n",
              "      <td>70128.000000</td>\n",
              "    </tr>\n",
              "    <tr>\n",
              "      <th>mean</th>\n",
              "      <td>35063.500000</td>\n",
              "      <td>194.296986</td>\n",
              "    </tr>\n",
              "    <tr>\n",
              "      <th>std</th>\n",
              "      <td>20244.354176</td>\n",
              "      <td>126.893874</td>\n",
              "    </tr>\n",
              "    <tr>\n",
              "      <th>min</th>\n",
              "      <td>0.000000</td>\n",
              "      <td>19.000000</td>\n",
              "    </tr>\n",
              "    <tr>\n",
              "      <th>25%</th>\n",
              "      <td>17531.750000</td>\n",
              "      <td>95.000000</td>\n",
              "    </tr>\n",
              "    <tr>\n",
              "      <th>50%</th>\n",
              "      <td>35063.500000</td>\n",
              "      <td>148.000000</td>\n",
              "    </tr>\n",
              "    <tr>\n",
              "      <th>75%</th>\n",
              "      <td>52595.250000</td>\n",
              "      <td>283.000000</td>\n",
              "    </tr>\n",
              "    <tr>\n",
              "      <th>max</th>\n",
              "      <td>70127.000000</td>\n",
              "      <td>986.000000</td>\n",
              "    </tr>\n",
              "  </tbody>\n",
              "</table>\n",
              "</div>"
            ],
            "text/plain": [
              "             row_id      num_sold\n",
              "count  70128.000000  70128.000000\n",
              "mean   35063.500000    194.296986\n",
              "std    20244.354176    126.893874\n",
              "min        0.000000     19.000000\n",
              "25%    17531.750000     95.000000\n",
              "50%    35063.500000    148.000000\n",
              "75%    52595.250000    283.000000\n",
              "max    70127.000000    986.000000"
            ]
          },
          "execution_count": 91,
          "metadata": {},
          "output_type": "execute_result"
        }
      ],
      "source": [
        "train_data.describe()"
      ]
    },
    {
      "cell_type": "code",
      "execution_count": 92,
      "metadata": {
        "colab": {
          "base_uri": "https://localhost:8080/",
          "height": 519
        },
        "id": "YKEUpPjjTO_B",
        "outputId": "d042524e-f781-490c-b14d-87f1a5b6aeca"
      },
      "outputs": [
        {
          "data": {
            "text/html": [
              "<div>\n",
              "<style scoped>\n",
              "    .dataframe tbody tr th:only-of-type {\n",
              "        vertical-align: middle;\n",
              "    }\n",
              "\n",
              "    .dataframe tbody tr th {\n",
              "        vertical-align: top;\n",
              "    }\n",
              "\n",
              "    .dataframe thead th {\n",
              "        text-align: right;\n",
              "    }\n",
              "</style>\n",
              "<table border=\"1\" class=\"dataframe\">\n",
              "  <thead>\n",
              "    <tr style=\"text-align: right;\">\n",
              "      <th></th>\n",
              "      <th>row_id</th>\n",
              "      <th>date</th>\n",
              "      <th>country</th>\n",
              "      <th>store</th>\n",
              "      <th>product</th>\n",
              "      <th>num_sold</th>\n",
              "    </tr>\n",
              "  </thead>\n",
              "  <tbody>\n",
              "    <tr>\n",
              "      <th>0</th>\n",
              "      <td>0</td>\n",
              "      <td>2017-01-01</td>\n",
              "      <td>Belgium</td>\n",
              "      <td>KaggleMart</td>\n",
              "      <td>Kaggle Advanced Techniques</td>\n",
              "      <td>663</td>\n",
              "    </tr>\n",
              "    <tr>\n",
              "      <th>1</th>\n",
              "      <td>1</td>\n",
              "      <td>2017-01-01</td>\n",
              "      <td>Belgium</td>\n",
              "      <td>KaggleMart</td>\n",
              "      <td>Kaggle Getting Started</td>\n",
              "      <td>615</td>\n",
              "    </tr>\n",
              "    <tr>\n",
              "      <th>2</th>\n",
              "      <td>2</td>\n",
              "      <td>2017-01-01</td>\n",
              "      <td>Belgium</td>\n",
              "      <td>KaggleMart</td>\n",
              "      <td>Kaggle Recipe Book</td>\n",
              "      <td>480</td>\n",
              "    </tr>\n",
              "    <tr>\n",
              "      <th>3</th>\n",
              "      <td>3</td>\n",
              "      <td>2017-01-01</td>\n",
              "      <td>Belgium</td>\n",
              "      <td>KaggleMart</td>\n",
              "      <td>Kaggle for Kids: One Smart Goose</td>\n",
              "      <td>710</td>\n",
              "    </tr>\n",
              "    <tr>\n",
              "      <th>4</th>\n",
              "      <td>4</td>\n",
              "      <td>2017-01-01</td>\n",
              "      <td>Belgium</td>\n",
              "      <td>KaggleRama</td>\n",
              "      <td>Kaggle Advanced Techniques</td>\n",
              "      <td>240</td>\n",
              "    </tr>\n",
              "    <tr>\n",
              "      <th>5</th>\n",
              "      <td>5</td>\n",
              "      <td>2017-01-01</td>\n",
              "      <td>Belgium</td>\n",
              "      <td>KaggleRama</td>\n",
              "      <td>Kaggle Getting Started</td>\n",
              "      <td>187</td>\n",
              "    </tr>\n",
              "    <tr>\n",
              "      <th>6</th>\n",
              "      <td>6</td>\n",
              "      <td>2017-01-01</td>\n",
              "      <td>Belgium</td>\n",
              "      <td>KaggleRama</td>\n",
              "      <td>Kaggle Recipe Book</td>\n",
              "      <td>158</td>\n",
              "    </tr>\n",
              "    <tr>\n",
              "      <th>7</th>\n",
              "      <td>7</td>\n",
              "      <td>2017-01-01</td>\n",
              "      <td>Belgium</td>\n",
              "      <td>KaggleRama</td>\n",
              "      <td>Kaggle for Kids: One Smart Goose</td>\n",
              "      <td>267</td>\n",
              "    </tr>\n",
              "    <tr>\n",
              "      <th>8</th>\n",
              "      <td>8</td>\n",
              "      <td>2017-01-01</td>\n",
              "      <td>France</td>\n",
              "      <td>KaggleMart</td>\n",
              "      <td>Kaggle Advanced Techniques</td>\n",
              "      <td>610</td>\n",
              "    </tr>\n",
              "    <tr>\n",
              "      <th>9</th>\n",
              "      <td>9</td>\n",
              "      <td>2017-01-01</td>\n",
              "      <td>France</td>\n",
              "      <td>KaggleMart</td>\n",
              "      <td>Kaggle Getting Started</td>\n",
              "      <td>463</td>\n",
              "    </tr>\n",
              "    <tr>\n",
              "      <th>10</th>\n",
              "      <td>10</td>\n",
              "      <td>2017-01-01</td>\n",
              "      <td>France</td>\n",
              "      <td>KaggleMart</td>\n",
              "      <td>Kaggle Recipe Book</td>\n",
              "      <td>407</td>\n",
              "    </tr>\n",
              "    <tr>\n",
              "      <th>11</th>\n",
              "      <td>11</td>\n",
              "      <td>2017-01-01</td>\n",
              "      <td>France</td>\n",
              "      <td>KaggleMart</td>\n",
              "      <td>Kaggle for Kids: One Smart Goose</td>\n",
              "      <td>672</td>\n",
              "    </tr>\n",
              "    <tr>\n",
              "      <th>12</th>\n",
              "      <td>12</td>\n",
              "      <td>2017-01-01</td>\n",
              "      <td>France</td>\n",
              "      <td>KaggleRama</td>\n",
              "      <td>Kaggle Advanced Techniques</td>\n",
              "      <td>220</td>\n",
              "    </tr>\n",
              "    <tr>\n",
              "      <th>13</th>\n",
              "      <td>13</td>\n",
              "      <td>2017-01-01</td>\n",
              "      <td>France</td>\n",
              "      <td>KaggleRama</td>\n",
              "      <td>Kaggle Getting Started</td>\n",
              "      <td>172</td>\n",
              "    </tr>\n",
              "    <tr>\n",
              "      <th>14</th>\n",
              "      <td>14</td>\n",
              "      <td>2017-01-01</td>\n",
              "      <td>France</td>\n",
              "      <td>KaggleRama</td>\n",
              "      <td>Kaggle Recipe Book</td>\n",
              "      <td>140</td>\n",
              "    </tr>\n",
              "  </tbody>\n",
              "</table>\n",
              "</div>"
            ],
            "text/plain": [
              "    row_id        date  country       store                           product  \\\n",
              "0        0  2017-01-01  Belgium  KaggleMart        Kaggle Advanced Techniques   \n",
              "1        1  2017-01-01  Belgium  KaggleMart            Kaggle Getting Started   \n",
              "2        2  2017-01-01  Belgium  KaggleMart                Kaggle Recipe Book   \n",
              "3        3  2017-01-01  Belgium  KaggleMart  Kaggle for Kids: One Smart Goose   \n",
              "4        4  2017-01-01  Belgium  KaggleRama        Kaggle Advanced Techniques   \n",
              "5        5  2017-01-01  Belgium  KaggleRama            Kaggle Getting Started   \n",
              "6        6  2017-01-01  Belgium  KaggleRama                Kaggle Recipe Book   \n",
              "7        7  2017-01-01  Belgium  KaggleRama  Kaggle for Kids: One Smart Goose   \n",
              "8        8  2017-01-01   France  KaggleMart        Kaggle Advanced Techniques   \n",
              "9        9  2017-01-01   France  KaggleMart            Kaggle Getting Started   \n",
              "10      10  2017-01-01   France  KaggleMart                Kaggle Recipe Book   \n",
              "11      11  2017-01-01   France  KaggleMart  Kaggle for Kids: One Smart Goose   \n",
              "12      12  2017-01-01   France  KaggleRama        Kaggle Advanced Techniques   \n",
              "13      13  2017-01-01   France  KaggleRama            Kaggle Getting Started   \n",
              "14      14  2017-01-01   France  KaggleRama                Kaggle Recipe Book   \n",
              "\n",
              "    num_sold  \n",
              "0        663  \n",
              "1        615  \n",
              "2        480  \n",
              "3        710  \n",
              "4        240  \n",
              "5        187  \n",
              "6        158  \n",
              "7        267  \n",
              "8        610  \n",
              "9        463  \n",
              "10       407  \n",
              "11       672  \n",
              "12       220  \n",
              "13       172  \n",
              "14       140  "
            ]
          },
          "execution_count": 92,
          "metadata": {},
          "output_type": "execute_result"
        }
      ],
      "source": [
        "train_data.head(15)"
      ]
    },
    {
      "cell_type": "code",
      "execution_count": 93,
      "metadata": {
        "colab": {
          "base_uri": "https://localhost:8080/",
          "height": 519
        },
        "id": "HmE50nTfTR5E",
        "outputId": "f626ce6b-bdae-4faa-cb0d-7e088f965df0"
      },
      "outputs": [
        {
          "data": {
            "text/html": [
              "<div>\n",
              "<style scoped>\n",
              "    .dataframe tbody tr th:only-of-type {\n",
              "        vertical-align: middle;\n",
              "    }\n",
              "\n",
              "    .dataframe tbody tr th {\n",
              "        vertical-align: top;\n",
              "    }\n",
              "\n",
              "    .dataframe thead th {\n",
              "        text-align: right;\n",
              "    }\n",
              "</style>\n",
              "<table border=\"1\" class=\"dataframe\">\n",
              "  <thead>\n",
              "    <tr style=\"text-align: right;\">\n",
              "      <th></th>\n",
              "      <th>row_id</th>\n",
              "      <th>date</th>\n",
              "      <th>country</th>\n",
              "      <th>store</th>\n",
              "      <th>product</th>\n",
              "    </tr>\n",
              "  </thead>\n",
              "  <tbody>\n",
              "    <tr>\n",
              "      <th>0</th>\n",
              "      <td>70128</td>\n",
              "      <td>2021-01-01</td>\n",
              "      <td>Belgium</td>\n",
              "      <td>KaggleMart</td>\n",
              "      <td>Kaggle Advanced Techniques</td>\n",
              "    </tr>\n",
              "    <tr>\n",
              "      <th>1</th>\n",
              "      <td>70129</td>\n",
              "      <td>2021-01-01</td>\n",
              "      <td>Belgium</td>\n",
              "      <td>KaggleMart</td>\n",
              "      <td>Kaggle Getting Started</td>\n",
              "    </tr>\n",
              "    <tr>\n",
              "      <th>2</th>\n",
              "      <td>70130</td>\n",
              "      <td>2021-01-01</td>\n",
              "      <td>Belgium</td>\n",
              "      <td>KaggleMart</td>\n",
              "      <td>Kaggle Recipe Book</td>\n",
              "    </tr>\n",
              "    <tr>\n",
              "      <th>3</th>\n",
              "      <td>70131</td>\n",
              "      <td>2021-01-01</td>\n",
              "      <td>Belgium</td>\n",
              "      <td>KaggleMart</td>\n",
              "      <td>Kaggle for Kids: One Smart Goose</td>\n",
              "    </tr>\n",
              "    <tr>\n",
              "      <th>4</th>\n",
              "      <td>70132</td>\n",
              "      <td>2021-01-01</td>\n",
              "      <td>Belgium</td>\n",
              "      <td>KaggleRama</td>\n",
              "      <td>Kaggle Advanced Techniques</td>\n",
              "    </tr>\n",
              "    <tr>\n",
              "      <th>5</th>\n",
              "      <td>70133</td>\n",
              "      <td>2021-01-01</td>\n",
              "      <td>Belgium</td>\n",
              "      <td>KaggleRama</td>\n",
              "      <td>Kaggle Getting Started</td>\n",
              "    </tr>\n",
              "    <tr>\n",
              "      <th>6</th>\n",
              "      <td>70134</td>\n",
              "      <td>2021-01-01</td>\n",
              "      <td>Belgium</td>\n",
              "      <td>KaggleRama</td>\n",
              "      <td>Kaggle Recipe Book</td>\n",
              "    </tr>\n",
              "    <tr>\n",
              "      <th>7</th>\n",
              "      <td>70135</td>\n",
              "      <td>2021-01-01</td>\n",
              "      <td>Belgium</td>\n",
              "      <td>KaggleRama</td>\n",
              "      <td>Kaggle for Kids: One Smart Goose</td>\n",
              "    </tr>\n",
              "    <tr>\n",
              "      <th>8</th>\n",
              "      <td>70136</td>\n",
              "      <td>2021-01-01</td>\n",
              "      <td>France</td>\n",
              "      <td>KaggleMart</td>\n",
              "      <td>Kaggle Advanced Techniques</td>\n",
              "    </tr>\n",
              "    <tr>\n",
              "      <th>9</th>\n",
              "      <td>70137</td>\n",
              "      <td>2021-01-01</td>\n",
              "      <td>France</td>\n",
              "      <td>KaggleMart</td>\n",
              "      <td>Kaggle Getting Started</td>\n",
              "    </tr>\n",
              "    <tr>\n",
              "      <th>10</th>\n",
              "      <td>70138</td>\n",
              "      <td>2021-01-01</td>\n",
              "      <td>France</td>\n",
              "      <td>KaggleMart</td>\n",
              "      <td>Kaggle Recipe Book</td>\n",
              "    </tr>\n",
              "    <tr>\n",
              "      <th>11</th>\n",
              "      <td>70139</td>\n",
              "      <td>2021-01-01</td>\n",
              "      <td>France</td>\n",
              "      <td>KaggleMart</td>\n",
              "      <td>Kaggle for Kids: One Smart Goose</td>\n",
              "    </tr>\n",
              "    <tr>\n",
              "      <th>12</th>\n",
              "      <td>70140</td>\n",
              "      <td>2021-01-01</td>\n",
              "      <td>France</td>\n",
              "      <td>KaggleRama</td>\n",
              "      <td>Kaggle Advanced Techniques</td>\n",
              "    </tr>\n",
              "    <tr>\n",
              "      <th>13</th>\n",
              "      <td>70141</td>\n",
              "      <td>2021-01-01</td>\n",
              "      <td>France</td>\n",
              "      <td>KaggleRama</td>\n",
              "      <td>Kaggle Getting Started</td>\n",
              "    </tr>\n",
              "    <tr>\n",
              "      <th>14</th>\n",
              "      <td>70142</td>\n",
              "      <td>2021-01-01</td>\n",
              "      <td>France</td>\n",
              "      <td>KaggleRama</td>\n",
              "      <td>Kaggle Recipe Book</td>\n",
              "    </tr>\n",
              "  </tbody>\n",
              "</table>\n",
              "</div>"
            ],
            "text/plain": [
              "    row_id        date  country       store                           product\n",
              "0    70128  2021-01-01  Belgium  KaggleMart        Kaggle Advanced Techniques\n",
              "1    70129  2021-01-01  Belgium  KaggleMart            Kaggle Getting Started\n",
              "2    70130  2021-01-01  Belgium  KaggleMart                Kaggle Recipe Book\n",
              "3    70131  2021-01-01  Belgium  KaggleMart  Kaggle for Kids: One Smart Goose\n",
              "4    70132  2021-01-01  Belgium  KaggleRama        Kaggle Advanced Techniques\n",
              "5    70133  2021-01-01  Belgium  KaggleRama            Kaggle Getting Started\n",
              "6    70134  2021-01-01  Belgium  KaggleRama                Kaggle Recipe Book\n",
              "7    70135  2021-01-01  Belgium  KaggleRama  Kaggle for Kids: One Smart Goose\n",
              "8    70136  2021-01-01   France  KaggleMart        Kaggle Advanced Techniques\n",
              "9    70137  2021-01-01   France  KaggleMart            Kaggle Getting Started\n",
              "10   70138  2021-01-01   France  KaggleMart                Kaggle Recipe Book\n",
              "11   70139  2021-01-01   France  KaggleMart  Kaggle for Kids: One Smart Goose\n",
              "12   70140  2021-01-01   France  KaggleRama        Kaggle Advanced Techniques\n",
              "13   70141  2021-01-01   France  KaggleRama            Kaggle Getting Started\n",
              "14   70142  2021-01-01   France  KaggleRama                Kaggle Recipe Book"
            ]
          },
          "execution_count": 93,
          "metadata": {},
          "output_type": "execute_result"
        }
      ],
      "source": [
        "test_data.head(15)"
      ]
    },
    {
      "cell_type": "code",
      "execution_count": 94,
      "metadata": {
        "colab": {
          "base_uri": "https://localhost:8080/"
        },
        "id": "SdI82bxUTXgi",
        "outputId": "ddea3b81-c3a5-4679-aff9-3590730c0558"
      },
      "outputs": [
        {
          "data": {
            "text/plain": [
              "row_id      0\n",
              "date        0\n",
              "country     0\n",
              "store       0\n",
              "product     0\n",
              "num_sold    0\n",
              "dtype: int64"
            ]
          },
          "execution_count": 94,
          "metadata": {},
          "output_type": "execute_result"
        }
      ],
      "source": [
        "#checking for null values in train data\n",
        "train_data.isnull().sum()\n"
      ]
    },
    {
      "cell_type": "code",
      "execution_count": 95,
      "metadata": {
        "colab": {
          "base_uri": "https://localhost:8080/"
        },
        "id": "_OJkQ2YYTgCY",
        "outputId": "c42e0dd9-eaa8-40dd-cf1d-a821710b4bad"
      },
      "outputs": [
        {
          "data": {
            "text/plain": [
              "row_id     0\n",
              "date       0\n",
              "country    0\n",
              "store      0\n",
              "product    0\n",
              "dtype: int64"
            ]
          },
          "execution_count": 95,
          "metadata": {},
          "output_type": "execute_result"
        }
      ],
      "source": [
        "#checking for null values in test data\n",
        "test_data.isnull().sum()"
      ]
    },
    {
      "cell_type": "code",
      "execution_count": 96,
      "metadata": {
        "colab": {
          "base_uri": "https://localhost:8080/"
        },
        "id": "O4OBYr8iOutr",
        "outputId": "0571972c-e43d-4725-f5b9-f1f161bf921d"
      },
      "outputs": [
        {
          "data": {
            "text/plain": [
              "row_id      70128\n",
              "date         1461\n",
              "country         6\n",
              "store           2\n",
              "product         4\n",
              "num_sold      699\n",
              "dtype: int64"
            ]
          },
          "execution_count": 96,
          "metadata": {},
          "output_type": "execute_result"
        }
      ],
      "source": [
        "#checking for unique values\n",
        "train_data.nunique()"
      ]
    },
    {
      "cell_type": "code",
      "execution_count": 97,
      "metadata": {
        "colab": {
          "base_uri": "https://localhost:8080/"
        },
        "id": "96vSAFYLPXhk",
        "outputId": "5e28bcdf-88d3-4c20-9575-6da378bc144c"
      },
      "outputs": [
        {
          "data": {
            "text/plain": [
              "0"
            ]
          },
          "execution_count": 97,
          "metadata": {},
          "output_type": "execute_result"
        }
      ],
      "source": [
        "#checking for duplicate values\n",
        "train_data.duplicated().sum()"
      ]
    },
    {
      "cell_type": "code",
      "execution_count": 98,
      "metadata": {
        "colab": {
          "base_uri": "https://localhost:8080/"
        },
        "id": "7hfde_KjO8SO",
        "outputId": "1a92a6f5-aafb-4ad0-dca7-0d25a75b6e0a"
      },
      "outputs": [
        {
          "data": {
            "text/plain": [
              "['Belgium', 'France', 'Germany', 'Italy', 'Poland', 'Spain']"
            ]
          },
          "execution_count": 98,
          "metadata": {},
          "output_type": "execute_result"
        }
      ],
      "source": [
        "#unique values in country attribute\n",
        "train_data['country'].unique().tolist()"
      ]
    },
    {
      "cell_type": "code",
      "execution_count": 99,
      "metadata": {
        "colab": {
          "base_uri": "https://localhost:8080/"
        },
        "id": "Q9Yf1uAyUJ10",
        "outputId": "a520dab6-57da-4033-9004-d08517803485"
      },
      "outputs": [
        {
          "data": {
            "text/plain": [
              "Belgium    11688\n",
              "France     11688\n",
              "Germany    11688\n",
              "Italy      11688\n",
              "Poland     11688\n",
              "Spain      11688\n",
              "Name: country, dtype: int64"
            ]
          },
          "execution_count": 99,
          "metadata": {},
          "output_type": "execute_result"
        }
      ],
      "source": [
        "train_data['country'].value_counts()"
      ]
    },
    {
      "cell_type": "code",
      "execution_count": 100,
      "metadata": {
        "colab": {
          "base_uri": "https://localhost:8080/"
        },
        "id": "rRuo5AVzPCYu",
        "outputId": "5f44f3be-c91e-40c2-976a-48150c02a044"
      },
      "outputs": [
        {
          "data": {
            "text/plain": [
              "['KaggleMart', 'KaggleRama']"
            ]
          },
          "execution_count": 100,
          "metadata": {},
          "output_type": "execute_result"
        }
      ],
      "source": [
        "#unique values in store attribute\n",
        "train_data['store'].unique().tolist()"
      ]
    },
    {
      "cell_type": "code",
      "execution_count": 101,
      "metadata": {
        "colab": {
          "base_uri": "https://localhost:8080/"
        },
        "id": "wsmNV_GIUnju",
        "outputId": "074a2501-5a78-4b11-dedd-3b0d9a11edf3"
      },
      "outputs": [
        {
          "data": {
            "text/plain": [
              "KaggleMart    35064\n",
              "KaggleRama    35064\n",
              "Name: store, dtype: int64"
            ]
          },
          "execution_count": 101,
          "metadata": {},
          "output_type": "execute_result"
        }
      ],
      "source": [
        "\n",
        "train_data['store'].value_counts()"
      ]
    },
    {
      "cell_type": "code",
      "execution_count": 102,
      "metadata": {
        "colab": {
          "base_uri": "https://localhost:8080/"
        },
        "id": "s6NA8jKKPGjW",
        "outputId": "afb5706e-e5c8-436a-cd75-ba5fbb1902ac"
      },
      "outputs": [
        {
          "data": {
            "text/plain": [
              "['Kaggle Advanced Techniques',\n",
              " 'Kaggle Getting Started',\n",
              " 'Kaggle Recipe Book',\n",
              " 'Kaggle for Kids: One Smart Goose']"
            ]
          },
          "execution_count": 102,
          "metadata": {},
          "output_type": "execute_result"
        }
      ],
      "source": [
        "#unique values in product attribute\n",
        "train_data['product'].unique().tolist()"
      ]
    },
    {
      "cell_type": "code",
      "execution_count": 103,
      "metadata": {
        "colab": {
          "base_uri": "https://localhost:8080/"
        },
        "id": "jNH3Ge6RUspZ",
        "outputId": "147660f0-3a09-45a4-bd9b-4c4c348a1671"
      },
      "outputs": [
        {
          "data": {
            "text/plain": [
              "Kaggle Advanced Techniques          17532\n",
              "Kaggle Getting Started              17532\n",
              "Kaggle Recipe Book                  17532\n",
              "Kaggle for Kids: One Smart Goose    17532\n",
              "Name: product, dtype: int64"
            ]
          },
          "execution_count": 103,
          "metadata": {},
          "output_type": "execute_result"
        }
      ],
      "source": [
        "train_data['product'].value_counts()"
      ]
    },
    {
      "cell_type": "code",
      "execution_count": 104,
      "metadata": {
        "colab": {
          "base_uri": "https://localhost:8080/"
        },
        "id": "sizLn7RpQamg",
        "outputId": "dde0d18e-2a74-45f6-c0cb-0b78779b37c8"
      },
      "outputs": [
        {
          "name": "stdout",
          "output_type": "stream",
          "text": [
            "Train Data start and end years area  2017-01-01 ------> 2020-12-31\n"
          ]
        }
      ],
      "source": [
        "print(\"Train Data start and end years area \" ,train_data['date'].min(), \"------>\",train_data['date'].max())"
      ]
    },
    {
      "cell_type": "code",
      "execution_count": 105,
      "metadata": {
        "colab": {
          "base_uri": "https://localhost:8080/"
        },
        "id": "Hx_wAMYWQwiO",
        "outputId": "64826b4e-8ceb-4a39-aa10-4472f2716923"
      },
      "outputs": [
        {
          "name": "stdout",
          "output_type": "stream",
          "text": [
            "Test data start and end years are  2021-01-01 -----> 2021-12-31\n"
          ]
        }
      ],
      "source": [
        "print(\"Test data start and end years are \",test_data['date'].min(),\"----->\",test_data['date'].max())"
      ]
    },
    {
      "cell_type": "markdown",
      "metadata": {
        "id": "pKfXtTAyQ_kF"
      },
      "source": [
        "Train data is from 2017 to 2020 and test data is from year 2020"
      ]
    },
    {
      "cell_type": "code",
      "execution_count": 106,
      "metadata": {
        "id": "H4gCgZ0_S4-I"
      },
      "outputs": [],
      "source": [
        "# convert date column to datetime object\n",
        "train_data['date'] = pd.to_datetime(train_data['date'])\n",
        "test_data['date'] = pd.to_datetime(test_data['date'])"
      ]
    },
    {
      "cell_type": "code",
      "execution_count": 107,
      "metadata": {
        "colab": {
          "base_uri": "https://localhost:8080/"
        },
        "id": "1B9pMf40S_UU",
        "outputId": "19065299-0e87-49d2-b3dd-e927f5e72719"
      },
      "outputs": [
        {
          "name": "stdout",
          "output_type": "stream",
          "text": [
            "<class 'pandas.core.frame.DataFrame'>\n",
            "RangeIndex: 70128 entries, 0 to 70127\n",
            "Data columns (total 6 columns):\n",
            " #   Column    Non-Null Count  Dtype         \n",
            "---  ------    --------------  -----         \n",
            " 0   row_id    70128 non-null  int64         \n",
            " 1   date      70128 non-null  datetime64[ns]\n",
            " 2   country   70128 non-null  object        \n",
            " 3   store     70128 non-null  object        \n",
            " 4   product   70128 non-null  object        \n",
            " 5   num_sold  70128 non-null  int64         \n",
            "dtypes: datetime64[ns](1), int64(2), object(3)\n",
            "memory usage: 3.2+ MB\n"
          ]
        }
      ],
      "source": [
        "train_data.info()"
      ]
    },
    {
      "cell_type": "code",
      "execution_count": 108,
      "metadata": {
        "colab": {
          "base_uri": "https://localhost:8080/"
        },
        "id": "NseQ2qaRTDNw",
        "outputId": "1caf8ba2-ba04-4af6-8df0-5dd11e148114"
      },
      "outputs": [
        {
          "name": "stdout",
          "output_type": "stream",
          "text": [
            "<class 'pandas.core.frame.DataFrame'>\n",
            "RangeIndex: 17520 entries, 0 to 17519\n",
            "Data columns (total 5 columns):\n",
            " #   Column   Non-Null Count  Dtype         \n",
            "---  ------   --------------  -----         \n",
            " 0   row_id   17520 non-null  int64         \n",
            " 1   date     17520 non-null  datetime64[ns]\n",
            " 2   country  17520 non-null  object        \n",
            " 3   store    17520 non-null  object        \n",
            " 4   product  17520 non-null  object        \n",
            "dtypes: datetime64[ns](1), int64(1), object(3)\n",
            "memory usage: 684.5+ KB\n"
          ]
        }
      ],
      "source": [
        "test_data.info()"
      ]
    },
    {
      "cell_type": "code",
      "execution_count": 109,
      "metadata": {
        "id": "yNAUK0c-P_Z1"
      },
      "outputs": [],
      "source": [
        "#creating year month and day columns in train data\n",
        "train_data['year'] = train_data['date'].dt.year\n",
        "train_data['month'] = train_data['date'].dt.month\n",
        "train_data['day'] = train_data['date'].dt.day\n"
      ]
    },
    {
      "cell_type": "code",
      "execution_count": 110,
      "metadata": {
        "colab": {
          "base_uri": "https://localhost:8080/",
          "height": 519
        },
        "id": "XrNMEbl0Thp0",
        "outputId": "66c5c071-cafe-4f23-e4f0-2d672082191d"
      },
      "outputs": [
        {
          "data": {
            "text/html": [
              "<div>\n",
              "<style scoped>\n",
              "    .dataframe tbody tr th:only-of-type {\n",
              "        vertical-align: middle;\n",
              "    }\n",
              "\n",
              "    .dataframe tbody tr th {\n",
              "        vertical-align: top;\n",
              "    }\n",
              "\n",
              "    .dataframe thead th {\n",
              "        text-align: right;\n",
              "    }\n",
              "</style>\n",
              "<table border=\"1\" class=\"dataframe\">\n",
              "  <thead>\n",
              "    <tr style=\"text-align: right;\">\n",
              "      <th></th>\n",
              "      <th>row_id</th>\n",
              "      <th>date</th>\n",
              "      <th>country</th>\n",
              "      <th>store</th>\n",
              "      <th>product</th>\n",
              "      <th>num_sold</th>\n",
              "      <th>year</th>\n",
              "      <th>month</th>\n",
              "      <th>day</th>\n",
              "    </tr>\n",
              "  </thead>\n",
              "  <tbody>\n",
              "    <tr>\n",
              "      <th>70113</th>\n",
              "      <td>70113</td>\n",
              "      <td>2020-12-31</td>\n",
              "      <td>Poland</td>\n",
              "      <td>KaggleMart</td>\n",
              "      <td>Kaggle Getting Started</td>\n",
              "      <td>475</td>\n",
              "      <td>2020</td>\n",
              "      <td>12</td>\n",
              "      <td>31</td>\n",
              "    </tr>\n",
              "    <tr>\n",
              "      <th>70114</th>\n",
              "      <td>70114</td>\n",
              "      <td>2020-12-31</td>\n",
              "      <td>Poland</td>\n",
              "      <td>KaggleMart</td>\n",
              "      <td>Kaggle Recipe Book</td>\n",
              "      <td>424</td>\n",
              "      <td>2020</td>\n",
              "      <td>12</td>\n",
              "      <td>31</td>\n",
              "    </tr>\n",
              "    <tr>\n",
              "      <th>70115</th>\n",
              "      <td>70115</td>\n",
              "      <td>2020-12-31</td>\n",
              "      <td>Poland</td>\n",
              "      <td>KaggleMart</td>\n",
              "      <td>Kaggle for Kids: One Smart Goose</td>\n",
              "      <td>678</td>\n",
              "      <td>2020</td>\n",
              "      <td>12</td>\n",
              "      <td>31</td>\n",
              "    </tr>\n",
              "    <tr>\n",
              "      <th>70116</th>\n",
              "      <td>70116</td>\n",
              "      <td>2020-12-31</td>\n",
              "      <td>Poland</td>\n",
              "      <td>KaggleRama</td>\n",
              "      <td>Kaggle Advanced Techniques</td>\n",
              "      <td>219</td>\n",
              "      <td>2020</td>\n",
              "      <td>12</td>\n",
              "      <td>31</td>\n",
              "    </tr>\n",
              "    <tr>\n",
              "      <th>70117</th>\n",
              "      <td>70117</td>\n",
              "      <td>2020-12-31</td>\n",
              "      <td>Poland</td>\n",
              "      <td>KaggleRama</td>\n",
              "      <td>Kaggle Getting Started</td>\n",
              "      <td>160</td>\n",
              "      <td>2020</td>\n",
              "      <td>12</td>\n",
              "      <td>31</td>\n",
              "    </tr>\n",
              "    <tr>\n",
              "      <th>70118</th>\n",
              "      <td>70118</td>\n",
              "      <td>2020-12-31</td>\n",
              "      <td>Poland</td>\n",
              "      <td>KaggleRama</td>\n",
              "      <td>Kaggle Recipe Book</td>\n",
              "      <td>162</td>\n",
              "      <td>2020</td>\n",
              "      <td>12</td>\n",
              "      <td>31</td>\n",
              "    </tr>\n",
              "    <tr>\n",
              "      <th>70119</th>\n",
              "      <td>70119</td>\n",
              "      <td>2020-12-31</td>\n",
              "      <td>Poland</td>\n",
              "      <td>KaggleRama</td>\n",
              "      <td>Kaggle for Kids: One Smart Goose</td>\n",
              "      <td>218</td>\n",
              "      <td>2020</td>\n",
              "      <td>12</td>\n",
              "      <td>31</td>\n",
              "    </tr>\n",
              "    <tr>\n",
              "      <th>70120</th>\n",
              "      <td>70120</td>\n",
              "      <td>2020-12-31</td>\n",
              "      <td>Spain</td>\n",
              "      <td>KaggleMart</td>\n",
              "      <td>Kaggle Advanced Techniques</td>\n",
              "      <td>561</td>\n",
              "      <td>2020</td>\n",
              "      <td>12</td>\n",
              "      <td>31</td>\n",
              "    </tr>\n",
              "    <tr>\n",
              "      <th>70121</th>\n",
              "      <td>70121</td>\n",
              "      <td>2020-12-31</td>\n",
              "      <td>Spain</td>\n",
              "      <td>KaggleMart</td>\n",
              "      <td>Kaggle Getting Started</td>\n",
              "      <td>447</td>\n",
              "      <td>2020</td>\n",
              "      <td>12</td>\n",
              "      <td>31</td>\n",
              "    </tr>\n",
              "    <tr>\n",
              "      <th>70122</th>\n",
              "      <td>70122</td>\n",
              "      <td>2020-12-31</td>\n",
              "      <td>Spain</td>\n",
              "      <td>KaggleMart</td>\n",
              "      <td>Kaggle Recipe Book</td>\n",
              "      <td>384</td>\n",
              "      <td>2020</td>\n",
              "      <td>12</td>\n",
              "      <td>31</td>\n",
              "    </tr>\n",
              "    <tr>\n",
              "      <th>70123</th>\n",
              "      <td>70123</td>\n",
              "      <td>2020-12-31</td>\n",
              "      <td>Spain</td>\n",
              "      <td>KaggleMart</td>\n",
              "      <td>Kaggle for Kids: One Smart Goose</td>\n",
              "      <td>614</td>\n",
              "      <td>2020</td>\n",
              "      <td>12</td>\n",
              "      <td>31</td>\n",
              "    </tr>\n",
              "    <tr>\n",
              "      <th>70124</th>\n",
              "      <td>70124</td>\n",
              "      <td>2020-12-31</td>\n",
              "      <td>Spain</td>\n",
              "      <td>KaggleRama</td>\n",
              "      <td>Kaggle Advanced Techniques</td>\n",
              "      <td>215</td>\n",
              "      <td>2020</td>\n",
              "      <td>12</td>\n",
              "      <td>31</td>\n",
              "    </tr>\n",
              "    <tr>\n",
              "      <th>70125</th>\n",
              "      <td>70125</td>\n",
              "      <td>2020-12-31</td>\n",
              "      <td>Spain</td>\n",
              "      <td>KaggleRama</td>\n",
              "      <td>Kaggle Getting Started</td>\n",
              "      <td>158</td>\n",
              "      <td>2020</td>\n",
              "      <td>12</td>\n",
              "      <td>31</td>\n",
              "    </tr>\n",
              "    <tr>\n",
              "      <th>70126</th>\n",
              "      <td>70126</td>\n",
              "      <td>2020-12-31</td>\n",
              "      <td>Spain</td>\n",
              "      <td>KaggleRama</td>\n",
              "      <td>Kaggle Recipe Book</td>\n",
              "      <td>135</td>\n",
              "      <td>2020</td>\n",
              "      <td>12</td>\n",
              "      <td>31</td>\n",
              "    </tr>\n",
              "    <tr>\n",
              "      <th>70127</th>\n",
              "      <td>70127</td>\n",
              "      <td>2020-12-31</td>\n",
              "      <td>Spain</td>\n",
              "      <td>KaggleRama</td>\n",
              "      <td>Kaggle for Kids: One Smart Goose</td>\n",
              "      <td>202</td>\n",
              "      <td>2020</td>\n",
              "      <td>12</td>\n",
              "      <td>31</td>\n",
              "    </tr>\n",
              "  </tbody>\n",
              "</table>\n",
              "</div>"
            ],
            "text/plain": [
              "       row_id       date country       store  \\\n",
              "70113   70113 2020-12-31  Poland  KaggleMart   \n",
              "70114   70114 2020-12-31  Poland  KaggleMart   \n",
              "70115   70115 2020-12-31  Poland  KaggleMart   \n",
              "70116   70116 2020-12-31  Poland  KaggleRama   \n",
              "70117   70117 2020-12-31  Poland  KaggleRama   \n",
              "70118   70118 2020-12-31  Poland  KaggleRama   \n",
              "70119   70119 2020-12-31  Poland  KaggleRama   \n",
              "70120   70120 2020-12-31   Spain  KaggleMart   \n",
              "70121   70121 2020-12-31   Spain  KaggleMart   \n",
              "70122   70122 2020-12-31   Spain  KaggleMart   \n",
              "70123   70123 2020-12-31   Spain  KaggleMart   \n",
              "70124   70124 2020-12-31   Spain  KaggleRama   \n",
              "70125   70125 2020-12-31   Spain  KaggleRama   \n",
              "70126   70126 2020-12-31   Spain  KaggleRama   \n",
              "70127   70127 2020-12-31   Spain  KaggleRama   \n",
              "\n",
              "                                product  num_sold  year  month  day  \n",
              "70113            Kaggle Getting Started       475  2020     12   31  \n",
              "70114                Kaggle Recipe Book       424  2020     12   31  \n",
              "70115  Kaggle for Kids: One Smart Goose       678  2020     12   31  \n",
              "70116        Kaggle Advanced Techniques       219  2020     12   31  \n",
              "70117            Kaggle Getting Started       160  2020     12   31  \n",
              "70118                Kaggle Recipe Book       162  2020     12   31  \n",
              "70119  Kaggle for Kids: One Smart Goose       218  2020     12   31  \n",
              "70120        Kaggle Advanced Techniques       561  2020     12   31  \n",
              "70121            Kaggle Getting Started       447  2020     12   31  \n",
              "70122                Kaggle Recipe Book       384  2020     12   31  \n",
              "70123  Kaggle for Kids: One Smart Goose       614  2020     12   31  \n",
              "70124        Kaggle Advanced Techniques       215  2020     12   31  \n",
              "70125            Kaggle Getting Started       158  2020     12   31  \n",
              "70126                Kaggle Recipe Book       135  2020     12   31  \n",
              "70127  Kaggle for Kids: One Smart Goose       202  2020     12   31  "
            ]
          },
          "execution_count": 110,
          "metadata": {},
          "output_type": "execute_result"
        }
      ],
      "source": [
        "train_data.tail(15)"
      ]
    },
    {
      "cell_type": "code",
      "execution_count": 111,
      "metadata": {
        "id": "QWpb0DQqTtot"
      },
      "outputs": [],
      "source": [
        "#creating year month and day columns in test data\n",
        "test_data['year'] = test_data['date'].dt.year\n",
        "test_data['month'] = test_data['date'].dt.month\n",
        "test_data['day'] = test_data['date'].dt.day"
      ]
    },
    {
      "cell_type": "code",
      "execution_count": 112,
      "metadata": {
        "colab": {
          "base_uri": "https://localhost:8080/",
          "height": 519
        },
        "id": "hRB63pl7T2Kx",
        "outputId": "8d1a613c-dfb2-4802-989a-e2236ddd2eb6"
      },
      "outputs": [
        {
          "data": {
            "text/html": [
              "<div>\n",
              "<style scoped>\n",
              "    .dataframe tbody tr th:only-of-type {\n",
              "        vertical-align: middle;\n",
              "    }\n",
              "\n",
              "    .dataframe tbody tr th {\n",
              "        vertical-align: top;\n",
              "    }\n",
              "\n",
              "    .dataframe thead th {\n",
              "        text-align: right;\n",
              "    }\n",
              "</style>\n",
              "<table border=\"1\" class=\"dataframe\">\n",
              "  <thead>\n",
              "    <tr style=\"text-align: right;\">\n",
              "      <th></th>\n",
              "      <th>row_id</th>\n",
              "      <th>date</th>\n",
              "      <th>country</th>\n",
              "      <th>store</th>\n",
              "      <th>product</th>\n",
              "      <th>year</th>\n",
              "      <th>month</th>\n",
              "      <th>day</th>\n",
              "    </tr>\n",
              "  </thead>\n",
              "  <tbody>\n",
              "    <tr>\n",
              "      <th>17505</th>\n",
              "      <td>87633</td>\n",
              "      <td>2021-12-31</td>\n",
              "      <td>Poland</td>\n",
              "      <td>KaggleMart</td>\n",
              "      <td>Kaggle Getting Started</td>\n",
              "      <td>2021</td>\n",
              "      <td>12</td>\n",
              "      <td>31</td>\n",
              "    </tr>\n",
              "    <tr>\n",
              "      <th>17506</th>\n",
              "      <td>87634</td>\n",
              "      <td>2021-12-31</td>\n",
              "      <td>Poland</td>\n",
              "      <td>KaggleMart</td>\n",
              "      <td>Kaggle Recipe Book</td>\n",
              "      <td>2021</td>\n",
              "      <td>12</td>\n",
              "      <td>31</td>\n",
              "    </tr>\n",
              "    <tr>\n",
              "      <th>17507</th>\n",
              "      <td>87635</td>\n",
              "      <td>2021-12-31</td>\n",
              "      <td>Poland</td>\n",
              "      <td>KaggleMart</td>\n",
              "      <td>Kaggle for Kids: One Smart Goose</td>\n",
              "      <td>2021</td>\n",
              "      <td>12</td>\n",
              "      <td>31</td>\n",
              "    </tr>\n",
              "    <tr>\n",
              "      <th>17508</th>\n",
              "      <td>87636</td>\n",
              "      <td>2021-12-31</td>\n",
              "      <td>Poland</td>\n",
              "      <td>KaggleRama</td>\n",
              "      <td>Kaggle Advanced Techniques</td>\n",
              "      <td>2021</td>\n",
              "      <td>12</td>\n",
              "      <td>31</td>\n",
              "    </tr>\n",
              "    <tr>\n",
              "      <th>17509</th>\n",
              "      <td>87637</td>\n",
              "      <td>2021-12-31</td>\n",
              "      <td>Poland</td>\n",
              "      <td>KaggleRama</td>\n",
              "      <td>Kaggle Getting Started</td>\n",
              "      <td>2021</td>\n",
              "      <td>12</td>\n",
              "      <td>31</td>\n",
              "    </tr>\n",
              "    <tr>\n",
              "      <th>17510</th>\n",
              "      <td>87638</td>\n",
              "      <td>2021-12-31</td>\n",
              "      <td>Poland</td>\n",
              "      <td>KaggleRama</td>\n",
              "      <td>Kaggle Recipe Book</td>\n",
              "      <td>2021</td>\n",
              "      <td>12</td>\n",
              "      <td>31</td>\n",
              "    </tr>\n",
              "    <tr>\n",
              "      <th>17511</th>\n",
              "      <td>87639</td>\n",
              "      <td>2021-12-31</td>\n",
              "      <td>Poland</td>\n",
              "      <td>KaggleRama</td>\n",
              "      <td>Kaggle for Kids: One Smart Goose</td>\n",
              "      <td>2021</td>\n",
              "      <td>12</td>\n",
              "      <td>31</td>\n",
              "    </tr>\n",
              "    <tr>\n",
              "      <th>17512</th>\n",
              "      <td>87640</td>\n",
              "      <td>2021-12-31</td>\n",
              "      <td>Spain</td>\n",
              "      <td>KaggleMart</td>\n",
              "      <td>Kaggle Advanced Techniques</td>\n",
              "      <td>2021</td>\n",
              "      <td>12</td>\n",
              "      <td>31</td>\n",
              "    </tr>\n",
              "    <tr>\n",
              "      <th>17513</th>\n",
              "      <td>87641</td>\n",
              "      <td>2021-12-31</td>\n",
              "      <td>Spain</td>\n",
              "      <td>KaggleMart</td>\n",
              "      <td>Kaggle Getting Started</td>\n",
              "      <td>2021</td>\n",
              "      <td>12</td>\n",
              "      <td>31</td>\n",
              "    </tr>\n",
              "    <tr>\n",
              "      <th>17514</th>\n",
              "      <td>87642</td>\n",
              "      <td>2021-12-31</td>\n",
              "      <td>Spain</td>\n",
              "      <td>KaggleMart</td>\n",
              "      <td>Kaggle Recipe Book</td>\n",
              "      <td>2021</td>\n",
              "      <td>12</td>\n",
              "      <td>31</td>\n",
              "    </tr>\n",
              "    <tr>\n",
              "      <th>17515</th>\n",
              "      <td>87643</td>\n",
              "      <td>2021-12-31</td>\n",
              "      <td>Spain</td>\n",
              "      <td>KaggleMart</td>\n",
              "      <td>Kaggle for Kids: One Smart Goose</td>\n",
              "      <td>2021</td>\n",
              "      <td>12</td>\n",
              "      <td>31</td>\n",
              "    </tr>\n",
              "    <tr>\n",
              "      <th>17516</th>\n",
              "      <td>87644</td>\n",
              "      <td>2021-12-31</td>\n",
              "      <td>Spain</td>\n",
              "      <td>KaggleRama</td>\n",
              "      <td>Kaggle Advanced Techniques</td>\n",
              "      <td>2021</td>\n",
              "      <td>12</td>\n",
              "      <td>31</td>\n",
              "    </tr>\n",
              "    <tr>\n",
              "      <th>17517</th>\n",
              "      <td>87645</td>\n",
              "      <td>2021-12-31</td>\n",
              "      <td>Spain</td>\n",
              "      <td>KaggleRama</td>\n",
              "      <td>Kaggle Getting Started</td>\n",
              "      <td>2021</td>\n",
              "      <td>12</td>\n",
              "      <td>31</td>\n",
              "    </tr>\n",
              "    <tr>\n",
              "      <th>17518</th>\n",
              "      <td>87646</td>\n",
              "      <td>2021-12-31</td>\n",
              "      <td>Spain</td>\n",
              "      <td>KaggleRama</td>\n",
              "      <td>Kaggle Recipe Book</td>\n",
              "      <td>2021</td>\n",
              "      <td>12</td>\n",
              "      <td>31</td>\n",
              "    </tr>\n",
              "    <tr>\n",
              "      <th>17519</th>\n",
              "      <td>87647</td>\n",
              "      <td>2021-12-31</td>\n",
              "      <td>Spain</td>\n",
              "      <td>KaggleRama</td>\n",
              "      <td>Kaggle for Kids: One Smart Goose</td>\n",
              "      <td>2021</td>\n",
              "      <td>12</td>\n",
              "      <td>31</td>\n",
              "    </tr>\n",
              "  </tbody>\n",
              "</table>\n",
              "</div>"
            ],
            "text/plain": [
              "       row_id       date country       store  \\\n",
              "17505   87633 2021-12-31  Poland  KaggleMart   \n",
              "17506   87634 2021-12-31  Poland  KaggleMart   \n",
              "17507   87635 2021-12-31  Poland  KaggleMart   \n",
              "17508   87636 2021-12-31  Poland  KaggleRama   \n",
              "17509   87637 2021-12-31  Poland  KaggleRama   \n",
              "17510   87638 2021-12-31  Poland  KaggleRama   \n",
              "17511   87639 2021-12-31  Poland  KaggleRama   \n",
              "17512   87640 2021-12-31   Spain  KaggleMart   \n",
              "17513   87641 2021-12-31   Spain  KaggleMart   \n",
              "17514   87642 2021-12-31   Spain  KaggleMart   \n",
              "17515   87643 2021-12-31   Spain  KaggleMart   \n",
              "17516   87644 2021-12-31   Spain  KaggleRama   \n",
              "17517   87645 2021-12-31   Spain  KaggleRama   \n",
              "17518   87646 2021-12-31   Spain  KaggleRama   \n",
              "17519   87647 2021-12-31   Spain  KaggleRama   \n",
              "\n",
              "                                product  year  month  day  \n",
              "17505            Kaggle Getting Started  2021     12   31  \n",
              "17506                Kaggle Recipe Book  2021     12   31  \n",
              "17507  Kaggle for Kids: One Smart Goose  2021     12   31  \n",
              "17508        Kaggle Advanced Techniques  2021     12   31  \n",
              "17509            Kaggle Getting Started  2021     12   31  \n",
              "17510                Kaggle Recipe Book  2021     12   31  \n",
              "17511  Kaggle for Kids: One Smart Goose  2021     12   31  \n",
              "17512        Kaggle Advanced Techniques  2021     12   31  \n",
              "17513            Kaggle Getting Started  2021     12   31  \n",
              "17514                Kaggle Recipe Book  2021     12   31  \n",
              "17515  Kaggle for Kids: One Smart Goose  2021     12   31  \n",
              "17516        Kaggle Advanced Techniques  2021     12   31  \n",
              "17517            Kaggle Getting Started  2021     12   31  \n",
              "17518                Kaggle Recipe Book  2021     12   31  \n",
              "17519  Kaggle for Kids: One Smart Goose  2021     12   31  "
            ]
          },
          "execution_count": 112,
          "metadata": {},
          "output_type": "execute_result"
        }
      ],
      "source": [
        "\n",
        "test_data.tail(15)"
      ]
    },
    {
      "cell_type": "code",
      "execution_count": 113,
      "metadata": {
        "id": "wUfBXeKnU-Hm"
      },
      "outputs": [],
      "source": [
        "# drop columns\n",
        "train_data.drop(['row_id'], axis=1, inplace=True)"
      ]
    },
    {
      "cell_type": "code",
      "execution_count": 114,
      "metadata": {
        "id": "Apq0j-sIVkWb"
      },
      "outputs": [],
      "source": [
        "test_data.drop(['row_id'],axis = 1,inplace = True)"
      ]
    },
    {
      "cell_type": "markdown",
      "metadata": {
        "id": "LDG06pT4WE4A"
      },
      "source": [
        "**Visualization**"
      ]
    },
    {
      "cell_type": "code",
      "execution_count": 115,
      "metadata": {
        "colab": {
          "base_uri": "https://localhost:8080/",
          "height": 647
        },
        "id": "frOMoLq8Ws28",
        "outputId": "a53d4b35-4a3c-486d-b129-72d4442c304e"
      },
      "outputs": [
        {
          "data": {
            "text/plain": [
              "<Figure size 10000x10000 with 0 Axes>"
            ]
          },
          "metadata": {},
          "output_type": "display_data"
        },
        {
          "data": {
            "image/png": "[encoded data removed]",
            "text/plain": [
              "<Figure size 640x480 with 1 Axes>"
            ]
          },
          "metadata": {},
          "output_type": "display_data"
        }
      ],
      "source": [
        "# Create a stacked bar chart to compare the sales of the four items between the two stores and the six countries\n",
        "plt.figure(figsize=(100, 100))\n",
        "train_data.groupby(['store', 'country', 'product'])['num_sold'].sum().unstack().plot(kind='bar', stacked=True)\n",
        "\n",
        "# Add a title and axis labels\n",
        "plt.title('Sales Comparison by Store, Country and Item')\n",
        "plt.xlabel('Store, Country')\n",
        "plt.ylabel('Total Sales')\n",
        "\n",
        "# Display the chart\n",
        "plt.show()\n"
      ]
    },
    {
      "cell_type": "code",
      "execution_count": 116,
      "metadata": {
        "colab": {
          "base_uri": "https://localhost:8080/"
        },
        "id": "stLNrZOFb2lR",
        "outputId": "619afd86-f8c4-4352-d8f7-4663c00d9b8c"
      },
      "outputs": [
        {
          "data": {
            "text/plain": [
              "store\n",
              "KaggleMart    10117254\n",
              "KaggleRama     3508405\n",
              "Name: num_sold, dtype: int64"
            ]
          },
          "execution_count": 116,
          "metadata": {},
          "output_type": "execute_result"
        }
      ],
      "source": [
        "num_sold_store = train_data.groupby('store')['num_sold'].sum()\n",
        "num_sold_store"
      ]
    },
    {
      "cell_type": "code",
      "execution_count": 117,
      "metadata": {
        "colab": {
          "base_uri": "https://localhost:8080/",
          "height": 525
        },
        "id": "cGKIRzAewg3y",
        "outputId": "45349e95-e719-4591-c381-4d1252389863"
      },
      "outputs": [
        {
          "data": {
            "text/plain": [
              "Text(0.5, 1.0, 'The The number of items sold in each store')"
            ]
          },
          "execution_count": 117,
          "metadata": {},
          "output_type": "execute_result"
        },
        {
          "data": {
            "image/png": "[encoded data removed]",
            "text/plain": [
              "<Figure size 700x500 with 1 Axes>"
            ]
          },
          "metadata": {},
          "output_type": "display_data"
        }
      ],
      "source": [
        "plt.figure(figsize=(7, 5))\n",
        "ax = sns.barplot(x = num_sold_store.sort_values().index, y = num_sold_store.sort_values())\n",
        "ax.set_title('The The number of items sold in each store', fontdict={'fontsize':18})"
      ]
    },
    {
      "cell_type": "markdown",
      "metadata": {
        "id": "6kSwNv0Iw3EO"
      },
      "source": [
        "KaggleMart sold high number of items than KaggleRama"
      ]
    },
    {
      "cell_type": "code",
      "execution_count": 118,
      "metadata": {
        "colab": {
          "base_uri": "https://localhost:8080/"
        },
        "id": "O3iMirNawu4x",
        "outputId": "a84a7f53-aa3d-4566-e18f-c3b3c0c68ac1"
      },
      "outputs": [
        {
          "data": {
            "text/plain": [
              "country\n",
              "Belgium    2781050\n",
              "France     2512319\n",
              "Germany    2786415\n",
              "Italy      2201092\n",
              "Poland     1341545\n",
              "Spain      2003238\n",
              "Name: num_sold, dtype: int64"
            ]
          },
          "execution_count": 118,
          "metadata": {},
          "output_type": "execute_result"
        }
      ],
      "source": [
        "num_sold_country = train_data.groupby('country')['num_sold'].sum()\n",
        "num_sold_country"
      ]
    },
    {
      "cell_type": "code",
      "execution_count": 119,
      "metadata": {
        "colab": {
          "base_uri": "https://localhost:8080/",
          "height": 525
        },
        "id": "3VJErTG3xIaV",
        "outputId": "9136bf49-4ad3-422a-d599-d4a3f9f9ddf1"
      },
      "outputs": [
        {
          "data": {
            "text/plain": [
              "Text(0.5, 1.0, 'The The number of items sold in each country')"
            ]
          },
          "execution_count": 119,
          "metadata": {},
          "output_type": "execute_result"
        },
        {
          "data": {
            "image/png": "[encoded data removed]",
            "text/plain": [
              "<Figure size 700x500 with 1 Axes>"
            ]
          },
          "metadata": {},
          "output_type": "display_data"
        }
      ],
      "source": [
        "plt.figure(figsize=(7, 5))\n",
        "ax = sns.barplot(x = num_sold_country.sort_values().index, y = num_sold_country.sort_values())\n",
        "ax.set_title('The The number of items sold in each country', fontdict={'fontsize':18})"
      ]
    },
    {
      "cell_type": "markdown",
      "metadata": {
        "id": "AxJcYtUu2XC5"
      },
      "source": [
        "Belgium and Germany sold high number of products"
      ]
    },
    {
      "cell_type": "code",
      "execution_count": 120,
      "metadata": {
        "colab": {
          "base_uri": "https://localhost:8080/"
        },
        "id": "DdUtksHoxOrx",
        "outputId": "c77a2d7e-e4a2-427a-dc5a-8fd67e0152d6"
      },
      "outputs": [
        {
          "data": {
            "text/plain": [
              "product\n",
              "Kaggle Advanced Techniques          3913910\n",
              "Kaggle Getting Started              3136903\n",
              "Kaggle Recipe Book                  2349817\n",
              "Kaggle for Kids: One Smart Goose    4225029\n",
              "Name: num_sold, dtype: int64"
            ]
          },
          "execution_count": 120,
          "metadata": {},
          "output_type": "execute_result"
        }
      ],
      "source": [
        "num_sold_prod = train_data.groupby('product')['num_sold'].sum()\n",
        "num_sold_prod"
      ]
    },
    {
      "cell_type": "code",
      "execution_count": 121,
      "metadata": {
        "colab": {
          "base_uri": "https://localhost:8080/",
          "height": 510
        },
        "id": "mWHpeZrOxgIL",
        "outputId": "eae7182f-b1e5-45d0-ecbe-d6ef2e4a6b6e"
      },
      "outputs": [
        {
          "data": {
            "text/plain": [
              "Text(0.5, 1.0, 'The The number of items sold of each type')"
            ]
          },
          "execution_count": 121,
          "metadata": {},
          "output_type": "execute_result"
        },
        {
          "data": {
            "image/png": "[encoded data removed]",
            "text/plain": [
              "<Figure size 1500x500 with 1 Axes>"
            ]
          },
          "metadata": {},
          "output_type": "display_data"
        }
      ],
      "source": [
        "plt.figure(figsize=(15, 5))\n",
        "ax = sns.barplot(x = num_sold_prod.sort_values().index, y = num_sold_prod.sort_values())\n",
        "ax.set_title('The The number of items sold of each type', fontdict={'fontsize':18})"
      ]
    },
    {
      "cell_type": "markdown",
      "metadata": {
        "id": "B6uFf0ghxybT"
      },
      "source": [
        "Kaggle for kids : One Smart Goose is most sold product"
      ]
    },
    {
      "cell_type": "code",
      "execution_count": 122,
      "metadata": {
        "colab": {
          "base_uri": "https://localhost:8080/",
          "height": 592
        },
        "id": "hmfv9krcxo45",
        "outputId": "9e233eef-0a8f-404f-8c52-17ff87231f27"
      },
      "outputs": [
        {
          "data": {
            "text/plain": [
              "<Axes: xlabel='country', ylabel='num_sold'>"
            ]
          },
          "execution_count": 122,
          "metadata": {},
          "output_type": "execute_result"
        },
        {
          "data": {
            "image/png": "[encoded data removed]",
            "text/plain": [
              "<Figure size 2500x1000 with 1 Axes>"
            ]
          },
          "metadata": {},
          "output_type": "display_data"
        }
      ],
      "source": [
        "fig, ax = plt.subplots(figsize=(25,10))\n",
        "sns.barplot(data=train_data, y='num_sold', x='country', hue='product')"
      ]
    },
    {
      "cell_type": "code",
      "execution_count": 123,
      "metadata": {
        "colab": {
          "base_uri": "https://localhost:8080/",
          "height": 592
        },
        "id": "ykBF7YZmybP1",
        "outputId": "5196d43c-c108-4e83-e43d-456674c1a55e"
      },
      "outputs": [
        {
          "data": {
            "text/plain": [
              "<Axes: xlabel='country', ylabel='num_sold'>"
            ]
          },
          "execution_count": 123,
          "metadata": {},
          "output_type": "execute_result"
        },
        {
          "data": {
            "image/png": "[encoded data removed]",
            "text/plain": [
              "<Figure size 2500x1000 with 1 Axes>"
            ]
          },
          "metadata": {},
          "output_type": "display_data"
        }
      ],
      "source": [
        "fig, ax = plt.subplots(figsize=(25,10))\n",
        "sns.barplot(data=train_data, y='num_sold', x='country', hue='store')"
      ]
    },
    {
      "cell_type": "code",
      "execution_count": 124,
      "metadata": {
        "colab": {
          "base_uri": "https://localhost:8080/",
          "height": 592
        },
        "id": "_rAmCjluyk7O",
        "outputId": "4cf1435d-23fd-47c8-8f54-bd8df048f322"
      },
      "outputs": [
        {
          "data": {
            "text/plain": [
              "<Axes: xlabel='store', ylabel='num_sold'>"
            ]
          },
          "execution_count": 124,
          "metadata": {},
          "output_type": "execute_result"
        },
        {
          "data": {
            "image/png": "[encoded data removed]",
            "text/plain": [
              "<Figure size 2500x1000 with 1 Axes>"
            ]
          },
          "metadata": {},
          "output_type": "display_data"
        }
      ],
      "source": [
        "fig, ax = plt.subplots(figsize=(25,10))\n",
        "sns.barplot(data=train_data, y='num_sold', x='store', hue='product')"
      ]
    },
    {
      "cell_type": "code",
      "execution_count": 125,
      "metadata": {
        "colab": {
          "base_uri": "https://localhost:8080/"
        },
        "id": "dlt9HQkRy3p1",
        "outputId": "7c007eef-e13d-4b33-e4a6-fedd5081a7d1"
      },
      "outputs": [
        {
          "data": {
            "text/plain": [
              "year\n",
              "2017    3112163\n",
              "2018    3425424\n",
              "2019    3232879\n",
              "2020    3855193\n",
              "Name: num_sold, dtype: int64"
            ]
          },
          "execution_count": 125,
          "metadata": {},
          "output_type": "execute_result"
        }
      ],
      "source": [
        "num_sold_year = train_data.groupby('year')['num_sold'].sum()\n",
        "num_sold_year"
      ]
    },
    {
      "cell_type": "code",
      "execution_count": 126,
      "metadata": {
        "colab": {
          "base_uri": "https://localhost:8080/",
          "height": 507
        },
        "id": "99IAgjcy0CYX",
        "outputId": "cc62c564-d1b1-4aa4-bee5-e30a69fa6e08"
      },
      "outputs": [
        {
          "data": {
            "text/plain": [
              "Text(0.5, 1.0, 'The The number of items sold in each year')"
            ]
          },
          "execution_count": 126,
          "metadata": {},
          "output_type": "execute_result"
        },
        {
          "data": {
            "image/png": "[encoded data removed]",
            "text/plain": [
              "<Figure size 700x500 with 1 Axes>"
            ]
          },
          "metadata": {},
          "output_type": "display_data"
        }
      ],
      "source": [
        "plt.figure(figsize=(7, 5))\n",
        "ax = sns.lineplot(x = num_sold_year.sort_values().index, y = num_sold_prod.sort_values())\n",
        "ax.set_title('The The number of items sold in each year', fontdict={'fontsize':15})"
      ]
    },
    {
      "cell_type": "markdown",
      "metadata": {
        "id": "dS6HXhjA0zPn"
      },
      "source": [
        "Total number of items sold in year 2020 is high"
      ]
    },
    {
      "cell_type": "code",
      "execution_count": 127,
      "metadata": {
        "colab": {
          "base_uri": "https://localhost:8080/"
        },
        "id": "KPvjU5zc0U51",
        "outputId": "034dd028-a29f-4c97-d73b-3fcb534583b6"
      },
      "outputs": [
        {
          "data": {
            "text/plain": [
              "month\n",
              "1     1244928\n",
              "2     1086253\n",
              "3     1147079\n",
              "4     1076549\n",
              "5     1142837\n",
              "6     1088330\n",
              "7     1109652\n",
              "8     1115626\n",
              "9     1064882\n",
              "10    1119781\n",
              "11    1130230\n",
              "12    1299512\n",
              "Name: num_sold, dtype: int64"
            ]
          },
          "execution_count": 127,
          "metadata": {},
          "output_type": "execute_result"
        }
      ],
      "source": [
        "num_sold_month = train_data.groupby('month')['num_sold'].sum()\n",
        "num_sold_month"
      ]
    },
    {
      "cell_type": "code",
      "execution_count": 128,
      "metadata": {
        "colab": {
          "base_uri": "https://localhost:8080/",
          "height": 592
        },
        "id": "LGIBAFLe1Ohb",
        "outputId": "3bb8a376-fc53-44a5-b76e-60d56e83e041"
      },
      "outputs": [
        {
          "data": {
            "text/plain": [
              "<Axes: xlabel='month', ylabel='num_sold'>"
            ]
          },
          "execution_count": 128,
          "metadata": {},
          "output_type": "execute_result"
        },
        {
          "data": {
            "image/png": "[encoded data removed]",
            "text/plain": [
              "<Figure size 2500x1000 with 1 Axes>"
            ]
          },
          "metadata": {},
          "output_type": "display_data"
        }
      ],
      "source": [
        "fig, ax = plt.subplots(figsize=(25,10))\n",
        "sns.barplot(data=train_data, y='num_sold', x='month', hue='year')"
      ]
    },
    {
      "cell_type": "markdown",
      "metadata": {
        "id": "yLiJs_TJ2F8m"
      },
      "source": [
        "In January and december sales are high in every year"
      ]
    },
    {
      "cell_type": "code",
      "execution_count": 129,
      "metadata": {
        "colab": {
          "base_uri": "https://localhost:8080/"
        },
        "id": "oNMQq_r_24c8",
        "outputId": "7bcff89f-de48-42cd-9f3d-0ee231b31dc3"
      },
      "outputs": [
        {
          "data": {
            "text/plain": [
              "date\n",
              "2017-01-01    15352\n",
              "2017-01-02    11578\n",
              "2017-01-03    10884\n",
              "2017-01-04    10445\n",
              "2017-01-05     9795\n",
              "              ...  \n",
              "2020-12-27    17042\n",
              "2020-12-28    16789\n",
              "2020-12-29    18876\n",
              "2020-12-30    18938\n",
              "2020-12-31    17031\n",
              "Name: num_sold, Length: 1461, dtype: int64"
            ]
          },
          "execution_count": 129,
          "metadata": {},
          "output_type": "execute_result"
        }
      ],
      "source": [
        "num_sold_date = train_data.groupby('date')['num_sold'].sum()\n",
        "num_sold_date"
      ]
    },
    {
      "cell_type": "code",
      "execution_count": 130,
      "metadata": {
        "colab": {
          "base_uri": "https://localhost:8080/",
          "height": 483
        },
        "id": "Ds9TnJ-g87fE",
        "outputId": "b428c54c-a502-47bf-8dc5-75909fb69d3e"
      },
      "outputs": [
        {
          "data": {
            "text/plain": [
              "<Axes: xlabel='day', ylabel='num_sold'>"
            ]
          },
          "execution_count": 130,
          "metadata": {},
          "output_type": "execute_result"
        },
        {
          "data": {
            "image/png": "[encoded data removed]",
            "text/plain": [
              "<Figure size 1500x500 with 1 Axes>"
            ]
          },
          "metadata": {},
          "output_type": "display_data"
        }
      ],
      "source": [
        "plt.figure(figsize=(15, 5))\n",
        "sns.barplot(data=train_data, x='day', y='num_sold')"
      ]
    },
    {
      "cell_type": "markdown",
      "metadata": {
        "id": "l82kUJzR9Oy_"
      },
      "source": [
        "Sales on 28,29,30,31 are high"
      ]
    },
    {
      "cell_type": "code",
      "execution_count": 131,
      "metadata": {
        "colab": {
          "base_uri": "https://localhost:8080/",
          "height": 507
        },
        "id": "p3wKJHvD38l8",
        "outputId": "5895a6c8-1d02-4c38-a452-38e942c865ee"
      },
      "outputs": [
        {
          "data": {
            "text/plain": [
              "Text(0.5, 1.0, 'The The number of items sold in each year')"
            ]
          },
          "execution_count": 131,
          "metadata": {},
          "output_type": "execute_result"
        },
        {
          "data": {
            "image/png": "[encoded data removed]",
            "text/plain": [
              "<Figure size 1500x500 with 1 Axes>"
            ]
          },
          "metadata": {},
          "output_type": "display_data"
        }
      ],
      "source": [
        "plt.figure(figsize=(15, 5))\n",
        "ax = sns.lineplot(x = num_sold_date.sort_values().index, y = num_sold_date.sort_values())\n",
        "ax.set_title('The The number of items sold in each year', fontdict={'fontsize':15})"
      ]
    },
    {
      "cell_type": "markdown",
      "metadata": {
        "id": "Pwv09XMMT-aa"
      },
      "source": [
        "**Correlation map**"
      ]
    },
    {
      "cell_type": "code",
      "execution_count": 132,
      "metadata": {
        "id": "WdfsNGEHwaA1"
      },
      "outputs": [],
      "source": [
        "# encoder = LabelEncoder()\n",
        "# def encode_data(data, categories=['country', 'store', 'product']):\n",
        "#     for cat in categories:\n",
        "#         data[cat] = encoder.fit_transform(data[[cat]])\n",
        "#     return data\n",
        "# train_data = encode_data(train_data)\n",
        "# test_data = encode_data(test_data)"
      ]
    },
    {
      "cell_type": "code",
      "execution_count": 133,
      "metadata": {
        "id": "5h-SslccdexB"
      },
      "outputs": [],
      "source": [
        "# Encoding the data using Label Encoder\n",
        "encoder_dict = {}\n",
        "for cat in ['country', 'store', 'product']:\n",
        "    encoder = LabelEncoder()\n",
        "    train_data[cat] = encoder.fit_transform(train_data[cat])\n",
        "    test_data[cat] = encoder.fit_transform(test_data[cat])\n",
        "    encoder_dict[cat] = encoder\n"
      ]
    },
    {
      "cell_type": "code",
      "execution_count": 134,
      "metadata": {
        "colab": {
          "base_uri": "https://localhost:8080/",
          "height": 363
        },
        "id": "QicFse2iCsDX",
        "outputId": "07b664e0-f842-4ec6-a8ae-3d6fcf7020d8"
      },
      "outputs": [
        {
          "data": {
            "text/html": [
              "<div>\n",
              "<style scoped>\n",
              "    .dataframe tbody tr th:only-of-type {\n",
              "        vertical-align: middle;\n",
              "    }\n",
              "\n",
              "    .dataframe tbody tr th {\n",
              "        vertical-align: top;\n",
              "    }\n",
              "\n",
              "    .dataframe thead th {\n",
              "        text-align: right;\n",
              "    }\n",
              "</style>\n",
              "<table border=\"1\" class=\"dataframe\">\n",
              "  <thead>\n",
              "    <tr style=\"text-align: right;\">\n",
              "      <th></th>\n",
              "      <th>date</th>\n",
              "      <th>country</th>\n",
              "      <th>store</th>\n",
              "      <th>product</th>\n",
              "      <th>num_sold</th>\n",
              "      <th>year</th>\n",
              "      <th>month</th>\n",
              "      <th>day</th>\n",
              "    </tr>\n",
              "  </thead>\n",
              "  <tbody>\n",
              "    <tr>\n",
              "      <th>0</th>\n",
              "      <td>2017-01-01</td>\n",
              "      <td>0</td>\n",
              "      <td>0</td>\n",
              "      <td>0</td>\n",
              "      <td>663</td>\n",
              "      <td>2017</td>\n",
              "      <td>1</td>\n",
              "      <td>1</td>\n",
              "    </tr>\n",
              "    <tr>\n",
              "      <th>1</th>\n",
              "      <td>2017-01-01</td>\n",
              "      <td>0</td>\n",
              "      <td>0</td>\n",
              "      <td>1</td>\n",
              "      <td>615</td>\n",
              "      <td>2017</td>\n",
              "      <td>1</td>\n",
              "      <td>1</td>\n",
              "    </tr>\n",
              "    <tr>\n",
              "      <th>2</th>\n",
              "      <td>2017-01-01</td>\n",
              "      <td>0</td>\n",
              "      <td>0</td>\n",
              "      <td>2</td>\n",
              "      <td>480</td>\n",
              "      <td>2017</td>\n",
              "      <td>1</td>\n",
              "      <td>1</td>\n",
              "    </tr>\n",
              "    <tr>\n",
              "      <th>3</th>\n",
              "      <td>2017-01-01</td>\n",
              "      <td>0</td>\n",
              "      <td>0</td>\n",
              "      <td>3</td>\n",
              "      <td>710</td>\n",
              "      <td>2017</td>\n",
              "      <td>1</td>\n",
              "      <td>1</td>\n",
              "    </tr>\n",
              "    <tr>\n",
              "      <th>4</th>\n",
              "      <td>2017-01-01</td>\n",
              "      <td>0</td>\n",
              "      <td>1</td>\n",
              "      <td>0</td>\n",
              "      <td>240</td>\n",
              "      <td>2017</td>\n",
              "      <td>1</td>\n",
              "      <td>1</td>\n",
              "    </tr>\n",
              "    <tr>\n",
              "      <th>5</th>\n",
              "      <td>2017-01-01</td>\n",
              "      <td>0</td>\n",
              "      <td>1</td>\n",
              "      <td>1</td>\n",
              "      <td>187</td>\n",
              "      <td>2017</td>\n",
              "      <td>1</td>\n",
              "      <td>1</td>\n",
              "    </tr>\n",
              "    <tr>\n",
              "      <th>6</th>\n",
              "      <td>2017-01-01</td>\n",
              "      <td>0</td>\n",
              "      <td>1</td>\n",
              "      <td>2</td>\n",
              "      <td>158</td>\n",
              "      <td>2017</td>\n",
              "      <td>1</td>\n",
              "      <td>1</td>\n",
              "    </tr>\n",
              "    <tr>\n",
              "      <th>7</th>\n",
              "      <td>2017-01-01</td>\n",
              "      <td>0</td>\n",
              "      <td>1</td>\n",
              "      <td>3</td>\n",
              "      <td>267</td>\n",
              "      <td>2017</td>\n",
              "      <td>1</td>\n",
              "      <td>1</td>\n",
              "    </tr>\n",
              "    <tr>\n",
              "      <th>8</th>\n",
              "      <td>2017-01-01</td>\n",
              "      <td>1</td>\n",
              "      <td>0</td>\n",
              "      <td>0</td>\n",
              "      <td>610</td>\n",
              "      <td>2017</td>\n",
              "      <td>1</td>\n",
              "      <td>1</td>\n",
              "    </tr>\n",
              "    <tr>\n",
              "      <th>9</th>\n",
              "      <td>2017-01-01</td>\n",
              "      <td>1</td>\n",
              "      <td>0</td>\n",
              "      <td>1</td>\n",
              "      <td>463</td>\n",
              "      <td>2017</td>\n",
              "      <td>1</td>\n",
              "      <td>1</td>\n",
              "    </tr>\n",
              "  </tbody>\n",
              "</table>\n",
              "</div>"
            ],
            "text/plain": [
              "        date  country  store  product  num_sold  year  month  day\n",
              "0 2017-01-01        0      0        0       663  2017      1    1\n",
              "1 2017-01-01        0      0        1       615  2017      1    1\n",
              "2 2017-01-01        0      0        2       480  2017      1    1\n",
              "3 2017-01-01        0      0        3       710  2017      1    1\n",
              "4 2017-01-01        0      1        0       240  2017      1    1\n",
              "5 2017-01-01        0      1        1       187  2017      1    1\n",
              "6 2017-01-01        0      1        2       158  2017      1    1\n",
              "7 2017-01-01        0      1        3       267  2017      1    1\n",
              "8 2017-01-01        1      0        0       610  2017      1    1\n",
              "9 2017-01-01        1      0        1       463  2017      1    1"
            ]
          },
          "execution_count": 134,
          "metadata": {},
          "output_type": "execute_result"
        }
      ],
      "source": [
        "train_data.head(10)"
      ]
    },
    {
      "cell_type": "code",
      "execution_count": 135,
      "metadata": {
        "colab": {
          "base_uri": "https://localhost:8080/",
          "height": 363
        },
        "id": "G22gIhsBy5-Q",
        "outputId": "c1a9e199-4dc0-4cba-b4fd-54a3d5b49545"
      },
      "outputs": [
        {
          "data": {
            "text/html": [
              "<div>\n",
              "<style scoped>\n",
              "    .dataframe tbody tr th:only-of-type {\n",
              "        vertical-align: middle;\n",
              "    }\n",
              "\n",
              "    .dataframe tbody tr th {\n",
              "        vertical-align: top;\n",
              "    }\n",
              "\n",
              "    .dataframe thead th {\n",
              "        text-align: right;\n",
              "    }\n",
              "</style>\n",
              "<table border=\"1\" class=\"dataframe\">\n",
              "  <thead>\n",
              "    <tr style=\"text-align: right;\">\n",
              "      <th></th>\n",
              "      <th>date</th>\n",
              "      <th>country</th>\n",
              "      <th>store</th>\n",
              "      <th>product</th>\n",
              "      <th>num_sold</th>\n",
              "      <th>year</th>\n",
              "      <th>month</th>\n",
              "      <th>day</th>\n",
              "    </tr>\n",
              "  </thead>\n",
              "  <tbody>\n",
              "    <tr>\n",
              "      <th>0</th>\n",
              "      <td>2017-01-01</td>\n",
              "      <td>Belgium</td>\n",
              "      <td>KaggleMart</td>\n",
              "      <td>Kaggle Advanced Techniques</td>\n",
              "      <td>663</td>\n",
              "      <td>2017</td>\n",
              "      <td>1</td>\n",
              "      <td>1</td>\n",
              "    </tr>\n",
              "    <tr>\n",
              "      <th>1</th>\n",
              "      <td>2017-01-01</td>\n",
              "      <td>Belgium</td>\n",
              "      <td>KaggleMart</td>\n",
              "      <td>Kaggle Getting Started</td>\n",
              "      <td>615</td>\n",
              "      <td>2017</td>\n",
              "      <td>1</td>\n",
              "      <td>1</td>\n",
              "    </tr>\n",
              "    <tr>\n",
              "      <th>2</th>\n",
              "      <td>2017-01-01</td>\n",
              "      <td>Belgium</td>\n",
              "      <td>KaggleMart</td>\n",
              "      <td>Kaggle Recipe Book</td>\n",
              "      <td>480</td>\n",
              "      <td>2017</td>\n",
              "      <td>1</td>\n",
              "      <td>1</td>\n",
              "    </tr>\n",
              "    <tr>\n",
              "      <th>3</th>\n",
              "      <td>2017-01-01</td>\n",
              "      <td>Belgium</td>\n",
              "      <td>KaggleMart</td>\n",
              "      <td>Kaggle for Kids: One Smart Goose</td>\n",
              "      <td>710</td>\n",
              "      <td>2017</td>\n",
              "      <td>1</td>\n",
              "      <td>1</td>\n",
              "    </tr>\n",
              "    <tr>\n",
              "      <th>4</th>\n",
              "      <td>2017-01-01</td>\n",
              "      <td>Belgium</td>\n",
              "      <td>KaggleRama</td>\n",
              "      <td>Kaggle Advanced Techniques</td>\n",
              "      <td>240</td>\n",
              "      <td>2017</td>\n",
              "      <td>1</td>\n",
              "      <td>1</td>\n",
              "    </tr>\n",
              "    <tr>\n",
              "      <th>5</th>\n",
              "      <td>2017-01-01</td>\n",
              "      <td>Belgium</td>\n",
              "      <td>KaggleRama</td>\n",
              "      <td>Kaggle Getting Started</td>\n",
              "      <td>187</td>\n",
              "      <td>2017</td>\n",
              "      <td>1</td>\n",
              "      <td>1</td>\n",
              "    </tr>\n",
              "    <tr>\n",
              "      <th>6</th>\n",
              "      <td>2017-01-01</td>\n",
              "      <td>Belgium</td>\n",
              "      <td>KaggleRama</td>\n",
              "      <td>Kaggle Recipe Book</td>\n",
              "      <td>158</td>\n",
              "      <td>2017</td>\n",
              "      <td>1</td>\n",
              "      <td>1</td>\n",
              "    </tr>\n",
              "    <tr>\n",
              "      <th>7</th>\n",
              "      <td>2017-01-01</td>\n",
              "      <td>Belgium</td>\n",
              "      <td>KaggleRama</td>\n",
              "      <td>Kaggle for Kids: One Smart Goose</td>\n",
              "      <td>267</td>\n",
              "      <td>2017</td>\n",
              "      <td>1</td>\n",
              "      <td>1</td>\n",
              "    </tr>\n",
              "    <tr>\n",
              "      <th>8</th>\n",
              "      <td>2017-01-01</td>\n",
              "      <td>France</td>\n",
              "      <td>KaggleMart</td>\n",
              "      <td>Kaggle Advanced Techniques</td>\n",
              "      <td>610</td>\n",
              "      <td>2017</td>\n",
              "      <td>1</td>\n",
              "      <td>1</td>\n",
              "    </tr>\n",
              "    <tr>\n",
              "      <th>9</th>\n",
              "      <td>2017-01-01</td>\n",
              "      <td>France</td>\n",
              "      <td>KaggleMart</td>\n",
              "      <td>Kaggle Getting Started</td>\n",
              "      <td>463</td>\n",
              "      <td>2017</td>\n",
              "      <td>1</td>\n",
              "      <td>1</td>\n",
              "    </tr>\n",
              "  </tbody>\n",
              "</table>\n",
              "</div>"
            ],
            "text/plain": [
              "        date  country       store                           product  num_sold  \\\n",
              "0 2017-01-01  Belgium  KaggleMart        Kaggle Advanced Techniques       663   \n",
              "1 2017-01-01  Belgium  KaggleMart            Kaggle Getting Started       615   \n",
              "2 2017-01-01  Belgium  KaggleMart                Kaggle Recipe Book       480   \n",
              "3 2017-01-01  Belgium  KaggleMart  Kaggle for Kids: One Smart Goose       710   \n",
              "4 2017-01-01  Belgium  KaggleRama        Kaggle Advanced Techniques       240   \n",
              "5 2017-01-01  Belgium  KaggleRama            Kaggle Getting Started       187   \n",
              "6 2017-01-01  Belgium  KaggleRama                Kaggle Recipe Book       158   \n",
              "7 2017-01-01  Belgium  KaggleRama  Kaggle for Kids: One Smart Goose       267   \n",
              "8 2017-01-01   France  KaggleMart        Kaggle Advanced Techniques       610   \n",
              "9 2017-01-01   France  KaggleMart            Kaggle Getting Started       463   \n",
              "\n",
              "   year  month  day  \n",
              "0  2017      1    1  \n",
              "1  2017      1    1  \n",
              "2  2017      1    1  \n",
              "3  2017      1    1  \n",
              "4  2017      1    1  \n",
              "5  2017      1    1  \n",
              "6  2017      1    1  \n",
              "7  2017      1    1  \n",
              "8  2017      1    1  \n",
              "9  2017      1    1  "
            ]
          },
          "execution_count": 135,
          "metadata": {},
          "output_type": "execute_result"
        }
      ],
      "source": [
        "encoded_data = train_data.copy()\n",
        "\n",
        "# Inverse transform the encoded data\n",
        "for cat in ['country', 'store', 'product']:\n",
        "    encoder = encoder_dict[cat]\n",
        "    encoded_data[cat] = encoder.inverse_transform(encoded_data[cat])\n",
        "encoded_data.head(10)"
      ]
    },
    {
      "cell_type": "code",
      "execution_count": 136,
      "metadata": {
        "colab": {
          "base_uri": "https://localhost:8080/",
          "height": 1000
        },
        "id": "wR6kh_xddkcm",
        "outputId": "d24498cd-fffb-443e-f75d-9cacdcaef91b"
      },
      "outputs": [
        {
          "name": "stderr",
          "output_type": "stream",
          "text": [
            "C:\\Users\\ssri2\\AppData\\Local\\Temp\\ipykernel_8860\\233630430.py:2: FutureWarning: The default value of numeric_only in DataFrame.corr is deprecated. In a future version, it will default to False. Select only valid columns or specify the value of numeric_only to silence this warning.\n",
            "  corr_matrix = train_data.corr()\n"
          ]
        },
        {
          "data": {
            "image/png": "[encoded data removed]",
            "text/plain": [
              "<Figure size 1500x1500 with 2 Axes>"
            ]
          },
          "metadata": {},
          "output_type": "display_data"
        }
      ],
      "source": [
        "plt.figure(figsize = (15,15))\n",
        "corr_matrix = train_data.corr()\n",
        "\n",
        "# Create heatmap\n",
        "sns.heatmap(corr_matrix,annot = True)\n",
        "\n",
        "# Show plot\n",
        "plt.show()"
      ]
    },
    {
      "cell_type": "markdown",
      "metadata": {
        "id": "6a8PLJ6texTH"
      },
      "source": [
        "Correlation map shows that 'num_sold' column is highly correlated with 'country','store','year'.\n",
        "\n",
        "We can drop 'row_id' column as it is weakly correlated with 'num_sold' column.\n",
        " \n",
        "Though 'product' column is weakly correlated with 'num_sold' we can directly drop that column. Instead we can first visualize how it varies with target column."
      ]
    },
    {
      "cell_type": "markdown",
      "metadata": {
        "id": "KGMeKodK77tw"
      },
      "source": [
        "**Preprocessing**"
      ]
    },
    {
      "cell_type": "code",
      "execution_count": 137,
      "metadata": {
        "id": "nKfkdLNS8QyQ"
      },
      "outputs": [],
      "source": [
        "train_data.drop(['date'],axis = 1,inplace = True)"
      ]
    },
    {
      "cell_type": "code",
      "execution_count": 138,
      "metadata": {
        "id": "rzB5H83H8blC"
      },
      "outputs": [],
      "source": [
        "test_data.drop(['date'],axis = 1,inplace = True)"
      ]
    },
    {
      "cell_type": "code",
      "execution_count": 139,
      "metadata": {
        "id": "Phcxay9-8iGu"
      },
      "outputs": [],
      "source": [
        "train_data.drop(['day'],axis = 1,inplace = True)\n",
        "test_data.drop(['day'],axis = 1,inplace = True)"
      ]
    },
    {
      "cell_type": "code",
      "execution_count": 140,
      "metadata": {
        "colab": {
          "base_uri": "https://localhost:8080/",
          "height": 206
        },
        "id": "WJrtogB89waR",
        "outputId": "f0f62a96-d50d-4185-986b-0d5d76991fff"
      },
      "outputs": [
        {
          "data": {
            "text/html": [
              "<div>\n",
              "<style scoped>\n",
              "    .dataframe tbody tr th:only-of-type {\n",
              "        vertical-align: middle;\n",
              "    }\n",
              "\n",
              "    .dataframe tbody tr th {\n",
              "        vertical-align: top;\n",
              "    }\n",
              "\n",
              "    .dataframe thead th {\n",
              "        text-align: right;\n",
              "    }\n",
              "</style>\n",
              "<table border=\"1\" class=\"dataframe\">\n",
              "  <thead>\n",
              "    <tr style=\"text-align: right;\">\n",
              "      <th></th>\n",
              "      <th>country</th>\n",
              "      <th>store</th>\n",
              "      <th>product</th>\n",
              "      <th>num_sold</th>\n",
              "      <th>year</th>\n",
              "      <th>month</th>\n",
              "    </tr>\n",
              "  </thead>\n",
              "  <tbody>\n",
              "    <tr>\n",
              "      <th>0</th>\n",
              "      <td>0</td>\n",
              "      <td>0</td>\n",
              "      <td>0</td>\n",
              "      <td>663</td>\n",
              "      <td>2017</td>\n",
              "      <td>1</td>\n",
              "    </tr>\n",
              "    <tr>\n",
              "      <th>1</th>\n",
              "      <td>0</td>\n",
              "      <td>0</td>\n",
              "      <td>1</td>\n",
              "      <td>615</td>\n",
              "      <td>2017</td>\n",
              "      <td>1</td>\n",
              "    </tr>\n",
              "    <tr>\n",
              "      <th>2</th>\n",
              "      <td>0</td>\n",
              "      <td>0</td>\n",
              "      <td>2</td>\n",
              "      <td>480</td>\n",
              "      <td>2017</td>\n",
              "      <td>1</td>\n",
              "    </tr>\n",
              "    <tr>\n",
              "      <th>3</th>\n",
              "      <td>0</td>\n",
              "      <td>0</td>\n",
              "      <td>3</td>\n",
              "      <td>710</td>\n",
              "      <td>2017</td>\n",
              "      <td>1</td>\n",
              "    </tr>\n",
              "    <tr>\n",
              "      <th>4</th>\n",
              "      <td>0</td>\n",
              "      <td>1</td>\n",
              "      <td>0</td>\n",
              "      <td>240</td>\n",
              "      <td>2017</td>\n",
              "      <td>1</td>\n",
              "    </tr>\n",
              "  </tbody>\n",
              "</table>\n",
              "</div>"
            ],
            "text/plain": [
              "   country  store  product  num_sold  year  month\n",
              "0        0      0        0       663  2017      1\n",
              "1        0      0        1       615  2017      1\n",
              "2        0      0        2       480  2017      1\n",
              "3        0      0        3       710  2017      1\n",
              "4        0      1        0       240  2017      1"
            ]
          },
          "execution_count": 140,
          "metadata": {},
          "output_type": "execute_result"
        }
      ],
      "source": [
        "train_data.head()"
      ]
    },
    {
      "cell_type": "code",
      "execution_count": 141,
      "metadata": {
        "colab": {
          "base_uri": "https://localhost:8080/",
          "height": 206
        },
        "id": "PEWjLAS290CT",
        "outputId": "b089af43-047b-4eec-91ec-03ef4658fdba"
      },
      "outputs": [
        {
          "data": {
            "text/html": [
              "<div>\n",
              "<style scoped>\n",
              "    .dataframe tbody tr th:only-of-type {\n",
              "        vertical-align: middle;\n",
              "    }\n",
              "\n",
              "    .dataframe tbody tr th {\n",
              "        vertical-align: top;\n",
              "    }\n",
              "\n",
              "    .dataframe thead th {\n",
              "        text-align: right;\n",
              "    }\n",
              "</style>\n",
              "<table border=\"1\" class=\"dataframe\">\n",
              "  <thead>\n",
              "    <tr style=\"text-align: right;\">\n",
              "      <th></th>\n",
              "      <th>country</th>\n",
              "      <th>store</th>\n",
              "      <th>product</th>\n",
              "      <th>year</th>\n",
              "      <th>month</th>\n",
              "    </tr>\n",
              "  </thead>\n",
              "  <tbody>\n",
              "    <tr>\n",
              "      <th>0</th>\n",
              "      <td>0</td>\n",
              "      <td>0</td>\n",
              "      <td>0</td>\n",
              "      <td>2021</td>\n",
              "      <td>1</td>\n",
              "    </tr>\n",
              "    <tr>\n",
              "      <th>1</th>\n",
              "      <td>0</td>\n",
              "      <td>0</td>\n",
              "      <td>1</td>\n",
              "      <td>2021</td>\n",
              "      <td>1</td>\n",
              "    </tr>\n",
              "    <tr>\n",
              "      <th>2</th>\n",
              "      <td>0</td>\n",
              "      <td>0</td>\n",
              "      <td>2</td>\n",
              "      <td>2021</td>\n",
              "      <td>1</td>\n",
              "    </tr>\n",
              "    <tr>\n",
              "      <th>3</th>\n",
              "      <td>0</td>\n",
              "      <td>0</td>\n",
              "      <td>3</td>\n",
              "      <td>2021</td>\n",
              "      <td>1</td>\n",
              "    </tr>\n",
              "    <tr>\n",
              "      <th>4</th>\n",
              "      <td>0</td>\n",
              "      <td>1</td>\n",
              "      <td>0</td>\n",
              "      <td>2021</td>\n",
              "      <td>1</td>\n",
              "    </tr>\n",
              "  </tbody>\n",
              "</table>\n",
              "</div>"
            ],
            "text/plain": [
              "   country  store  product  year  month\n",
              "0        0      0        0  2021      1\n",
              "1        0      0        1  2021      1\n",
              "2        0      0        2  2021      1\n",
              "3        0      0        3  2021      1\n",
              "4        0      1        0  2021      1"
            ]
          },
          "execution_count": 141,
          "metadata": {},
          "output_type": "execute_result"
        }
      ],
      "source": [
        "\n",
        "test_data.head()"
      ]
    },
    {
      "cell_type": "code",
      "execution_count": 142,
      "metadata": {
        "colab": {
          "base_uri": "https://localhost:8080/",
          "height": 1000
        },
        "id": "mZ1N80Ha_K05",
        "outputId": "9da21dca-d01a-4d9d-f6e6-c1960763d6ce"
      },
      "outputs": [
        {
          "data": {
            "image/png": "[encoded data removed]",
            "text/plain": [
              "<Figure size 1500x1500 with 2 Axes>"
            ]
          },
          "metadata": {},
          "output_type": "display_data"
        }
      ],
      "source": [
        "plt.figure(figsize = (15,15))\n",
        "corr_matrix = train_data.corr()\n",
        "\n",
        "# Create heatmap\n",
        "sns.heatmap(corr_matrix,annot = True)\n",
        "\n",
        "# Show plot\n",
        "plt.show()"
      ]
    },
    {
      "cell_type": "markdown",
      "metadata": {
        "id": "02Ks0OIV-M1F"
      },
      "source": [
        "**Train Test Split**"
      ]
    },
    {
      "cell_type": "code",
      "execution_count": 143,
      "metadata": {
        "colab": {
          "base_uri": "https://localhost:8080/"
        },
        "id": "ucpK_1dB91ac",
        "outputId": "5a234128-9caa-464d-f8c6-007add19753f"
      },
      "outputs": [
        {
          "name": "stdout",
          "output_type": "stream",
          "text": [
            "X-train shape : (56102, 5)\n",
            "y-train shape : (56102,)\n",
            "X-val shape : (14026, 5)\n",
            "y-val shape : (14026,)\n"
          ]
        }
      ],
      "source": [
        "from sklearn.model_selection import train_test_split\n",
        "\n",
        "y = train_data['num_sold'] #target column\n",
        "X = train_data.drop(['num_sold'], axis =1)  #training columns\n",
        "\n",
        "X_train, X_val, y_train, y_val = train_test_split(X, y, test_size=0.2,random_state = 42)\n",
        "\n",
        "\n",
        "print(\"X-train shape :\", X_train.shape)\n",
        "print(\"y-train shape :\", y_train.shape)\n",
        "print(\"X-val shape :\", X_val.shape)\n",
        "print(\"y-val shape :\", y_val.shape)"
      ]
    },
    {
      "cell_type": "markdown",
      "metadata": {
        "id": "a0BFYKLM-gnJ"
      },
      "source": [
        "**Modelling**"
      ]
    },
    {
      "cell_type": "code",
      "execution_count": 144,
      "metadata": {
        "id": "l_iuwaOCCcqc"
      },
      "outputs": [],
      "source": [
        "def mape(actual, pred): \n",
        "    actual, pred = np.array(actual), np.array(pred)\n",
        "    return np.mean(np.abs((actual - pred) / actual)) * 100"
      ]
    },
    {
      "cell_type": "code",
      "execution_count": 145,
      "metadata": {
        "id": "Cf7kw1VWzlYR"
      },
      "outputs": [],
      "source": [
        "def smape(y_true, y_pred):\n",
        "    return (100/len(y_true)) * np.sum(2 * np.abs(y_pred - y_true) / (np.abs(y_true) + np.abs(y_pred)))\n"
      ]
    },
    {
      "cell_type": "markdown",
      "metadata": {
        "id": "geLKzYNExHE5"
      },
      "source": [
        "**Linear Regression**"
      ]
    },
    {
      "cell_type": "code",
      "execution_count": 146,
      "metadata": {
        "colab": {
          "base_uri": "https://localhost:8080/"
        },
        "id": "NTFbbLLc-Ya4",
        "outputId": "d4365370-b020-4959-dd71-37d39e8507e4"
      },
      "outputs": [
        {
          "name": "stdout",
          "output_type": "stream",
          "text": [
            "SMAPE score: 32.24%\n",
            "RMSE Score :  76.76921795839816\n",
            "Mean Absolute Percentage Error: 37.93543839647205\n",
            "Mean Absolute Error :  57.10750204039139\n",
            "r2 - Score : 0.6264958346796721\n"
          ]
        }
      ],
      "source": [
        "from sklearn.linear_model import LinearRegression\n",
        "LR_model = LinearRegression()\n",
        "\n",
        "LR_model.fit(X_train, y_train)\n",
        "\n",
        "# Predict target variable using fitted model on testing data\n",
        "y_pred = LR_model.predict(X_val)\n",
        "\n",
        "# Calculate evaluation metrics on testing data\n",
        "rmse = np.sqrt(mean_squared_error(y_val, y_pred)) \n",
        "mape = np.mean(np.abs((y_val - y_pred) / y_val)) * 100\n",
        "mae = mean_absolute_error(y_val, y_pred)\n",
        "r2 = r2_score(y_val, y_pred)\n",
        "smape_score = smape(y_val, y_pred)\n",
        "\n",
        "print(\"SMAPE score: {:.2f}%\".format(smape_score))\n",
        "print('RMSE Score : ',rmse)\n",
        "print(\"Mean Absolute Percentage Error:\", mape)\n",
        "print('Mean Absolute Error : ',mae)\n",
        "print('r2 - Score :',r2)"
      ]
    },
    {
      "cell_type": "code",
      "execution_count": 147,
      "metadata": {
        "id": "6vVn-3nLj3Gj"
      },
      "outputs": [],
      "source": [
        "Metrics = pd.DataFrame({\n",
        "    'SMAPE' : smape_score,\n",
        "    'MAPE' : mape,\n",
        "    'MAE' : mae,\n",
        "    'rmse' : rmse,\n",
        "    'R2 - score ' : r2},index = ['Linear Regression'])"
      ]
    },
    {
      "cell_type": "code",
      "execution_count": 148,
      "metadata": {
        "colab": {
          "base_uri": "https://localhost:8080/",
          "height": 81
        },
        "id": "1cVMaK1Oj41h",
        "outputId": "4f5c3e48-e4c8-4f12-bffa-98a89c69b79f"
      },
      "outputs": [
        {
          "data": {
            "text/html": [
              "<div>\n",
              "<style scoped>\n",
              "    .dataframe tbody tr th:only-of-type {\n",
              "        vertical-align: middle;\n",
              "    }\n",
              "\n",
              "    .dataframe tbody tr th {\n",
              "        vertical-align: top;\n",
              "    }\n",
              "\n",
              "    .dataframe thead th {\n",
              "        text-align: right;\n",
              "    }\n",
              "</style>\n",
              "<table border=\"1\" class=\"dataframe\">\n",
              "  <thead>\n",
              "    <tr style=\"text-align: right;\">\n",
              "      <th></th>\n",
              "      <th>SMAPE</th>\n",
              "      <th>MAPE</th>\n",
              "      <th>MAE</th>\n",
              "      <th>rmse</th>\n",
              "      <th>R2 - score</th>\n",
              "    </tr>\n",
              "  </thead>\n",
              "  <tbody>\n",
              "    <tr>\n",
              "      <th>Linear Regression</th>\n",
              "      <td>32.241089</td>\n",
              "      <td>37.935438</td>\n",
              "      <td>57.107502</td>\n",
              "      <td>76.769218</td>\n",
              "      <td>0.626496</td>\n",
              "    </tr>\n",
              "  </tbody>\n",
              "</table>\n",
              "</div>"
            ],
            "text/plain": [
              "                       SMAPE       MAPE        MAE       rmse  R2 - score \n",
              "Linear Regression  32.241089  37.935438  57.107502  76.769218     0.626496"
            ]
          },
          "execution_count": 148,
          "metadata": {},
          "output_type": "execute_result"
        }
      ],
      "source": [
        "Metrics"
      ]
    },
    {
      "cell_type": "markdown",
      "metadata": {
        "id": "uBfeQBRozr1c"
      },
      "source": [
        "**Decision Tree Regressor**"
      ]
    },
    {
      "cell_type": "code",
      "execution_count": 149,
      "metadata": {
        "colab": {
          "base_uri": "https://localhost:8080/"
        },
        "id": "l74vrpCRzwM6",
        "outputId": "918efaa8-9eb7-4f75-dded-6ff23995bac8"
      },
      "outputs": [
        {
          "name": "stdout",
          "output_type": "stream",
          "text": [
            "SMAPE score: 8.91%\n",
            "RMSE Score :  28.915451904340802\n",
            "Mean Absolute Percentage Error: 8.909509946772861\n",
            "Mean Absolute Error :  17.74743584685675\n",
            "r2 - Score : 0.947011553824499\n"
          ]
        }
      ],
      "source": [
        "from sklearn.tree import DecisionTreeRegressor\n",
        "from sklearn.metrics import mean_squared_error\n",
        "regressor = DecisionTreeRegressor()\n",
        "regressor.fit(X_train, y_train)\n",
        "\n",
        "# Predict target variable using fitted model on testing data\n",
        "y_pred = regressor.predict(X_val)\n",
        "rmse = np.sqrt(mean_squared_error(y_val, y_pred)) \n",
        "mape = np.mean(np.abs((y_val - y_pred) / y_val)) * 100\n",
        "mae = mean_absolute_error(y_val, y_pred)\n",
        "r2 = r2_score(y_val, y_pred)\n",
        "smape_score = smape(y_val, y_pred)\n",
        "\n",
        "print(\"SMAPE score: {:.2f}%\".format(smape_score))\n",
        "print('RMSE Score : ',rmse)\n",
        "print(\"Mean Absolute Percentage Error:\", mape)\n",
        "print('Mean Absolute Error : ',mae)\n",
        "print('r2 - Score :',r2)"
      ]
    },
    {
      "cell_type": "code",
      "execution_count": 150,
      "metadata": {
        "id": "6X5mMclTj-Wg"
      },
      "outputs": [],
      "source": [
        "DT_Metrics = pd.DataFrame({\n",
        "    'SMAPE' : smape_score,\n",
        "    'MAPE' : mape,\n",
        "    'MAE' : mae,\n",
        "    'rmse' : rmse,\n",
        "    'R2 - score ' : r2},index = ['Decision Tree Regressor'])"
      ]
    },
    {
      "cell_type": "code",
      "execution_count": 151,
      "metadata": {
        "id": "soIZ2080j_ru"
      },
      "outputs": [],
      "source": [
        "Metrics = pd.concat([Metrics,DT_Metrics])"
      ]
    },
    {
      "cell_type": "code",
      "execution_count": 152,
      "metadata": {
        "colab": {
          "base_uri": "https://localhost:8080/",
          "height": 112
        },
        "id": "_ji1bID_kCMW",
        "outputId": "17ad3184-1344-4d6a-a1e5-f71bd6532cd9"
      },
      "outputs": [
        {
          "data": {
            "text/html": [
              "<div>\n",
              "<style scoped>\n",
              "    .dataframe tbody tr th:only-of-type {\n",
              "        vertical-align: middle;\n",
              "    }\n",
              "\n",
              "    .dataframe tbody tr th {\n",
              "        vertical-align: top;\n",
              "    }\n",
              "\n",
              "    .dataframe thead th {\n",
              "        text-align: right;\n",
              "    }\n",
              "</style>\n",
              "<table border=\"1\" class=\"dataframe\">\n",
              "  <thead>\n",
              "    <tr style=\"text-align: right;\">\n",
              "      <th></th>\n",
              "      <th>SMAPE</th>\n",
              "      <th>MAPE</th>\n",
              "      <th>MAE</th>\n",
              "      <th>rmse</th>\n",
              "      <th>R2 - score</th>\n",
              "    </tr>\n",
              "  </thead>\n",
              "  <tbody>\n",
              "    <tr>\n",
              "      <th>Linear Regression</th>\n",
              "      <td>32.241089</td>\n",
              "      <td>37.935438</td>\n",
              "      <td>57.107502</td>\n",
              "      <td>76.769218</td>\n",
              "      <td>0.626496</td>\n",
              "    </tr>\n",
              "    <tr>\n",
              "      <th>Decision Tree Regressor</th>\n",
              "      <td>8.913633</td>\n",
              "      <td>8.909510</td>\n",
              "      <td>17.747436</td>\n",
              "      <td>28.915452</td>\n",
              "      <td>0.947012</td>\n",
              "    </tr>\n",
              "  </tbody>\n",
              "</table>\n",
              "</div>"
            ],
            "text/plain": [
              "                             SMAPE       MAPE        MAE       rmse  \\\n",
              "Linear Regression        32.241089  37.935438  57.107502  76.769218   \n",
              "Decision Tree Regressor   8.913633   8.909510  17.747436  28.915452   \n",
              "\n",
              "                         R2 - score   \n",
              "Linear Regression           0.626496  \n",
              "Decision Tree Regressor     0.947012  "
            ]
          },
          "execution_count": 152,
          "metadata": {},
          "output_type": "execute_result"
        }
      ],
      "source": [
        "Metrics"
      ]
    },
    {
      "cell_type": "markdown",
      "metadata": {
        "id": "vDefYc_WxZyh"
      },
      "source": [
        "**Random Forest Regressor**"
      ]
    },
    {
      "cell_type": "code",
      "execution_count": 153,
      "metadata": {
        "id": "545YV9F7yFl8"
      },
      "outputs": [],
      "source": [
        "rf = RandomForestRegressor(n_estimators= 100,max_depth= 10,min_samples_split=5,min_samples_leaf= 2,max_features= 'sqrt')"
      ]
    },
    {
      "cell_type": "code",
      "execution_count": 154,
      "metadata": {
        "id": "n_MMWg6XyvJe"
      },
      "outputs": [],
      "source": [
        "# param_grid = {\n",
        "#     'n_estimators': [50, 100, 200],\n",
        "#     'max_depth': [5, 10, 20, None],\n",
        "#     'min_samples_split': [2, 5, 10],\n",
        "#     'min_samples_leaf': [1, 2, 4],\n",
        "#     'max_features': ['auto', 'sqrt']\n",
        "# }"
      ]
    },
    {
      "cell_type": "code",
      "execution_count": 155,
      "metadata": {
        "id": "CUwyk3VkywJc"
      },
      "outputs": [],
      "source": [
        "# grid_search = GridSearchCV(estimator=rf, param_grid=param_grid, cv=5, n_jobs=-1)\n"
      ]
    },
    {
      "cell_type": "code",
      "execution_count": 156,
      "metadata": {
        "id": "_keiPcD3yyt3"
      },
      "outputs": [],
      "source": [
        "# grid_search.fit(X_train, y_train)\n"
      ]
    },
    {
      "cell_type": "code",
      "execution_count": 157,
      "metadata": {
        "id": "ofPZKScay1AC"
      },
      "outputs": [],
      "source": [
        "# best_params = grid_search.best_params_\n",
        "# best_score = grid_search.best_score_\n"
      ]
    },
    {
      "cell_type": "code",
      "execution_count": 158,
      "metadata": {
        "id": "6szN-SOmzSMe"
      },
      "outputs": [],
      "source": [
        "# rf = RandomForestRegressor(**best_params)\n",
        "rf.fit(X_train, y_train)\n",
        "y_pred = rf.predict(X_val)\n"
      ]
    },
    {
      "cell_type": "code",
      "execution_count": 159,
      "metadata": {
        "colab": {
          "base_uri": "https://localhost:8080/"
        },
        "id": "_Y3Z3q-DDkMT",
        "outputId": "7cb9a5c2-a44d-4e2a-f930-8dc725128547"
      },
      "outputs": [
        {
          "name": "stdout",
          "output_type": "stream",
          "text": [
            "SMAPE score: 9.93%\n",
            "RMSE Score :  30.579297801435846\n",
            "Mean Absolute Percentage Error: 10.077263709015991\n",
            "Mean Absolute Error :  19.083925239319438\n",
            "r2 - Score : 0.9407380096797159\n"
          ]
        }
      ],
      "source": [
        "rmse = np.sqrt(mean_squared_error(y_val, y_pred)) \n",
        "mape = np.mean(np.abs((y_val - y_pred) / y_val)) * 100\n",
        "mae = mean_absolute_error(y_val, y_pred)\n",
        "r2 = r2_score(y_val, y_pred)\n",
        "smape_score = smape(y_val, y_pred)\n",
        "\n",
        "print(\"SMAPE score: {:.2f}%\".format(smape_score))\n",
        "print('RMSE Score : ',rmse)\n",
        "print(\"Mean Absolute Percentage Error:\", mape)\n",
        "print('Mean Absolute Error : ',mae)\n",
        "print('r2 - Score :',r2)"
      ]
    },
    {
      "cell_type": "code",
      "execution_count": 160,
      "metadata": {
        "id": "UpV5SvmbkIKr"
      },
      "outputs": [],
      "source": [
        "RF_Metrics = pd.DataFrame({\n",
        "    'SMAPE' : smape_score,\n",
        "    'MAPE' : mape,\n",
        "    'MAE' : mae,\n",
        "    'rmse' : rmse,\n",
        "    'R2 - score ' : r2},index = ['Random Forest Regressor'])\n",
        "Metrics = pd.concat([Metrics,RF_Metrics])"
      ]
    },
    {
      "cell_type": "code",
      "execution_count": 161,
      "metadata": {
        "colab": {
          "base_uri": "https://localhost:8080/",
          "height": 143
        },
        "id": "X89azQk5kJuB",
        "outputId": "f2842d25-d3b5-4c18-f46e-726547c14f60"
      },
      "outputs": [
        {
          "data": {
            "text/html": [
              "<div>\n",
              "<style scoped>\n",
              "    .dataframe tbody tr th:only-of-type {\n",
              "        vertical-align: middle;\n",
              "    }\n",
              "\n",
              "    .dataframe tbody tr th {\n",
              "        vertical-align: top;\n",
              "    }\n",
              "\n",
              "    .dataframe thead th {\n",
              "        text-align: right;\n",
              "    }\n",
              "</style>\n",
              "<table border=\"1\" class=\"dataframe\">\n",
              "  <thead>\n",
              "    <tr style=\"text-align: right;\">\n",
              "      <th></th>\n",
              "      <th>SMAPE</th>\n",
              "      <th>MAPE</th>\n",
              "      <th>MAE</th>\n",
              "      <th>rmse</th>\n",
              "      <th>R2 - score</th>\n",
              "    </tr>\n",
              "  </thead>\n",
              "  <tbody>\n",
              "    <tr>\n",
              "      <th>Linear Regression</th>\n",
              "      <td>32.241089</td>\n",
              "      <td>37.935438</td>\n",
              "      <td>57.107502</td>\n",
              "      <td>76.769218</td>\n",
              "      <td>0.626496</td>\n",
              "    </tr>\n",
              "    <tr>\n",
              "      <th>Decision Tree Regressor</th>\n",
              "      <td>8.913633</td>\n",
              "      <td>8.909510</td>\n",
              "      <td>17.747436</td>\n",
              "      <td>28.915452</td>\n",
              "      <td>0.947012</td>\n",
              "    </tr>\n",
              "    <tr>\n",
              "      <th>Random Forest Regressor</th>\n",
              "      <td>9.931170</td>\n",
              "      <td>10.077264</td>\n",
              "      <td>19.083925</td>\n",
              "      <td>30.579298</td>\n",
              "      <td>0.940738</td>\n",
              "    </tr>\n",
              "  </tbody>\n",
              "</table>\n",
              "</div>"
            ],
            "text/plain": [
              "                             SMAPE       MAPE        MAE       rmse  \\\n",
              "Linear Regression        32.241089  37.935438  57.107502  76.769218   \n",
              "Decision Tree Regressor   8.913633   8.909510  17.747436  28.915452   \n",
              "Random Forest Regressor   9.931170  10.077264  19.083925  30.579298   \n",
              "\n",
              "                         R2 - score   \n",
              "Linear Regression           0.626496  \n",
              "Decision Tree Regressor     0.947012  \n",
              "Random Forest Regressor     0.940738  "
            ]
          },
          "execution_count": 161,
          "metadata": {},
          "output_type": "execute_result"
        }
      ],
      "source": [
        "Metrics"
      ]
    },
    {
      "cell_type": "markdown",
      "metadata": {
        "id": "JiwM04nTEc3V"
      },
      "source": [
        "**XGBoost Regressor**"
      ]
    },
    {
      "cell_type": "code",
      "execution_count": 162,
      "metadata": {
        "id": "TV9X6CE_Dpxr"
      },
      "outputs": [],
      "source": [
        "import xgboost as xgb\n",
        "xg_reg = xgb.XGBRegressor(objective='reg:squarederror', n_estimators=900, seed=42,missing = 1)\n",
        "\n",
        "xg_reg.fit(X_train, y_train)\n",
        "\n",
        "# Make predictions on the testing data\n",
        "y_pred = xg_reg.predict(X_val)"
      ]
    },
    {
      "cell_type": "code",
      "execution_count": 163,
      "metadata": {
        "colab": {
          "base_uri": "https://localhost:8080/"
        },
        "id": "4H2nDBfnE8Oq",
        "outputId": "0a66a545-528f-4b19-84a5-73afe2d146fd"
      },
      "outputs": [
        {
          "name": "stdout",
          "output_type": "stream",
          "text": [
            "SMAPE score: 8.88%\n",
            "RMSE Score :  28.83960898898401\n",
            "Mean Absolute Percentage Error: 8.877592003143803\n",
            "Mean Absolute Error :  17.68779175920322\n",
            "r2 - Score : 0.947289158183472\n"
          ]
        }
      ],
      "source": [
        "rmse = np.sqrt(mean_squared_error(y_val, y_pred)) \n",
        "mape = np.mean(np.abs((y_val - y_pred) / y_val)) * 100\n",
        "mae = mean_absolute_error(y_val, y_pred)\n",
        "r2 = r2_score(y_val, y_pred)\n",
        "smape_score = smape(y_val, y_pred)\n",
        "\n",
        "print(\"SMAPE score: {:.2f}%\".format(smape_score))\n",
        "print('RMSE Score : ',rmse)\n",
        "print(\"Mean Absolute Percentage Error:\", mape)\n",
        "print('Mean Absolute Error : ',mae)\n",
        "print('r2 - Score :',r2)"
      ]
    },
    {
      "cell_type": "code",
      "execution_count": 164,
      "metadata": {
        "id": "vCHkFXMRkRqW"
      },
      "outputs": [],
      "source": [
        "XG_Metrics = pd.DataFrame({\n",
        "    'SMAPE' : smape_score,\n",
        "    'MAPE' : mape,\n",
        "    'MAE' : mae,\n",
        "    'rmse' : rmse,\n",
        "    'R2 - score ' : r2},index = ['XGBoost Regressor'])\n",
        "Metrics = pd.concat([Metrics,XG_Metrics])"
      ]
    },
    {
      "cell_type": "code",
      "execution_count": 165,
      "metadata": {
        "colab": {
          "base_uri": "https://localhost:8080/",
          "height": 206
        },
        "id": "maS3ppRwkS_B",
        "outputId": "f84265fd-a8f2-4f7f-b065-af82d7eedba6"
      },
      "outputs": [
        {
          "data": {
            "text/html": [
              "<div>\n",
              "<style scoped>\n",
              "    .dataframe tbody tr th:only-of-type {\n",
              "        vertical-align: middle;\n",
              "    }\n",
              "\n",
              "    .dataframe tbody tr th {\n",
              "        vertical-align: top;\n",
              "    }\n",
              "\n",
              "    .dataframe thead th {\n",
              "        text-align: right;\n",
              "    }\n",
              "</style>\n",
              "<table border=\"1\" class=\"dataframe\">\n",
              "  <thead>\n",
              "    <tr style=\"text-align: right;\">\n",
              "      <th></th>\n",
              "      <th>SMAPE</th>\n",
              "      <th>MAPE</th>\n",
              "      <th>MAE</th>\n",
              "      <th>rmse</th>\n",
              "      <th>R2 - score</th>\n",
              "    </tr>\n",
              "  </thead>\n",
              "  <tbody>\n",
              "    <tr>\n",
              "      <th>Linear Regression</th>\n",
              "      <td>32.241089</td>\n",
              "      <td>37.935438</td>\n",
              "      <td>57.107502</td>\n",
              "      <td>76.769218</td>\n",
              "      <td>0.626496</td>\n",
              "    </tr>\n",
              "    <tr>\n",
              "      <th>Decision Tree Regressor</th>\n",
              "      <td>8.913633</td>\n",
              "      <td>8.909510</td>\n",
              "      <td>17.747436</td>\n",
              "      <td>28.915452</td>\n",
              "      <td>0.947012</td>\n",
              "    </tr>\n",
              "    <tr>\n",
              "      <th>Random Forest Regressor</th>\n",
              "      <td>9.931170</td>\n",
              "      <td>10.077264</td>\n",
              "      <td>19.083925</td>\n",
              "      <td>30.579298</td>\n",
              "      <td>0.940738</td>\n",
              "    </tr>\n",
              "    <tr>\n",
              "      <th>XGBoost Regressor</th>\n",
              "      <td>8.881204</td>\n",
              "      <td>8.877592</td>\n",
              "      <td>17.687792</td>\n",
              "      <td>28.839609</td>\n",
              "      <td>0.947289</td>\n",
              "    </tr>\n",
              "  </tbody>\n",
              "</table>\n",
              "</div>"
            ],
            "text/plain": [
              "                             SMAPE       MAPE        MAE       rmse  \\\n",
              "Linear Regression        32.241089  37.935438  57.107502  76.769218   \n",
              "Decision Tree Regressor   8.913633   8.909510  17.747436  28.915452   \n",
              "Random Forest Regressor   9.931170  10.077264  19.083925  30.579298   \n",
              "XGBoost Regressor         8.881204   8.877592  17.687792  28.839609   \n",
              "\n",
              "                         R2 - score   \n",
              "Linear Regression           0.626496  \n",
              "Decision Tree Regressor     0.947012  \n",
              "Random Forest Regressor     0.940738  \n",
              "XGBoost Regressor           0.947289  "
            ]
          },
          "execution_count": 165,
          "metadata": {},
          "output_type": "execute_result"
        }
      ],
      "source": [
        "Metrics"
      ]
    },
    {
      "cell_type": "markdown",
      "metadata": {
        "id": "v3SoAMSAGqQw"
      },
      "source": [
        "**Submission**"
      ]
    },
    {
      "cell_type": "code",
      "execution_count": 166,
      "metadata": {
        "id": "Z18eglorGjPQ"
      },
      "outputs": [],
      "source": [
        "Submission = pd.read_csv('sample_submission.csv')"
      ]
    },
    {
      "cell_type": "code",
      "execution_count": 167,
      "metadata": {
        "colab": {
          "base_uri": "https://localhost:8080/"
        },
        "id": "JdyJJlx5HSfy",
        "outputId": "58868b24-8774-4b45-f7eb-67835c76d6f4"
      },
      "outputs": [
        {
          "data": {
            "text/plain": [
              "Index(['country', 'store', 'product', 'year', 'month'], dtype='object')"
            ]
          },
          "execution_count": 167,
          "metadata": {},
          "output_type": "execute_result"
        }
      ],
      "source": [
        "test_data.columns"
      ]
    },
    {
      "cell_type": "code",
      "execution_count": 168,
      "metadata": {
        "colab": {
          "base_uri": "https://localhost:8080/"
        },
        "id": "l9eNt2sSI4Mn",
        "outputId": "56e37c7b-436c-411c-fe36-395ab2649434"
      },
      "outputs": [
        {
          "data": {
            "text/plain": [
              "Index(['country', 'store', 'product', 'num_sold', 'year', 'month'], dtype='object')"
            ]
          },
          "execution_count": 168,
          "metadata": {},
          "output_type": "execute_result"
        }
      ],
      "source": [
        "train_data.columns"
      ]
    },
    {
      "cell_type": "code",
      "execution_count": 169,
      "metadata": {
        "id": "n5lmafDBI6yY"
      },
      "outputs": [],
      "source": [
        "Final_Prediction = xg_reg.predict(test_data)"
      ]
    },
    {
      "cell_type": "code",
      "execution_count": 170,
      "metadata": {
        "colab": {
          "base_uri": "https://localhost:8080/",
          "height": 363
        },
        "id": "r5ceEXzqJE-8",
        "outputId": "5ed1a33e-cc3b-4641-e88f-2cf10006c7ff"
      },
      "outputs": [
        {
          "data": {
            "text/html": [
              "<div>\n",
              "<style scoped>\n",
              "    .dataframe tbody tr th:only-of-type {\n",
              "        vertical-align: middle;\n",
              "    }\n",
              "\n",
              "    .dataframe tbody tr th {\n",
              "        vertical-align: top;\n",
              "    }\n",
              "\n",
              "    .dataframe thead th {\n",
              "        text-align: right;\n",
              "    }\n",
              "</style>\n",
              "<table border=\"1\" class=\"dataframe\">\n",
              "  <thead>\n",
              "    <tr style=\"text-align: right;\">\n",
              "      <th></th>\n",
              "      <th>row_id</th>\n",
              "      <th>num_sold</th>\n",
              "    </tr>\n",
              "  </thead>\n",
              "  <tbody>\n",
              "    <tr>\n",
              "      <th>0</th>\n",
              "      <td>70128</td>\n",
              "      <td>431.902679</td>\n",
              "    </tr>\n",
              "    <tr>\n",
              "      <th>1</th>\n",
              "      <td>70129</td>\n",
              "      <td>311.020203</td>\n",
              "    </tr>\n",
              "    <tr>\n",
              "      <th>2</th>\n",
              "      <td>70130</td>\n",
              "      <td>277.566956</td>\n",
              "    </tr>\n",
              "    <tr>\n",
              "      <th>3</th>\n",
              "      <td>70131</td>\n",
              "      <td>437.192566</td>\n",
              "    </tr>\n",
              "    <tr>\n",
              "      <th>4</th>\n",
              "      <td>70132</td>\n",
              "      <td>145.973770</td>\n",
              "    </tr>\n",
              "    <tr>\n",
              "      <th>5</th>\n",
              "      <td>70133</td>\n",
              "      <td>108.899742</td>\n",
              "    </tr>\n",
              "    <tr>\n",
              "      <th>6</th>\n",
              "      <td>70134</td>\n",
              "      <td>94.066399</td>\n",
              "    </tr>\n",
              "    <tr>\n",
              "      <th>7</th>\n",
              "      <td>70135</td>\n",
              "      <td>156.205612</td>\n",
              "    </tr>\n",
              "    <tr>\n",
              "      <th>8</th>\n",
              "      <td>70136</td>\n",
              "      <td>434.467712</td>\n",
              "    </tr>\n",
              "    <tr>\n",
              "      <th>9</th>\n",
              "      <td>70137</td>\n",
              "      <td>313.859833</td>\n",
              "    </tr>\n",
              "  </tbody>\n",
              "</table>\n",
              "</div>"
            ],
            "text/plain": [
              "   row_id    num_sold\n",
              "0   70128  431.902679\n",
              "1   70129  311.020203\n",
              "2   70130  277.566956\n",
              "3   70131  437.192566\n",
              "4   70132  145.973770\n",
              "5   70133  108.899742\n",
              "6   70134   94.066399\n",
              "7   70135  156.205612\n",
              "8   70136  434.467712\n",
              "9   70137  313.859833"
            ]
          },
          "execution_count": 170,
          "metadata": {},
          "output_type": "execute_result"
        }
      ],
      "source": [
        "Submission.num_sold = Final_Prediction\n",
        "Submission.head(10)"
      ]
    },
    {
      "cell_type": "code",
      "execution_count": 171,
      "metadata": {
        "colab": {
          "base_uri": "https://localhost:8080/"
        },
        "id": "q_XNsv8MJPch",
        "outputId": "fee060f0-2093-4ba0-d8e7-0b1cc19a718a"
      },
      "outputs": [
        {
          "data": {
            "text/plain": [
              "(17520, 2)"
            ]
          },
          "execution_count": 171,
          "metadata": {},
          "output_type": "execute_result"
        }
      ],
      "source": [
        "Submission.shape"
      ]
    },
    {
      "cell_type": "code",
      "execution_count": 172,
      "metadata": {
        "id": "heG9wx56JSwM"
      },
      "outputs": [],
      "source": [
        "Submission.to_csv(\"submission.csv\", index=False)"
      ]
    },
    {
      "cell_type": "code",
      "execution_count": 173,
      "metadata": {
        "colab": {
          "base_uri": "https://localhost:8080/"
        },
        "id": "B3xQ5tlNQCcu",
        "outputId": "bdd6568f-ba71-426f-a7c9-18033beb6d8a"
      },
      "outputs": [
        {
          "name": "stdout",
          "output_type": "stream",
          "text": [
            "Collecting gradio\n",
            "  Downloading gradio-3.24.0-py3-none-any.whl (15.7 MB)\n",
            "     ---------------------------------------- 0.0/15.7 MB ? eta -:--:--\n",
            "     ---------------------------------------- 0.0/15.7 MB ? eta -:--:--\n",
            "     ---------------------------------------- 0.0/15.7 MB 1.4 MB/s eta 0:00:12\n",
            "     --------------------------------------- 0.1/15.7 MB 660.6 kB/s eta 0:00:24\n",
            "     --------------------------------------- 0.1/15.7 MB 819.2 kB/s eta 0:00:20\n",
            "     --------------------------------------- 0.1/15.7 MB 819.2 kB/s eta 0:00:20\n",
            "     --------------------------------------- 0.1/15.7 MB 819.2 kB/s eta 0:00:20\n",
            "     --------------------------------------- 0.1/15.7 MB 819.2 kB/s eta 0:00:20\n",
            "     --------------------------------------- 0.1/15.7 MB 819.2 kB/s eta 0:00:20\n",
            "     --------------------------------------- 0.1/15.7 MB 819.2 kB/s eta 0:00:20\n",
            "     --------------------------------------- 0.1/15.7 MB 819.2 kB/s eta 0:00:20\n",
            "     --------------------------------------- 0.2/15.7 MB 380.8 kB/s eta 0:00:41\n",
            "      -------------------------------------- 0.2/15.7 MB 437.4 kB/s eta 0:00:36\n",
            "      -------------------------------------- 0.3/15.7 MB 513.8 kB/s eta 0:00:30\n",
            "      -------------------------------------- 0.4/15.7 MB 573.4 kB/s eta 0:00:27\n",
            "     - ------------------------------------- 0.5/15.7 MB 702.0 kB/s eta 0:00:22\n",
            "     - ------------------------------------- 0.5/15.7 MB 702.0 kB/s eta 0:00:22\n",
            "     - ------------------------------------- 0.5/15.7 MB 702.0 kB/s eta 0:00:22\n",
            "     - ------------------------------------- 0.5/15.7 MB 702.0 kB/s eta 0:00:22\n",
            "     - ------------------------------------- 0.5/15.7 MB 702.0 kB/s eta 0:00:22\n",
            "     - ------------------------------------- 0.5/15.7 MB 702.0 kB/s eta 0:00:22\n",
            "     - ------------------------------------- 0.5/15.7 MB 702.0 kB/s eta 0:00:22\n",
            "     - ------------------------------------- 0.5/15.7 MB 501.8 kB/s eta 0:00:31\n",
            "     - ------------------------------------- 0.5/15.7 MB 506.5 kB/s eta 0:00:30\n",
            "     - ------------------------------------- 0.6/15.7 MB 520.7 kB/s eta 0:00:30\n",
            "     - ------------------------------------- 0.6/15.7 MB 537.0 kB/s eta 0:00:29\n",
            "     - ------------------------------------- 0.6/15.7 MB 524.7 kB/s eta 0:00:29\n",
            "     - ------------------------------------- 0.6/15.7 MB 521.2 kB/s eta 0:00:29\n",
            "     - ------------------------------------- 0.6/15.7 MB 521.2 kB/s eta 0:00:29\n",
            "     - ------------------------------------- 0.6/15.7 MB 521.2 kB/s eta 0:00:29\n",
            "     - ------------------------------------- 0.6/15.7 MB 521.2 kB/s eta 0:00:29\n",
            "     - ------------------------------------- 0.6/15.7 MB 521.2 kB/s eta 0:00:29\n",
            "     - ------------------------------------- 0.6/15.7 MB 521.2 kB/s eta 0:00:29\n",
            "     - ------------------------------------- 0.6/15.7 MB 521.2 kB/s eta 0:00:29\n",
            "     - ------------------------------------- 0.6/15.7 MB 521.2 kB/s eta 0:00:29\n",
            "     - ------------------------------------- 0.6/15.7 MB 521.2 kB/s eta 0:00:29\n",
            "     - ------------------------------------- 0.6/15.7 MB 521.2 kB/s eta 0:00:29\n",
            "     - ------------------------------------- 0.6/15.7 MB 521.2 kB/s eta 0:00:29\n",
            "     - ------------------------------------- 0.6/15.7 MB 521.2 kB/s eta 0:00:29\n",
            "     - ------------------------------------- 0.6/15.7 MB 521.2 kB/s eta 0:00:29\n",
            "     - ------------------------------------- 0.6/15.7 MB 521.2 kB/s eta 0:00:29\n",
            "     - ------------------------------------- 0.7/15.7 MB 350.0 kB/s eta 0:00:44\n",
            "     - ------------------------------------- 0.8/15.7 MB 389.1 kB/s eta 0:00:39\n",
            "     - ------------------------------------- 0.8/15.7 MB 389.1 kB/s eta 0:00:39\n",
            "     - ------------------------------------- 0.8/15.7 MB 392.3 kB/s eta 0:00:39\n",
            "     -- ------------------------------------ 0.8/15.7 MB 398.3 kB/s eta 0:00:38\n",
            "     -- ------------------------------------ 0.9/15.7 MB 411.0 kB/s eta 0:00:37\n",
            "     -- ------------------------------------ 0.9/15.7 MB 411.5 kB/s eta 0:00:37\n",
            "     -- ------------------------------------ 0.9/15.7 MB 407.4 kB/s eta 0:00:37\n",
            "     -- ------------------------------------ 0.9/15.7 MB 405.0 kB/s eta 0:00:37\n",
            "     -- ------------------------------------ 0.9/15.7 MB 405.0 kB/s eta 0:00:37\n",
            "     -- ------------------------------------ 1.0/15.7 MB 404.7 kB/s eta 0:00:37\n",
            "     -- ------------------------------------ 1.0/15.7 MB 412.4 kB/s eta 0:00:36\n",
            "     -- ------------------------------------ 1.0/15.7 MB 424.4 kB/s eta 0:00:35\n",
            "     -- ------------------------------------ 1.1/15.7 MB 427.4 kB/s eta 0:00:35\n",
            "     -- ------------------------------------ 1.1/15.7 MB 431.6 kB/s eta 0:00:34\n",
            "     -- ------------------------------------ 1.1/15.7 MB 440.9 kB/s eta 0:00:34\n",
            "     -- ------------------------------------ 1.2/15.7 MB 451.4 kB/s eta 0:00:33\n",
            "     --- ----------------------------------- 1.3/15.7 MB 471.6 kB/s eta 0:00:31\n",
            "     --- ----------------------------------- 1.3/15.7 MB 477.3 kB/s eta 0:00:31\n",
            "     --- ----------------------------------- 1.4/15.7 MB 491.5 kB/s eta 0:00:30\n",
            "     --- ----------------------------------- 1.4/15.7 MB 491.5 kB/s eta 0:00:30\n",
            "     --- ----------------------------------- 1.4/15.7 MB 482.6 kB/s eta 0:00:30\n",
            "     --- ----------------------------------- 1.4/15.7 MB 489.8 kB/s eta 0:00:30\n",
            "     --- ----------------------------------- 1.4/15.7 MB 490.8 kB/s eta 0:00:30\n",
            "     --- ----------------------------------- 1.4/15.7 MB 490.8 kB/s eta 0:00:30\n",
            "     --- ----------------------------------- 1.5/15.7 MB 489.9 kB/s eta 0:00:30\n",
            "     --- ----------------------------------- 1.5/15.7 MB 492.4 kB/s eta 0:00:29\n",
            "     --- ----------------------------------- 1.5/15.7 MB 489.2 kB/s eta 0:00:29\n",
            "     --- ----------------------------------- 1.6/15.7 MB 501.2 kB/s eta 0:00:29\n",
            "     ---- ---------------------------------- 1.6/15.7 MB 502.8 kB/s eta 0:00:29\n",
            "     ---- ---------------------------------- 1.7/15.7 MB 502.5 kB/s eta 0:00:28\n",
            "     ---- ---------------------------------- 1.7/15.7 MB 504.0 kB/s eta 0:00:28\n",
            "     ---- ---------------------------------- 1.7/15.7 MB 509.1 kB/s eta 0:00:28\n",
            "     ---- ---------------------------------- 1.7/15.7 MB 509.1 kB/s eta 0:00:28\n",
            "     ---- ---------------------------------- 1.8/15.7 MB 513.8 kB/s eta 0:00:28\n",
            "     ---- ---------------------------------- 1.8/15.7 MB 520.2 kB/s eta 0:00:27\n",
            "     ---- ---------------------------------- 1.8/15.7 MB 519.1 kB/s eta 0:00:27\n",
            "     ---- ---------------------------------- 1.8/15.7 MB 519.1 kB/s eta 0:00:27\n",
            "     ---- ---------------------------------- 1.9/15.7 MB 514.1 kB/s eta 0:00:27\n",
            "     ---- ---------------------------------- 1.9/15.7 MB 506.1 kB/s eta 0:00:28\n",
            "     ---- ---------------------------------- 1.9/15.7 MB 515.6 kB/s eta 0:00:27\n",
            "     ---- ---------------------------------- 2.0/15.7 MB 519.5 kB/s eta 0:00:27\n",
            "     ---- ---------------------------------- 2.0/15.7 MB 519.5 kB/s eta 0:00:27\n",
            "     ---- ---------------------------------- 2.0/15.7 MB 517.4 kB/s eta 0:00:27\n",
            "     ---- ---------------------------------- 2.0/15.7 MB 517.4 kB/s eta 0:00:27\n",
            "     ----- --------------------------------- 2.0/15.7 MB 511.0 kB/s eta 0:00:27\n",
            "     ----- --------------------------------- 2.0/15.7 MB 507.5 kB/s eta 0:00:27\n",
            "     ----- --------------------------------- 2.1/15.7 MB 510.6 kB/s eta 0:00:27\n",
            "     ----- --------------------------------- 2.1/15.7 MB 505.9 kB/s eta 0:00:27\n",
            "     ----- --------------------------------- 2.1/15.7 MB 505.1 kB/s eta 0:00:27\n",
            "     ----- --------------------------------- 2.1/15.7 MB 505.1 kB/s eta 0:00:27\n",
            "     ----- --------------------------------- 2.1/15.7 MB 501.2 kB/s eta 0:00:28\n",
            "     ----- --------------------------------- 2.2/15.7 MB 502.9 kB/s eta 0:00:27\n",
            "     ----- --------------------------------- 2.2/15.7 MB 504.0 kB/s eta 0:00:27\n",
            "     ----- --------------------------------- 2.2/15.7 MB 503.8 kB/s eta 0:00:27\n",
            "     ----- --------------------------------- 2.2/15.7 MB 503.1 kB/s eta 0:00:27\n",
            "     ----- --------------------------------- 2.3/15.7 MB 501.9 kB/s eta 0:00:27\n",
            "     ----- --------------------------------- 2.3/15.7 MB 499.5 kB/s eta 0:00:27\n",
            "     ----- --------------------------------- 2.3/15.7 MB 503.3 kB/s eta 0:00:27\n",
            "     ----- --------------------------------- 2.3/15.7 MB 503.9 kB/s eta 0:00:27\n",
            "     ----- --------------------------------- 2.3/15.7 MB 499.2 kB/s eta 0:00:27\n",
            "     ----- --------------------------------- 2.3/15.7 MB 498.1 kB/s eta 0:00:27\n",
            "     ----- --------------------------------- 2.4/15.7 MB 497.5 kB/s eta 0:00:27\n",
            "     ----- --------------------------------- 2.4/15.7 MB 497.5 kB/s eta 0:00:27\n",
            "     ----- --------------------------------- 2.4/15.7 MB 497.5 kB/s eta 0:00:27\n",
            "     ----- --------------------------------- 2.4/15.7 MB 485.2 kB/s eta 0:00:28\n",
            "     ----- --------------------------------- 2.4/15.7 MB 485.8 kB/s eta 0:00:28\n",
            "     ------ -------------------------------- 2.4/15.7 MB 484.9 kB/s eta 0:00:28\n",
            "     ------ -------------------------------- 2.4/15.7 MB 486.0 kB/s eta 0:00:28\n",
            "     ------ -------------------------------- 2.5/15.7 MB 486.0 kB/s eta 0:00:28\n",
            "     ------ -------------------------------- 2.5/15.7 MB 487.0 kB/s eta 0:00:28\n",
            "     ------ -------------------------------- 2.5/15.7 MB 485.6 kB/s eta 0:00:28\n",
            "     ------ -------------------------------- 2.5/15.7 MB 484.7 kB/s eta 0:00:28\n",
            "     ------ -------------------------------- 2.6/15.7 MB 486.7 kB/s eta 0:00:27\n",
            "     ------ -------------------------------- 2.6/15.7 MB 488.2 kB/s eta 0:00:27\n",
            "     ------ -------------------------------- 2.6/15.7 MB 485.8 kB/s eta 0:00:27\n",
            "     ------ -------------------------------- 2.7/15.7 MB 491.1 kB/s eta 0:00:27\n",
            "     ------ -------------------------------- 2.7/15.7 MB 493.4 kB/s eta 0:00:27\n",
            "     ------ -------------------------------- 2.7/15.7 MB 493.4 kB/s eta 0:00:27\n",
            "     ------ -------------------------------- 2.7/15.7 MB 491.6 kB/s eta 0:00:27\n",
            "     ------ -------------------------------- 2.7/15.7 MB 491.6 kB/s eta 0:00:27\n",
            "     ------ -------------------------------- 2.7/15.7 MB 491.6 kB/s eta 0:00:27\n",
            "     ------ -------------------------------- 2.8/15.7 MB 484.8 kB/s eta 0:00:27\n",
            "     ------ -------------------------------- 2.8/15.7 MB 482.6 kB/s eta 0:00:27\n",
            "     ------ -------------------------------- 2.8/15.7 MB 483.6 kB/s eta 0:00:27\n",
            "     ------- ------------------------------- 2.9/15.7 MB 488.5 kB/s eta 0:00:27\n",
            "     ------- ------------------------------- 2.9/15.7 MB 492.0 kB/s eta 0:00:27\n",
            "     ------- ------------------------------- 2.9/15.7 MB 494.6 kB/s eta 0:00:26\n",
            "     ------- ------------------------------- 2.9/15.7 MB 491.1 kB/s eta 0:00:27\n",
            "     ------- ------------------------------- 3.0/15.7 MB 493.2 kB/s eta 0:00:26\n",
            "     ------- ------------------------------- 3.0/15.7 MB 494.6 kB/s eta 0:00:26\n",
            "     ------- ------------------------------- 3.0/15.7 MB 492.8 kB/s eta 0:00:26\n",
            "     ------- ------------------------------- 3.0/15.7 MB 492.8 kB/s eta 0:00:26\n",
            "     ------- ------------------------------- 3.1/15.7 MB 493.6 kB/s eta 0:00:26\n",
            "     ------- ------------------------------- 3.1/15.7 MB 492.8 kB/s eta 0:00:26\n",
            "     ------- ------------------------------- 3.1/15.7 MB 492.8 kB/s eta 0:00:26\n",
            "     ------- ------------------------------- 3.1/15.7 MB 492.8 kB/s eta 0:00:26\n",
            "     ------- ------------------------------- 3.2/15.7 MB 498.7 kB/s eta 0:00:26\n",
            "     -------- ------------------------------ 3.3/15.7 MB 503.0 kB/s eta 0:00:25\n",
            "     -------- ------------------------------ 3.3/15.7 MB 505.4 kB/s eta 0:00:25\n",
            "     -------- ------------------------------ 3.3/15.7 MB 509.6 kB/s eta 0:00:25\n",
            "     -------- ------------------------------ 3.4/15.7 MB 511.8 kB/s eta 0:00:25\n",
            "     -------- ------------------------------ 3.4/15.7 MB 513.5 kB/s eta 0:00:24\n",
            "     -------- ------------------------------ 3.4/15.7 MB 514.2 kB/s eta 0:00:24\n",
            "     -------- ------------------------------ 3.5/15.7 MB 516.7 kB/s eta 0:00:24\n",
            "     -------- ------------------------------ 3.5/15.7 MB 514.9 kB/s eta 0:00:24\n",
            "     -------- ------------------------------ 3.5/15.7 MB 515.9 kB/s eta 0:00:24\n",
            "     -------- ------------------------------ 3.6/15.7 MB 522.8 kB/s eta 0:00:24\n",
            "     -------- ------------------------------ 3.6/15.7 MB 523.1 kB/s eta 0:00:24\n",
            "     --------- ----------------------------- 3.6/15.7 MB 521.4 kB/s eta 0:00:24\n",
            "     --------- ----------------------------- 3.7/15.7 MB 522.2 kB/s eta 0:00:24\n",
            "     --------- ----------------------------- 3.7/15.7 MB 523.2 kB/s eta 0:00:23\n",
            "     --------- ----------------------------- 3.7/15.7 MB 523.7 kB/s eta 0:00:23\n",
            "     --------- ----------------------------- 3.8/15.7 MB 528.9 kB/s eta 0:00:23\n",
            "     --------- ----------------------------- 3.8/15.7 MB 527.2 kB/s eta 0:00:23\n",
            "     --------- ----------------------------- 3.9/15.7 MB 533.9 kB/s eta 0:00:23\n",
            "     --------- ----------------------------- 3.9/15.7 MB 538.7 kB/s eta 0:00:22\n",
            "     --------- ----------------------------- 4.0/15.7 MB 540.8 kB/s eta 0:00:22\n",
            "     ---------- ---------------------------- 4.1/15.7 MB 548.4 kB/s eta 0:00:22\n",
            "     ---------- ---------------------------- 4.1/15.7 MB 548.9 kB/s eta 0:00:22\n",
            "     ---------- ---------------------------- 4.1/15.7 MB 552.3 kB/s eta 0:00:21\n",
            "     ---------- ---------------------------- 4.2/15.7 MB 554.6 kB/s eta 0:00:21\n",
            "     ---------- ---------------------------- 4.2/15.7 MB 559.3 kB/s eta 0:00:21\n",
            "     ---------- ---------------------------- 4.3/15.7 MB 557.3 kB/s eta 0:00:21\n",
            "     ---------- ---------------------------- 4.3/15.7 MB 561.6 kB/s eta 0:00:21\n",
            "     ---------- ---------------------------- 4.3/15.7 MB 560.8 kB/s eta 0:00:21\n",
            "     ---------- ---------------------------- 4.4/15.7 MB 563.1 kB/s eta 0:00:21\n",
            "     ----------- --------------------------- 4.4/15.7 MB 567.4 kB/s eta 0:00:20\n",
            "     ----------- --------------------------- 4.5/15.7 MB 570.6 kB/s eta 0:00:20\n",
            "     ----------- --------------------------- 4.5/15.7 MB 574.7 kB/s eta 0:00:20\n",
            "     ----------- --------------------------- 4.6/15.7 MB 574.1 kB/s eta 0:00:20\n",
            "     ----------- --------------------------- 4.6/15.7 MB 577.2 kB/s eta 0:00:20\n",
            "     ----------- --------------------------- 4.6/15.7 MB 577.3 kB/s eta 0:00:20\n",
            "     ----------- --------------------------- 4.7/15.7 MB 578.0 kB/s eta 0:00:20\n",
            "     ----------- --------------------------- 4.7/15.7 MB 580.8 kB/s eta 0:00:19\n",
            "     ----------- --------------------------- 4.8/15.7 MB 584.0 kB/s eta 0:00:19\n",
            "     ----------- --------------------------- 4.8/15.7 MB 586.9 kB/s eta 0:00:19\n",
            "     ------------ -------------------------- 4.9/15.7 MB 591.0 kB/s eta 0:00:19\n",
            "     ------------ -------------------------- 4.9/15.7 MB 592.5 kB/s eta 0:00:19\n",
            "     ------------ -------------------------- 5.0/15.7 MB 596.6 kB/s eta 0:00:18\n",
            "     ------------ -------------------------- 5.0/15.7 MB 596.9 kB/s eta 0:00:18\n",
            "     ------------ -------------------------- 5.1/15.7 MB 600.9 kB/s eta 0:00:18\n",
            "     ------------ -------------------------- 5.2/15.7 MB 608.5 kB/s eta 0:00:18\n",
            "     ------------- ------------------------- 5.2/15.7 MB 611.1 kB/s eta 0:00:18\n",
            "     ------------- ------------------------- 5.3/15.7 MB 612.5 kB/s eta 0:00:18\n",
            "     ------------- ------------------------- 5.3/15.7 MB 612.6 kB/s eta 0:00:18\n",
            "     ------------- ------------------------- 5.3/15.7 MB 614.1 kB/s eta 0:00:17\n",
            "     ------------- ------------------------- 5.4/15.7 MB 612.0 kB/s eta 0:00:17\n",
            "     ------------- ------------------------- 5.4/15.7 MB 611.1 kB/s eta 0:00:17\n",
            "     ------------- ------------------------- 5.4/15.7 MB 610.1 kB/s eta 0:00:17\n",
            "     ------------- ------------------------- 5.4/15.7 MB 611.5 kB/s eta 0:00:17\n",
            "     ------------- ------------------------- 5.5/15.7 MB 614.1 kB/s eta 0:00:17\n",
            "     ------------- ------------------------- 5.6/15.7 MB 616.6 kB/s eta 0:00:17\n",
            "     ------------- ------------------------- 5.6/15.7 MB 620.1 kB/s eta 0:00:17\n",
            "     ------------- ------------------------- 5.6/15.7 MB 620.4 kB/s eta 0:00:17\n",
            "     ------------- ------------------------- 5.6/15.7 MB 620.4 kB/s eta 0:00:17\n",
            "     -------------- ------------------------ 5.7/15.7 MB 618.5 kB/s eta 0:00:17\n",
            "     -------------- ------------------------ 5.7/15.7 MB 619.8 kB/s eta 0:00:17\n",
            "     -------------- ------------------------ 5.8/15.7 MB 622.1 kB/s eta 0:00:16\n",
            "     -------------- ------------------------ 5.8/15.7 MB 626.7 kB/s eta 0:00:16\n",
            "     -------------- ------------------------ 5.8/15.7 MB 626.7 kB/s eta 0:00:16\n",
            "     -------------- ------------------------ 5.9/15.7 MB 625.8 kB/s eta 0:00:16\n",
            "     -------------- ------------------------ 5.9/15.7 MB 628.3 kB/s eta 0:00:16\n",
            "     -------------- ------------------------ 6.0/15.7 MB 631.6 kB/s eta 0:00:16\n",
            "     --------------- ----------------------- 6.1/15.7 MB 636.0 kB/s eta 0:00:16\n",
            "     --------------- ----------------------- 6.1/15.7 MB 635.1 kB/s eta 0:00:16\n",
            "     --------------- ----------------------- 6.2/15.7 MB 638.3 kB/s eta 0:00:15\n",
            "     --------------- ----------------------- 6.2/15.7 MB 638.5 kB/s eta 0:00:15\n",
            "     --------------- ----------------------- 6.2/15.7 MB 639.5 kB/s eta 0:00:15\n",
            "     --------------- ----------------------- 6.3/15.7 MB 640.7 kB/s eta 0:00:15\n",
            "     --------------- ----------------------- 6.3/15.7 MB 643.9 kB/s eta 0:00:15\n",
            "     --------------- ----------------------- 6.3/15.7 MB 643.9 kB/s eta 0:00:15\n",
            "     --------------- ----------------------- 6.3/15.7 MB 640.9 kB/s eta 0:00:15\n",
            "     --------------- ----------------------- 6.4/15.7 MB 639.9 kB/s eta 0:00:15\n",
            "     --------------- ----------------------- 6.4/15.7 MB 642.0 kB/s eta 0:00:15\n",
            "     ---------------- ---------------------- 6.5/15.7 MB 644.1 kB/s eta 0:00:15\n",
            "     ---------------- ---------------------- 6.5/15.7 MB 646.3 kB/s eta 0:00:15\n",
            "     ---------------- ---------------------- 6.5/15.7 MB 645.2 kB/s eta 0:00:15\n",
            "     ---------------- ---------------------- 6.6/15.7 MB 644.3 kB/s eta 0:00:15\n",
            "     ---------------- ---------------------- 6.6/15.7 MB 644.3 kB/s eta 0:00:15\n",
            "     ---------------- ---------------------- 6.6/15.7 MB 644.3 kB/s eta 0:00:15\n",
            "     ---------------- ---------------------- 6.6/15.7 MB 644.3 kB/s eta 0:00:15\n",
            "     ---------------- ---------------------- 6.6/15.7 MB 644.3 kB/s eta 0:00:15\n",
            "     ---------------- ---------------------- 6.6/15.7 MB 644.3 kB/s eta 0:00:15\n",
            "     ---------------- ---------------------- 6.6/15.7 MB 644.3 kB/s eta 0:00:15\n",
            "     ---------------- ---------------------- 6.6/15.7 MB 625.1 kB/s eta 0:00:15\n",
            "     ---------------- ---------------------- 6.6/15.7 MB 625.3 kB/s eta 0:00:15\n",
            "     ---------------- ---------------------- 6.6/15.7 MB 625.4 kB/s eta 0:00:15\n",
            "     ---------------- ---------------------- 6.7/15.7 MB 623.7 kB/s eta 0:00:15\n",
            "     ---------------- ---------------------- 6.7/15.7 MB 624.7 kB/s eta 0:00:15\n",
            "     ---------------- ---------------------- 6.7/15.7 MB 624.7 kB/s eta 0:00:15\n",
            "     ---------------- ---------------------- 6.7/15.7 MB 624.7 kB/s eta 0:00:15\n",
            "     ---------------- ---------------------- 6.7/15.7 MB 624.7 kB/s eta 0:00:15\n",
            "     ---------------- ---------------------- 6.7/15.7 MB 624.7 kB/s eta 0:00:15\n",
            "     ---------------- ---------------------- 6.7/15.7 MB 613.3 kB/s eta 0:00:15\n",
            "     ---------------- ---------------------- 6.7/15.7 MB 612.5 kB/s eta 0:00:15\n",
            "     ---------------- ---------------------- 6.8/15.7 MB 611.7 kB/s eta 0:00:15\n",
            "     ---------------- ---------------------- 6.8/15.7 MB 612.9 kB/s eta 0:00:15\n",
            "     ----------------- --------------------- 6.9/15.7 MB 615.8 kB/s eta 0:00:15\n",
            "     ----------------- --------------------- 6.9/15.7 MB 615.8 kB/s eta 0:00:15\n",
            "     ----------------- --------------------- 6.9/15.7 MB 615.8 kB/s eta 0:00:15\n",
            "     ----------------- --------------------- 6.9/15.7 MB 615.8 kB/s eta 0:00:15\n",
            "     ----------------- --------------------- 6.9/15.7 MB 615.8 kB/s eta 0:00:15\n",
            "     ----------------- --------------------- 6.9/15.7 MB 615.8 kB/s eta 0:00:15\n",
            "     ----------------- --------------------- 6.9/15.7 MB 602.4 kB/s eta 0:00:15\n",
            "     ----------------- --------------------- 6.9/15.7 MB 601.7 kB/s eta 0:00:15\n",
            "     ----------------- --------------------- 6.9/15.7 MB 603.6 kB/s eta 0:00:15\n",
            "     ----------------- --------------------- 7.0/15.7 MB 604.9 kB/s eta 0:00:15\n",
            "     ----------------- --------------------- 7.0/15.7 MB 605.1 kB/s eta 0:00:15\n",
            "     ----------------- --------------------- 7.1/15.7 MB 606.9 kB/s eta 0:00:15\n",
            "     ----------------- --------------------- 7.1/15.7 MB 606.9 kB/s eta 0:00:15\n",
            "     ----------------- --------------------- 7.1/15.7 MB 606.9 kB/s eta 0:00:15\n",
            "     ----------------- --------------------- 7.1/15.7 MB 606.9 kB/s eta 0:00:15\n",
            "     ----------------- --------------------- 7.1/15.7 MB 606.9 kB/s eta 0:00:15\n",
            "     ----------------- --------------------- 7.1/15.7 MB 594.9 kB/s eta 0:00:15\n",
            "     ----------------- --------------------- 7.1/15.7 MB 594.3 kB/s eta 0:00:15\n",
            "     ----------------- --------------------- 7.1/15.7 MB 594.3 kB/s eta 0:00:15\n",
            "     ----------------- --------------------- 7.1/15.7 MB 594.8 kB/s eta 0:00:15\n",
            "     ----------------- --------------------- 7.2/15.7 MB 598.5 kB/s eta 0:00:15\n",
            "     ------------------ -------------------- 7.3/15.7 MB 602.9 kB/s eta 0:00:14\n",
            "     ------------------ -------------------- 7.3/15.7 MB 603.1 kB/s eta 0:00:14\n",
            "     ------------------ -------------------- 7.4/15.7 MB 605.9 kB/s eta 0:00:14\n",
            "     ------------------ -------------------- 7.4/15.7 MB 606.0 kB/s eta 0:00:14\n",
            "     ------------------ -------------------- 7.5/15.7 MB 609.6 kB/s eta 0:00:14\n",
            "     ------------------ -------------------- 7.6/15.7 MB 612.3 kB/s eta 0:00:14\n",
            "     ------------------ -------------------- 7.6/15.7 MB 616.5 kB/s eta 0:00:14\n",
            "     ------------------- ------------------- 7.8/15.7 MB 622.5 kB/s eta 0:00:13\n",
            "     ------------------- ------------------- 7.8/15.7 MB 627.5 kB/s eta 0:00:13\n",
            "     ------------------- ------------------- 7.9/15.7 MB 630.0 kB/s eta 0:00:13\n",
            "     ------------------- ------------------- 7.9/15.7 MB 630.1 kB/s eta 0:00:13\n",
            "     ------------------- ------------------- 8.0/15.7 MB 631.8 kB/s eta 0:00:13\n",
            "     ------------------- ------------------- 8.0/15.7 MB 631.9 kB/s eta 0:00:13\n",
            "     -------------------- ------------------ 8.1/15.7 MB 634.5 kB/s eta 0:00:13\n",
            "     -------------------- ------------------ 8.1/15.7 MB 636.1 kB/s eta 0:00:12\n",
            "     -------------------- ------------------ 8.2/15.7 MB 636.2 kB/s eta 0:00:12\n",
            "     -------------------- ------------------ 8.2/15.7 MB 634.7 kB/s eta 0:00:12\n",
            "     -------------------- ------------------ 8.2/15.7 MB 634.7 kB/s eta 0:00:12\n",
            "     -------------------- ------------------ 8.2/15.7 MB 634.7 kB/s eta 0:00:12\n",
            "     -------------------- ------------------ 8.2/15.7 MB 634.7 kB/s eta 0:00:12\n",
            "     -------------------- ------------------ 8.2/15.7 MB 627.9 kB/s eta 0:00:12\n",
            "     -------------------- ------------------ 8.2/15.7 MB 628.0 kB/s eta 0:00:12\n",
            "     -------------------- ------------------ 8.2/15.7 MB 628.0 kB/s eta 0:00:12\n",
            "     -------------------- ------------------ 8.3/15.7 MB 625.9 kB/s eta 0:00:12\n",
            "     -------------------- ------------------ 8.3/15.7 MB 625.2 kB/s eta 0:00:12\n",
            "     -------------------- ------------------ 8.3/15.7 MB 627.6 kB/s eta 0:00:12\n",
            "     -------------------- ------------------ 8.4/15.7 MB 628.5 kB/s eta 0:00:12\n",
            "     -------------------- ------------------ 8.4/15.7 MB 628.5 kB/s eta 0:00:12\n",
            "     -------------------- ------------------ 8.4/15.7 MB 627.9 kB/s eta 0:00:12\n",
            "     -------------------- ------------------ 8.4/15.7 MB 627.2 kB/s eta 0:00:12\n",
            "     -------------------- ------------------ 8.5/15.7 MB 625.8 kB/s eta 0:00:12\n",
            "     --------------------- ----------------- 8.5/15.7 MB 625.9 kB/s eta 0:00:12\n",
            "     --------------------- ----------------- 8.5/15.7 MB 624.5 kB/s eta 0:00:12\n",
            "     --------------------- ----------------- 8.5/15.7 MB 625.4 kB/s eta 0:00:12\n",
            "     --------------------- ----------------- 8.6/15.7 MB 625.5 kB/s eta 0:00:12\n",
            "     --------------------- ----------------- 8.6/15.7 MB 624.8 kB/s eta 0:00:12\n",
            "     --------------------- ----------------- 8.6/15.7 MB 625.7 kB/s eta 0:00:12\n",
            "     --------------------- ----------------- 8.7/15.7 MB 626.5 kB/s eta 0:00:12\n",
            "     --------------------- ----------------- 8.7/15.7 MB 627.3 kB/s eta 0:00:12\n",
            "     --------------------- ----------------- 8.7/15.7 MB 626.0 kB/s eta 0:00:12\n",
            "     --------------------- ----------------- 8.8/15.7 MB 626.1 kB/s eta 0:00:12\n",
            "     --------------------- ----------------- 8.8/15.7 MB 627.6 kB/s eta 0:00:12\n",
            "     --------------------- ----------------- 8.9/15.7 MB 629.2 kB/s eta 0:00:11\n",
            "     ---------------------- ---------------- 8.9/15.7 MB 632.9 kB/s eta 0:00:11\n",
            "     ---------------------- ---------------- 9.0/15.7 MB 635.9 kB/s eta 0:00:11\n",
            "     ---------------------- ---------------- 9.1/15.7 MB 636.6 kB/s eta 0:00:11\n",
            "     ---------------------- ---------------- 9.1/15.7 MB 638.8 kB/s eta 0:00:11\n",
            "     ---------------------- ---------------- 9.2/15.7 MB 641.1 kB/s eta 0:00:11\n",
            "     ---------------------- ---------------- 9.2/15.7 MB 641.8 kB/s eta 0:00:11\n",
            "     ---------------------- ---------------- 9.2/15.7 MB 641.2 kB/s eta 0:00:11\n",
            "     ----------------------- --------------- 9.3/15.7 MB 641.9 kB/s eta 0:00:11\n",
            "     ----------------------- --------------- 9.3/15.7 MB 641.2 kB/s eta 0:00:10\n",
            "     ----------------------- --------------- 9.3/15.7 MB 642.0 kB/s eta 0:00:10\n",
            "     ----------------------- --------------- 9.4/15.7 MB 640.7 kB/s eta 0:00:10\n",
            "     ----------------------- --------------- 9.4/15.7 MB 641.4 kB/s eta 0:00:10\n",
            "     ----------------------- --------------- 9.4/15.7 MB 642.1 kB/s eta 0:00:10\n",
            "     ----------------------- --------------- 9.5/15.7 MB 642.1 kB/s eta 0:00:10\n",
            "     ----------------------- --------------- 9.5/15.7 MB 641.5 kB/s eta 0:00:10\n",
            "     ----------------------- --------------- 9.6/15.7 MB 643.6 kB/s eta 0:00:10\n",
            "     ----------------------- --------------- 9.6/15.7 MB 644.3 kB/s eta 0:00:10\n",
            "     ----------------------- --------------- 9.6/15.7 MB 645.8 kB/s eta 0:00:10\n",
            "     ------------------------ -------------- 9.7/15.7 MB 647.2 kB/s eta 0:00:10\n",
            "     ------------------------ -------------- 9.7/15.7 MB 647.2 kB/s eta 0:00:10\n",
            "     ------------------------ -------------- 9.8/15.7 MB 647.2 kB/s eta 0:00:10\n",
            "     ------------------------ -------------- 9.8/15.7 MB 650.6 kB/s eta 0:00:10\n",
            "     ------------------------ -------------- 9.9/15.7 MB 649.3 kB/s eta 0:00:10\n",
            "     ------------------------ -------------- 9.9/15.7 MB 653.4 kB/s eta 0:00:09\n",
            "     ------------------------ ------------- 10.0/15.7 MB 654.0 kB/s eta 0:00:09\n",
            "     ------------------------ ------------- 10.0/15.7 MB 656.0 kB/s eta 0:00:09\n",
            "     ------------------------ ------------- 10.1/15.7 MB 658.7 kB/s eta 0:00:09\n",
            "     ------------------------ ------------- 10.2/15.7 MB 660.0 kB/s eta 0:00:09\n",
            "     ------------------------ ------------- 10.2/15.7 MB 660.7 kB/s eta 0:00:09\n",
            "     ------------------------ ------------- 10.3/15.7 MB 661.3 kB/s eta 0:00:09\n",
            "     ------------------------ ------------- 10.3/15.7 MB 663.3 kB/s eta 0:00:09\n",
            "     ------------------------- ------------ 10.4/15.7 MB 678.5 kB/s eta 0:00:08\n",
            "     ------------------------- ------------ 10.4/15.7 MB 677.7 kB/s eta 0:00:08\n",
            "     ------------------------- ------------ 10.6/15.7 MB 678.5 kB/s eta 0:00:08\n",
            "     ------------------------- ------------ 10.6/15.7 MB 678.5 kB/s eta 0:00:08\n",
            "     ------------------------- ------------ 10.7/15.7 MB 677.7 kB/s eta 0:00:08\n",
            "     ------------------------- ------------ 10.7/15.7 MB 675.6 kB/s eta 0:00:08\n",
            "     -------------------------- ----------- 10.8/15.7 MB 691.3 kB/s eta 0:00:08\n",
            "     -------------------------- ----------- 10.8/15.7 MB 692.8 kB/s eta 0:00:08\n",
            "     -------------------------- ----------- 10.9/15.7 MB 727.4 kB/s eta 0:00:07\n",
            "     -------------------------- ----------- 10.9/15.7 MB 725.0 kB/s eta 0:00:07\n",
            "     -------------------------- ----------- 11.0/15.7 MB 725.0 kB/s eta 0:00:07\n",
            "     -------------------------- ----------- 11.0/15.7 MB 726.6 kB/s eta 0:00:07\n",
            "     -------------------------- ----------- 11.0/15.7 MB 725.8 kB/s eta 0:00:07\n",
            "     -------------------------- ----------- 11.1/15.7 MB 725.9 kB/s eta 0:00:07\n",
            "     -------------------------- ----------- 11.1/15.7 MB 725.9 kB/s eta 0:00:07\n",
            "     -------------------------- ----------- 11.1/15.7 MB 721.8 kB/s eta 0:00:07\n",
            "     --------------------------- ---------- 11.2/15.7 MB 731.5 kB/s eta 0:00:07\n",
            "     --------------------------- ---------- 11.3/15.7 MB 733.9 kB/s eta 0:00:07\n",
            "     --------------------------- ---------- 11.4/15.7 MB 738.9 kB/s eta 0:00:06\n",
            "     --------------------------- ---------- 11.4/15.7 MB 739.8 kB/s eta 0:00:06\n",
            "     --------------------------- ---------- 11.5/15.7 MB 737.3 kB/s eta 0:00:06\n",
            "     --------------------------- ---------- 11.5/15.7 MB 737.3 kB/s eta 0:00:06\n",
            "     --------------------------- ---------- 11.6/15.7 MB 738.1 kB/s eta 0:00:06\n",
            "     ---------------------------- --------- 11.7/15.7 MB 749.1 kB/s eta 0:00:06\n",
            "     ---------------------------- --------- 11.7/15.7 MB 747.4 kB/s eta 0:00:06\n",
            "     ---------------------------- --------- 11.9/15.7 MB 754.2 kB/s eta 0:00:06\n",
            "     ---------------------------- --------- 11.9/15.7 MB 756.9 kB/s eta 0:00:06\n",
            "     ---------------------------- --------- 12.0/15.7 MB 762.2 kB/s eta 0:00:05\n",
            "     ----------------------------- -------- 12.1/15.7 MB 764.0 kB/s eta 0:00:05\n",
            "     ----------------------------- -------- 12.1/15.7 MB 771.2 kB/s eta 0:00:05\n",
            "     ----------------------------- -------- 12.2/15.7 MB 772.9 kB/s eta 0:00:05\n",
            "     ----------------------------- -------- 12.2/15.7 MB 772.9 kB/s eta 0:00:05\n",
            "     ----------------------------- -------- 12.2/15.7 MB 772.9 kB/s eta 0:00:05\n",
            "     ----------------------------- -------- 12.2/15.7 MB 772.9 kB/s eta 0:00:05\n",
            "     ----------------------------- -------- 12.2/15.7 MB 772.9 kB/s eta 0:00:05\n",
            "     ----------------------------- -------- 12.2/15.7 MB 765.8 kB/s eta 0:00:05\n",
            "     ----------------------------- -------- 12.2/15.7 MB 765.8 kB/s eta 0:00:05\n",
            "     ----------------------------- -------- 12.2/15.7 MB 765.8 kB/s eta 0:00:05\n",
            "     ----------------------------- -------- 12.2/15.7 MB 757.8 kB/s eta 0:00:05\n",
            "     ----------------------------- -------- 12.3/15.7 MB 761.3 kB/s eta 0:00:05\n",
            "     ----------------------------- -------- 12.3/15.7 MB 762.2 kB/s eta 0:00:05\n",
            "     ----------------------------- -------- 12.3/15.7 MB 762.2 kB/s eta 0:00:05\n",
            "     ----------------------------- -------- 12.3/15.7 MB 768.5 kB/s eta 0:00:05\n",
            "     ----------------------------- -------- 12.4/15.7 MB 765.8 kB/s eta 0:00:05\n",
            "     ----------------------------- -------- 12.4/15.7 MB 764.8 kB/s eta 0:00:05\n",
            "     ------------------------------ ------- 12.4/15.7 MB 765.8 kB/s eta 0:00:05\n",
            "     ------------------------------ ------- 12.4/15.7 MB 765.8 kB/s eta 0:00:05\n",
            "     ------------------------------ ------- 12.4/15.7 MB 765.8 kB/s eta 0:00:05\n",
            "     ------------------------------ ------- 12.5/15.7 MB 763.1 kB/s eta 0:00:05\n",
            "     ------------------------------ ------- 12.5/15.7 MB 768.5 kB/s eta 0:00:05\n",
            "     ------------------------------ ------- 12.6/15.7 MB 774.8 kB/s eta 0:00:05\n",
            "     ------------------------------ ------- 12.6/15.7 MB 783.1 kB/s eta 0:00:04\n",
            "     ------------------------------ ------- 12.7/15.7 MB 786.9 kB/s eta 0:00:04\n",
            "     ------------------------------ ------- 12.7/15.7 MB 786.9 kB/s eta 0:00:04\n",
            "     ------------------------------ ------- 12.8/15.7 MB 794.5 kB/s eta 0:00:04\n",
            "     ------------------------------ ------- 12.8/15.7 MB 795.5 kB/s eta 0:00:04\n",
            "     ------------------------------- ------ 12.9/15.7 MB 799.4 kB/s eta 0:00:04\n",
            "     ------------------------------- ------ 12.9/15.7 MB 797.4 kB/s eta 0:00:04\n",
            "     ------------------------------- ------ 13.0/15.7 MB 802.3 kB/s eta 0:00:04\n",
            "     ------------------------------- ------ 13.0/15.7 MB 813.3 kB/s eta 0:00:04\n",
            "     ------------------------------- ------ 13.1/15.7 MB 813.3 kB/s eta 0:00:04\n",
            "     ------------------------------- ------ 13.1/15.7 MB 814.3 kB/s eta 0:00:04\n",
            "     ------------------------------- ------ 13.2/15.7 MB 821.4 kB/s eta 0:00:04\n",
            "     -------------------------------- ----- 13.3/15.7 MB 828.8 kB/s eta 0:00:03\n",
            "     -------------------------------- ----- 13.4/15.7 MB 840.4 kB/s eta 0:00:03\n",
            "     -------------------------------- ----- 13.5/15.7 MB 838.3 kB/s eta 0:00:03\n",
            "     -------------------------------- ----- 13.5/15.7 MB 840.4 kB/s eta 0:00:03\n",
            "     -------------------------------- ----- 13.6/15.7 MB 839.3 kB/s eta 0:00:03\n",
            "     -------------------------------- ----- 13.6/15.7 MB 839.4 kB/s eta 0:00:03\n",
            "     --------------------------------- ---- 13.7/15.7 MB 843.7 kB/s eta 0:00:03\n",
            "     --------------------------------- ---- 13.7/15.7 MB 845.9 kB/s eta 0:00:03\n",
            "     --------------------------------- ---- 13.8/15.7 MB 847.0 kB/s eta 0:00:03\n",
            "     --------------------------------- ---- 13.8/15.7 MB 845.9 kB/s eta 0:00:03\n",
            "     --------------------------------- ---- 13.9/15.7 MB 850.3 kB/s eta 0:00:03\n",
            "     --------------------------------- ---- 13.9/15.7 MB 851.3 kB/s eta 0:00:03\n",
            "     --------------------------------- ---- 14.0/15.7 MB 852.5 kB/s eta 0:00:03\n",
            "     --------------------------------- ---- 14.0/15.7 MB 855.8 kB/s eta 0:00:02\n",
            "     ---------------------------------- --- 14.1/15.7 MB 855.8 kB/s eta 0:00:02\n",
            "     ---------------------------------- --- 14.2/15.7 MB 853.6 kB/s eta 0:00:02\n",
            "     ---------------------------------- --- 14.2/15.7 MB 854.8 kB/s eta 0:00:02\n",
            "     ---------------------------------- --- 14.3/15.7 MB 853.6 kB/s eta 0:00:02\n",
            "     ---------------------------------- --- 14.3/15.7 MB 856.9 kB/s eta 0:00:02\n",
            "     ---------------------------------- --- 14.3/15.7 MB 854.7 kB/s eta 0:00:02\n",
            "     ---------------------------------- --- 14.4/15.7 MB 853.6 kB/s eta 0:00:02\n",
            "     ---------------------------------- --- 14.5/15.7 MB 854.7 kB/s eta 0:00:02\n",
            "     ----------------------------------- -- 14.5/15.7 MB 860.3 kB/s eta 0:00:02\n",
            "     ----------------------------------- -- 14.6/15.7 MB 862.6 kB/s eta 0:00:02\n",
            "     ----------------------------------- -- 14.7/15.7 MB 862.6 kB/s eta 0:00:02\n",
            "     ----------------------------------- -- 14.7/15.7 MB 861.5 kB/s eta 0:00:02\n",
            "     ----------------------------------- -- 14.8/15.7 MB 862.5 kB/s eta 0:00:02\n",
            "     ----------------------------------- -- 14.8/15.7 MB 863.7 kB/s eta 0:00:02\n",
            "     ------------------------------------ - 14.9/15.7 MB 868.3 kB/s eta 0:00:01\n",
            "     ------------------------------------ - 14.9/15.7 MB 866.0 kB/s eta 0:00:01\n",
            "     ------------------------------------ - 15.0/15.7 MB 867.1 kB/s eta 0:00:01\n",
            "     ------------------------------------ - 15.1/15.7 MB 868.3 kB/s eta 0:00:01\n",
            "     ------------------------------------ - 15.2/15.7 MB 869.4 kB/s eta 0:00:01\n",
            "     ------------------------------------ - 15.2/15.7 MB 871.7 kB/s eta 0:00:01\n",
            "     -------------------------------------  15.3/15.7 MB 873.0 kB/s eta 0:00:01\n",
            "     -------------------------------------  15.3/15.7 MB 873.0 kB/s eta 0:00:01\n",
            "     -------------------------------------  15.3/15.7 MB 873.0 kB/s eta 0:00:01\n",
            "     -------------------------------------  15.3/15.7 MB 873.0 kB/s eta 0:00:01\n",
            "     -------------------------------------  15.3/15.7 MB 873.0 kB/s eta 0:00:01\n",
            "     -------------------------------------  15.3/15.7 MB 873.0 kB/s eta 0:00:01\n",
            "     -------------------------------------  15.3/15.7 MB 853.5 kB/s eta 0:00:01\n",
            "     -------------------------------------  15.4/15.7 MB 852.5 kB/s eta 0:00:01\n",
            "     -------------------------------------  15.4/15.7 MB 852.5 kB/s eta 0:00:01\n",
            "     -------------------------------------  15.4/15.7 MB 852.5 kB/s eta 0:00:01\n",
            "     -------------------------------------  15.4/15.7 MB 852.5 kB/s eta 0:00:01\n",
            "     -------------------------------------  15.5/15.7 MB 845.9 kB/s eta 0:00:01\n",
            "     -------------------------------------  15.5/15.7 MB 847.0 kB/s eta 0:00:01\n",
            "     -------------------------------------  15.5/15.7 MB 847.0 kB/s eta 0:00:01\n",
            "     -------------------------------------  15.5/15.7 MB 847.0 kB/s eta 0:00:01\n",
            "     -------------------------------------  15.5/15.7 MB 847.0 kB/s eta 0:00:01\n",
            "     -------------------------------------  15.5/15.7 MB 847.0 kB/s eta 0:00:01\n",
            "     -------------------------------------  15.5/15.7 MB 847.0 kB/s eta 0:00:01\n",
            "     -------------------------------------  15.5/15.7 MB 847.0 kB/s eta 0:00:01\n",
            "     -------------------------------------  15.5/15.7 MB 847.0 kB/s eta 0:00:01\n",
            "     -------------------------------------  15.5/15.7 MB 847.0 kB/s eta 0:00:01\n",
            "     -------------------------------------  15.5/15.7 MB 847.0 kB/s eta 0:00:01\n",
            "     -------------------------------------  15.5/15.7 MB 847.0 kB/s eta 0:00:01\n",
            "     -------------------------------------  15.5/15.7 MB 847.0 kB/s eta 0:00:01\n",
            "     -------------------------------------  15.5/15.7 MB 847.0 kB/s eta 0:00:01\n",
            "     -------------------------------------  15.5/15.7 MB 847.0 kB/s eta 0:00:01\n",
            "     -------------------------------------  15.5/15.7 MB 847.0 kB/s eta 0:00:01\n",
            "     -------------------------------------  15.5/15.7 MB 847.0 kB/s eta 0:00:01\n",
            "     -------------------------------------  15.5/15.7 MB 847.0 kB/s eta 0:00:01\n",
            "     -------------------------------------  15.7/15.7 MB 810.3 kB/s eta 0:00:01\n",
            "     -------------------------------------  15.7/15.7 MB 808.2 kB/s eta 0:00:01\n",
            "     -------------------------------------  15.7/15.7 MB 808.2 kB/s eta 0:00:01\n",
            "     -------------------------------------- 15.7/15.7 MB 802.6 kB/s eta 0:00:00\n",
            "Requirement already satisfied: typing-extensions in c:\\users\\ssri2\\appdata\\local\\packages\\pythonsoftwarefoundation.python.3.9_qbz5n2kfra8p0\\localcache\\local-packages\\python39\\site-packages (from gradio) (4.5.0)\n",
            "Collecting mdit-py-plugins<=0.3.3\n",
            "  Downloading mdit_py_plugins-0.3.3-py3-none-any.whl (50 kB)\n",
            "     ---------------------------------------- 0.0/50.5 kB ? eta -:--:--\n",
            "     -------------------------------- ------- 41.0/50.5 kB 1.9 MB/s eta 0:00:01\n",
            "     -------------------------------------- 50.5/50.5 kB 856.1 kB/s eta 0:00:00\n",
            "Collecting semantic-version\n",
            "  Downloading semantic_version-2.10.0-py2.py3-none-any.whl (15 kB)\n",
            "Collecting aiohttp\n",
            "  Downloading aiohttp-3.8.4-cp39-cp39-win_amd64.whl (323 kB)\n",
            "     ---------------------------------------- 0.0/323.6 kB ? eta -:--:--\n",
            "     --- ----------------------------------- 30.7/323.6 kB 1.4 MB/s eta 0:00:01\n",
            "     ------------- ------------------------ 112.6/323.6 kB 1.3 MB/s eta 0:00:01\n",
            "     -------------------- ----------------- 174.1/323.6 kB 1.3 MB/s eta 0:00:01\n",
            "     -------------------------- ----------- 225.3/323.6 kB 1.3 MB/s eta 0:00:01\n",
            "     -------------------------------- ----- 276.5/323.6 kB 1.3 MB/s eta 0:00:01\n",
            "     ------------------------------------ - 307.2/323.6 kB 1.1 MB/s eta 0:00:01\n",
            "     -------------------------------------- 323.6/323.6 kB 1.1 MB/s eta 0:00:00\n",
            "Requirement already satisfied: pillow in c:\\users\\ssri2\\appdata\\local\\packages\\pythonsoftwarefoundation.python.3.9_qbz5n2kfra8p0\\localcache\\local-packages\\python39\\site-packages (from gradio) (9.4.0)\n",
            "Requirement already satisfied: jinja2 in c:\\users\\ssri2\\appdata\\local\\packages\\pythonsoftwarefoundation.python.3.9_qbz5n2kfra8p0\\localcache\\local-packages\\python39\\site-packages (from gradio) (3.1.2)\n",
            "Collecting gradio-client>=0.0.5\n",
            "  Downloading gradio_client-0.0.5-py3-none-any.whl (12 kB)\n",
            "Collecting python-multipart\n",
            "  Downloading python_multipart-0.0.6-py3-none-any.whl (45 kB)\n",
            "     ---------------------------------------- 0.0/45.7 kB ? eta -:--:--\n",
            "     ---------------------------------- --- 41.0/45.7 kB 991.0 kB/s eta 0:00:01\n",
            "     -------------------------------------- 45.7/45.7 kB 572.1 kB/s eta 0:00:00\n",
            "Requirement already satisfied: pandas in c:\\users\\ssri2\\appdata\\local\\packages\\pythonsoftwarefoundation.python.3.9_qbz5n2kfra8p0\\localcache\\local-packages\\python39\\site-packages (from gradio) (1.5.3)\n",
            "Collecting pydub\n",
            "  Downloading pydub-0.25.1-py2.py3-none-any.whl (32 kB)\n",
            "Collecting aiofiles\n",
            "  Downloading aiofiles-23.1.0-py3-none-any.whl (14 kB)\n",
            "Collecting huggingface-hub>=0.13.0\n",
            "  Downloading huggingface_hub-0.13.3-py3-none-any.whl (199 kB)\n",
            "     ---------------------------------------- 0.0/199.8 kB ? eta -:--:--\n",
            "     ---------------------------------------- 0.0/199.8 kB ? eta -:--:--\n",
            "     ---------------------------------------- 0.0/199.8 kB ? eta -:--:--\n",
            "     ----- --------------------------------- 30.7/199.8 kB 1.3 MB/s eta 0:00:01\n",
            "     --------------------- ---------------- 112.6/199.8 kB 1.6 MB/s eta 0:00:01\n",
            "     ----------------------------- -------- 153.6/199.8 kB 1.5 MB/s eta 0:00:01\n",
            "     -------------------------------------- 199.8/199.8 kB 1.2 MB/s eta 0:00:00\n",
            "Requirement already satisfied: markupsafe in c:\\users\\ssri2\\appdata\\local\\packages\\pythonsoftwarefoundation.python.3.9_qbz5n2kfra8p0\\localcache\\local-packages\\python39\\site-packages (from gradio) (2.1.2)\n",
            "Collecting orjson\n",
            "  Downloading orjson-3.8.9-cp39-none-win_amd64.whl (202 kB)\n",
            "     ---------------------------------------- 0.0/202.1 kB ? eta -:--:--\n",
            "     ----- --------------------------------- 30.7/202.1 kB 1.4 MB/s eta 0:00:01\n",
            "     --------------- ----------------------- 81.9/202.1 kB 1.2 MB/s eta 0:00:01\n",
            "     ----------------------- -------------- 122.9/202.1 kB 1.0 MB/s eta 0:00:01\n",
            "     ------------------------------- ---- 174.1/202.1 kB 952.6 kB/s eta 0:00:01\n",
            "     ---------------------------------- - 194.6/202.1 kB 985.7 kB/s eta 0:00:01\n",
            "     ------------------------------------ 202.1/202.1 kB 819.8 kB/s eta 0:00:00\n",
            "Collecting websockets>=10.0\n",
            "  Downloading websockets-10.4-cp39-cp39-win_amd64.whl (101 kB)\n",
            "     ---------------------------------------- 0.0/101.4 kB ? eta -:--:--\n",
            "     ----------- ------------------------- 30.7/101.4 kB 660.6 kB/s eta 0:00:01\n",
            "     ----------------------------- ------- 81.9/101.4 kB 919.0 kB/s eta 0:00:01\n",
            "     ------------------------------------ 101.4/101.4 kB 829.1 kB/s eta 0:00:00\n",
            "Requirement already satisfied: altair>=4.2.0 in c:\\users\\ssri2\\appdata\\local\\packages\\pythonsoftwarefoundation.python.3.9_qbz5n2kfra8p0\\localcache\\local-packages\\python39\\site-packages (from gradio) (4.2.2)\n",
            "Requirement already satisfied: requests in c:\\users\\ssri2\\appdata\\local\\packages\\pythonsoftwarefoundation.python.3.9_qbz5n2kfra8p0\\localcache\\local-packages\\python39\\site-packages (from gradio) (2.28.2)\n",
            "Collecting pydantic\n",
            "  Downloading pydantic-1.10.7-cp39-cp39-win_amd64.whl (2.2 MB)\n",
            "     ---------------------------------------- 0.0/2.2 MB ? eta -:--:--\n",
            "     ---------------------------------------- 0.0/2.2 MB ? eta -:--:--\n",
            "      --------------------------------------- 0.0/2.2 MB 262.6 kB/s eta 0:00:09\n",
            "     - -------------------------------------- 0.1/2.2 MB 409.6 kB/s eta 0:00:06\n",
            "     - -------------------------------------- 0.1/2.2 MB 357.2 kB/s eta 0:00:06\n",
            "     - -------------------------------------- 0.1/2.2 MB 374.1 kB/s eta 0:00:06\n",
            "     -- ------------------------------------- 0.1/2.2 MB 409.6 kB/s eta 0:00:06\n",
            "     -- ------------------------------------- 0.1/2.2 MB 409.6 kB/s eta 0:00:06\n",
            "     -- ------------------------------------- 0.1/2.2 MB 369.8 kB/s eta 0:00:06\n",
            "     --- ------------------------------------ 0.2/2.2 MB 402.6 kB/s eta 0:00:05\n",
            "     --- ------------------------------------ 0.2/2.2 MB 429.5 kB/s eta 0:00:05\n",
            "     ---- ----------------------------------- 0.2/2.2 MB 430.1 kB/s eta 0:00:05\n",
            "     ---- ----------------------------------- 0.2/2.2 MB 430.1 kB/s eta 0:00:05\n",
            "     ---- ----------------------------------- 0.2/2.2 MB 389.8 kB/s eta 0:00:05\n",
            "     ---- ----------------------------------- 0.3/2.2 MB 393.2 kB/s eta 0:00:05\n",
            "     ----- ---------------------------------- 0.3/2.2 MB 405.2 kB/s eta 0:00:05\n",
            "     ----- ---------------------------------- 0.3/2.2 MB 384.5 kB/s eta 0:00:05\n",
            "     ----- ---------------------------------- 0.3/2.2 MB 387.7 kB/s eta 0:00:05\n",
            "     ----- ---------------------------------- 0.3/2.2 MB 371.0 kB/s eta 0:00:06\n",
            "     ----- ---------------------------------- 0.3/2.2 MB 371.0 kB/s eta 0:00:06\n",
            "     ------ --------------------------------- 0.3/2.2 MB 355.4 kB/s eta 0:00:06\n",
            "     ------ --------------------------------- 0.4/2.2 MB 365.3 kB/s eta 0:00:05\n",
            "     ------ --------------------------------- 0.4/2.2 MB 363.9 kB/s eta 0:00:05\n",
            "     ------- -------------------------------- 0.4/2.2 MB 361.9 kB/s eta 0:00:05\n",
            "     ------- -------------------------------- 0.4/2.2 MB 350.6 kB/s eta 0:00:06\n",
            "     ------- -------------------------------- 0.4/2.2 MB 362.9 kB/s eta 0:00:05\n",
            "     -------- ------------------------------- 0.4/2.2 MB 367.0 kB/s eta 0:00:05\n",
            "     -------- ------------------------------- 0.5/2.2 MB 361.2 kB/s eta 0:00:05\n",
            "     -------- ------------------------------- 0.5/2.2 MB 359.4 kB/s eta 0:00:05\n",
            "     -------- ------------------------------- 0.5/2.2 MB 359.4 kB/s eta 0:00:05\n",
            "     -------- ------------------------------- 0.5/2.2 MB 342.6 kB/s eta 0:00:05\n",
            "     --------- ------------------------------ 0.5/2.2 MB 349.3 kB/s eta 0:00:05\n",
            "     --------- ------------------------------ 0.5/2.2 MB 344.8 kB/s eta 0:00:05\n",
            "     --------- ------------------------------ 0.5/2.2 MB 348.2 kB/s eta 0:00:05\n",
            "     ---------- ----------------------------- 0.6/2.2 MB 350.8 kB/s eta 0:00:05\n",
            "     ---------- ----------------------------- 0.6/2.2 MB 346.9 kB/s eta 0:00:05\n",
            "     ---------- ----------------------------- 0.6/2.2 MB 352.9 kB/s eta 0:00:05\n",
            "     ----------- ---------------------------- 0.6/2.2 MB 363.4 kB/s eta 0:00:05\n",
            "     ----------- ---------------------------- 0.6/2.2 MB 362.8 kB/s eta 0:00:05\n",
            "     ------------ --------------------------- 0.7/2.2 MB 367.8 kB/s eta 0:00:05\n",
            "     ------------- -------------------------- 0.7/2.2 MB 383.2 kB/s eta 0:00:04\n",
            "     ------------- -------------------------- 0.7/2.2 MB 385.4 kB/s eta 0:00:04\n",
            "     -------------- ------------------------- 0.8/2.2 MB 391.0 kB/s eta 0:00:04\n",
            "     -------------- ------------------------- 0.8/2.2 MB 402.4 kB/s eta 0:00:04\n",
            "     -------------- ------------------------- 0.8/2.2 MB 402.4 kB/s eta 0:00:04\n",
            "     --------------- ------------------------ 0.8/2.2 MB 391.2 kB/s eta 0:00:04\n",
            "     --------------- ------------------------ 0.8/2.2 MB 401.0 kB/s eta 0:00:04\n",
            "     ---------------- ----------------------- 0.9/2.2 MB 414.9 kB/s eta 0:00:04\n",
            "     ----------------- ---------------------- 0.9/2.2 MB 425.9 kB/s eta 0:00:03\n",
            "     ----------------- ---------------------- 1.0/2.2 MB 426.1 kB/s eta 0:00:03\n",
            "     ----------------- ---------------------- 1.0/2.2 MB 419.1 kB/s eta 0:00:03\n",
            "     ------------------ --------------------- 1.0/2.2 MB 419.4 kB/s eta 0:00:03\n",
            "     ------------------ --------------------- 1.0/2.2 MB 422.5 kB/s eta 0:00:03\n",
            "     ------------------ --------------------- 1.0/2.2 MB 420.0 kB/s eta 0:00:03\n",
            "     ------------------- -------------------- 1.1/2.2 MB 424.4 kB/s eta 0:00:03\n",
            "     -------------------- ------------------- 1.1/2.2 MB 430.2 kB/s eta 0:00:03\n",
            "     -------------------- ------------------- 1.1/2.2 MB 431.6 kB/s eta 0:00:03\n",
            "     --------------------- ------------------ 1.2/2.2 MB 439.4 kB/s eta 0:00:03\n",
            "     --------------------- ------------------ 1.2/2.2 MB 438.1 kB/s eta 0:00:03\n",
            "     ---------------------- ----------------- 1.2/2.2 MB 448.2 kB/s eta 0:00:03\n",
            "     ----------------------- ---------------- 1.3/2.2 MB 454.3 kB/s eta 0:00:03\n",
            "     ----------------------- ---------------- 1.3/2.2 MB 445.4 kB/s eta 0:00:03\n",
            "     ----------------------- ---------------- 1.3/2.2 MB 445.4 kB/s eta 0:00:03\n",
            "     ------------------------ --------------- 1.3/2.2 MB 445.1 kB/s eta 0:00:02\n",
            "     ------------------------ --------------- 1.3/2.2 MB 445.1 kB/s eta 0:00:02\n",
            "     ------------------------ --------------- 1.3/2.2 MB 441.4 kB/s eta 0:00:02\n",
            "     ------------------------ --------------- 1.4/2.2 MB 442.4 kB/s eta 0:00:02\n",
            "     ------------------------- -------------- 1.4/2.2 MB 437.9 kB/s eta 0:00:02\n",
            "     ------------------------- -------------- 1.4/2.2 MB 442.4 kB/s eta 0:00:02\n",
            "     ------------------------- -------------- 1.4/2.2 MB 442.4 kB/s eta 0:00:02\n",
            "     ------------------------- -------------- 1.4/2.2 MB 432.6 kB/s eta 0:00:02\n",
            "     -------------------------- ------------- 1.4/2.2 MB 430.6 kB/s eta 0:00:02\n",
            "     -------------------------- ------------- 1.4/2.2 MB 430.6 kB/s eta 0:00:02\n",
            "     -------------------------- ------------- 1.4/2.2 MB 430.6 kB/s eta 0:00:02\n",
            "     -------------------------- ------------- 1.4/2.2 MB 430.6 kB/s eta 0:00:02\n",
            "     -------------------------- ------------- 1.4/2.2 MB 430.6 kB/s eta 0:00:02\n",
            "     -------------------------- ------------- 1.4/2.2 MB 430.6 kB/s eta 0:00:02\n",
            "     -------------------------- ------------- 1.4/2.2 MB 430.6 kB/s eta 0:00:02\n",
            "     -------------------------- ------------- 1.4/2.2 MB 430.6 kB/s eta 0:00:02\n",
            "     -------------------------- ------------- 1.4/2.2 MB 387.6 kB/s eta 0:00:02\n",
            "     --------------------------- ------------ 1.5/2.2 MB 393.7 kB/s eta 0:00:02\n",
            "     ---------------------------- ----------- 1.5/2.2 MB 405.1 kB/s eta 0:00:02\n",
            "     ----------------------------- ---------- 1.6/2.2 MB 413.6 kB/s eta 0:00:02\n",
            "     ----------------------------- ---------- 1.6/2.2 MB 413.6 kB/s eta 0:00:02\n",
            "     ----------------------------- ---------- 1.6/2.2 MB 413.6 kB/s eta 0:00:02\n",
            "     ----------------------------- ---------- 1.6/2.2 MB 413.6 kB/s eta 0:00:02\n",
            "     ----------------------------- ---------- 1.6/2.2 MB 413.6 kB/s eta 0:00:02\n",
            "     ----------------------------- ---------- 1.6/2.2 MB 413.6 kB/s eta 0:00:02\n",
            "     ----------------------------- ---------- 1.6/2.2 MB 413.6 kB/s eta 0:00:02\n",
            "     ----------------------------- ---------- 1.6/2.2 MB 413.6 kB/s eta 0:00:02\n",
            "     ----------------------------- ---------- 1.6/2.2 MB 380.4 kB/s eta 0:00:02\n",
            "     ----------------------------- ---------- 1.6/2.2 MB 382.0 kB/s eta 0:00:02\n",
            "     ------------------------------ --------- 1.7/2.2 MB 392.2 kB/s eta 0:00:02\n",
            "     ------------------------------ --------- 1.7/2.2 MB 392.2 kB/s eta 0:00:02\n",
            "     ------------------------------ --------- 1.7/2.2 MB 392.2 kB/s eta 0:00:02\n",
            "     ------------------------------ --------- 1.7/2.2 MB 392.2 kB/s eta 0:00:02\n",
            "     ------------------------------ --------- 1.7/2.2 MB 392.2 kB/s eta 0:00:02\n",
            "     ------------------------------ --------- 1.7/2.2 MB 392.2 kB/s eta 0:00:02\n",
            "     ------------------------------- -------- 1.7/2.2 MB 372.5 kB/s eta 0:00:02\n",
            "     -------------------------------- ------- 1.8/2.2 MB 379.8 kB/s eta 0:00:02\n",
            "     -------------------------------- ------- 1.8/2.2 MB 378.2 kB/s eta 0:00:02\n",
            "     --------------------------------- ------ 1.8/2.2 MB 391.0 kB/s eta 0:00:01\n",
            "     --------------------------------- ------ 1.9/2.2 MB 390.6 kB/s eta 0:00:01\n",
            "     ---------------------------------- ----- 1.9/2.2 MB 390.6 kB/s eta 0:00:01\n",
            "     ---------------------------------- ----- 1.9/2.2 MB 390.6 kB/s eta 0:00:01\n",
            "     ---------------------------------- ----- 1.9/2.2 MB 390.6 kB/s eta 0:00:01\n",
            "     ---------------------------------- ----- 1.9/2.2 MB 390.6 kB/s eta 0:00:01\n",
            "     ---------------------------------- ----- 1.9/2.2 MB 390.6 kB/s eta 0:00:01\n",
            "     ---------------------------------- ----- 1.9/2.2 MB 390.6 kB/s eta 0:00:01\n",
            "     ---------------------------------- ----- 1.9/2.2 MB 390.6 kB/s eta 0:00:01\n",
            "     ---------------------------------- ----- 1.9/2.2 MB 390.6 kB/s eta 0:00:01\n",
            "     ---------------------------------- ----- 1.9/2.2 MB 390.6 kB/s eta 0:00:01\n",
            "     ---------------------------------- ----- 1.9/2.2 MB 390.6 kB/s eta 0:00:01\n",
            "     ---------------------------------- ----- 1.9/2.2 MB 390.6 kB/s eta 0:00:01\n",
            "     ---------------------------------- ----- 1.9/2.2 MB 390.6 kB/s eta 0:00:01\n",
            "     ---------------------------------- ----- 1.9/2.2 MB 390.6 kB/s eta 0:00:01\n",
            "     ---------------------------------- ----- 1.9/2.2 MB 390.6 kB/s eta 0:00:01\n",
            "     ---------------------------------- ----- 1.9/2.2 MB 390.6 kB/s eta 0:00:01\n",
            "     ---------------------------------- ----- 1.9/2.2 MB 390.6 kB/s eta 0:00:01\n",
            "     ---------------------------------- ----- 1.9/2.2 MB 390.6 kB/s eta 0:00:01\n",
            "     ---------------------------------- ----- 1.9/2.2 MB 338.6 kB/s eta 0:00:01\n",
            "     ------------------------------------ --- 2.0/2.2 MB 351.3 kB/s eta 0:00:01\n",
            "     ------------------------------------ --- 2.0/2.2 MB 352.2 kB/s eta 0:00:01\n",
            "     ------------------------------------- -- 2.0/2.2 MB 350.9 kB/s eta 0:00:01\n",
            "     ------------------------------------- -- 2.0/2.2 MB 350.9 kB/s eta 0:00:01\n",
            "     ------------------------------------- -- 2.0/2.2 MB 350.9 kB/s eta 0:00:01\n",
            "     ------------------------------------- -- 2.0/2.2 MB 350.9 kB/s eta 0:00:01\n",
            "     ------------------------------------- -- 2.0/2.2 MB 342.4 kB/s eta 0:00:01\n",
            "     ------------------------------------- -- 2.0/2.2 MB 342.4 kB/s eta 0:00:01\n",
            "     ------------------------------------- -- 2.0/2.2 MB 342.4 kB/s eta 0:00:01\n",
            "     ------------------------------------- -- 2.1/2.2 MB 341.2 kB/s eta 0:00:01\n",
            "     -------------------------------------- - 2.1/2.2 MB 340.3 kB/s eta 0:00:01\n",
            "     -------------------------------------- - 2.1/2.2 MB 340.3 kB/s eta 0:00:01\n",
            "     -------------------------------------- - 2.1/2.2 MB 335.1 kB/s eta 0:00:01\n",
            "     ---------------------------------------  2.1/2.2 MB 340.0 kB/s eta 0:00:01\n",
            "     ---------------------------------------  2.2/2.2 MB 342.3 kB/s eta 0:00:01\n",
            "     ---------------------------------------  2.2/2.2 MB 342.3 kB/s eta 0:00:01\n",
            "     ---------------------------------------- 2.2/2.2 MB 342.1 kB/s eta 0:00:00\n",
            "Collecting ffmpy\n",
            "  Downloading ffmpy-0.3.0.tar.gz (4.8 kB)\n",
            "  Preparing metadata (setup.py): started\n",
            "  Preparing metadata (setup.py): finished with status 'done'\n",
            "Collecting pyyaml\n",
            "  Downloading PyYAML-6.0-cp39-cp39-win_amd64.whl (151 kB)\n",
            "     ---------------------------------------- 0.0/151.6 kB ? eta -:--:--\n",
            "     -- ------------------------------------- 10.2/151.6 kB ? eta -:--:--\n",
            "     --------- --------------------------- 41.0/151.6 kB 653.6 kB/s eta 0:00:01\n",
            "     -------------- ---------------------- 61.4/151.6 kB 544.7 kB/s eta 0:00:01\n",
            "     ---------------------- -------------- 92.2/151.6 kB 585.1 kB/s eta 0:00:01\n",
            "     ---------------------------------- - 143.4/151.6 kB 655.8 kB/s eta 0:00:01\n",
            "     ------------------------------------ 151.6/151.6 kB 565.6 kB/s eta 0:00:00\n",
            "Requirement already satisfied: matplotlib in c:\\users\\ssri2\\appdata\\local\\packages\\pythonsoftwarefoundation.python.3.9_qbz5n2kfra8p0\\localcache\\local-packages\\python39\\site-packages (from gradio) (3.7.1)\n",
            "Collecting fastapi\n",
            "  Downloading fastapi-0.95.0-py3-none-any.whl (57 kB)\n",
            "     ---------------------------------------- 0.0/57.1 kB ? eta -:--:--\n",
            "     -------------------- ----------------- 30.7/57.1 kB 660.6 kB/s eta 0:00:01\n",
            "     ---------------------------------- --- 51.2/57.1 kB 525.1 kB/s eta 0:00:01\n",
            "     -------------------------------------- 57.1/57.1 kB 429.6 kB/s eta 0:00:00\n",
            "Requirement already satisfied: numpy in c:\\users\\ssri2\\appdata\\local\\packages\\pythonsoftwarefoundation.python.3.9_qbz5n2kfra8p0\\localcache\\local-packages\\python39\\site-packages (from gradio) (1.21.3)\n",
            "Collecting uvicorn\n",
            "  Downloading uvicorn-0.21.1-py3-none-any.whl (57 kB)\n",
            "     ---------------------------------------- 0.0/57.8 kB ? eta -:--:--\n",
            "     ------- -------------------------------- 10.2/57.8 kB ? eta -:--:--\n",
            "     -------------------- ----------------- 30.7/57.8 kB 435.7 kB/s eta 0:00:01\n",
            "     -------------------- ----------------- 30.7/57.8 kB 435.7 kB/s eta 0:00:01\n",
            "     -------------------------------------- 57.8/57.8 kB 337.5 kB/s eta 0:00:00\n",
            "Collecting httpx\n",
            "  Downloading httpx-0.23.3-py3-none-any.whl (71 kB)\n",
            "     ---------------------------------------- 0.0/71.5 kB ? eta -:--:--\n",
            "     ---------------------------------------- 0.0/71.5 kB ? eta -:--:--\n",
            "     ----- ---------------------------------- 10.2/71.5 kB ? eta -:--:--\n",
            "     --------------------- ---------------- 41.0/71.5 kB 653.6 kB/s eta 0:00:01\n",
            "     -------------------------------- ----- 61.4/71.5 kB 544.7 kB/s eta 0:00:01\n",
            "     -------------------------------------- 71.5/71.5 kB 434.3 kB/s eta 0:00:00\n",
            "Requirement already satisfied: markdown-it-py[linkify]>=2.0.0 in c:\\users\\ssri2\\appdata\\local\\packages\\pythonsoftwarefoundation.python.3.9_qbz5n2kfra8p0\\localcache\\local-packages\\python39\\site-packages (from gradio) (2.2.0)\n",
            "Requirement already satisfied: entrypoints in c:\\users\\ssri2\\appdata\\local\\packages\\pythonsoftwarefoundation.python.3.9_qbz5n2kfra8p0\\localcache\\local-packages\\python39\\site-packages (from altair>=4.2.0->gradio) (0.4)\n",
            "Requirement already satisfied: jsonschema>=3.0 in c:\\users\\ssri2\\appdata\\local\\packages\\pythonsoftwarefoundation.python.3.9_qbz5n2kfra8p0\\localcache\\local-packages\\python39\\site-packages (from altair>=4.2.0->gradio) (4.17.3)\n",
            "Requirement already satisfied: toolz in c:\\users\\ssri2\\appdata\\local\\packages\\pythonsoftwarefoundation.python.3.9_qbz5n2kfra8p0\\localcache\\local-packages\\python39\\site-packages (from altair>=4.2.0->gradio) (0.12.0)\n",
            "Requirement already satisfied: packaging in c:\\users\\ssri2\\appdata\\local\\packages\\pythonsoftwarefoundation.python.3.9_qbz5n2kfra8p0\\localcache\\local-packages\\python39\\site-packages (from gradio-client>=0.0.5->gradio) (23.0)\n",
            "Collecting fsspec\n",
            "  Downloading fsspec-2023.3.0-py3-none-any.whl (145 kB)\n",
            "     ---------------------------------------- 0.0/145.4 kB ? eta -:--:--\n",
            "     ---------------------------------------- 0.0/145.4 kB ? eta -:--:--\n",
            "     ----------- ---------------------------- 41.0/145.4 kB ? eta -:--:--\n",
            "     --------------------- ----------------- 81.9/145.4 kB 1.6 MB/s eta 0:00:01\n",
            "     ----------------------------- -------- 112.6/145.4 kB 1.1 MB/s eta 0:00:01\n",
            "     ------------------------------------ 145.4/145.4 kB 866.5 kB/s eta 0:00:00\n",
            "Collecting filelock\n",
            "  Downloading filelock-3.10.7-py3-none-any.whl (10 kB)\n",
            "Collecting tqdm>=4.42.1\n",
            "  Downloading tqdm-4.65.0-py3-none-any.whl (77 kB)\n",
            "     ---------------------------------------- 0.0/77.1 kB ? eta -:--:--\n",
            "     ----- ---------------------------------- 10.2/77.1 kB ? eta -:--:--\n",
            "     -------------------- ----------------- 41.0/77.1 kB 487.6 kB/s eta 0:00:01\n",
            "     ----------------------------------- -- 71.7/77.1 kB 653.6 kB/s eta 0:00:01\n",
            "     -------------------------------------- 77.1/77.1 kB 534.8 kB/s eta 0:00:00\n",
            "Requirement already satisfied: mdurl~=0.1 in c:\\users\\ssri2\\appdata\\local\\packages\\pythonsoftwarefoundation.python.3.9_qbz5n2kfra8p0\\localcache\\local-packages\\python39\\site-packages (from markdown-it-py[linkify]>=2.0.0->gradio) (0.1.2)\n",
            "Collecting linkify-it-py<3,>=1\n",
            "  Downloading linkify_it_py-2.0.0-py3-none-any.whl (19 kB)\n",
            "Requirement already satisfied: python-dateutil>=2.8.1 in c:\\users\\ssri2\\appdata\\local\\packages\\pythonsoftwarefoundation.python.3.9_qbz5n2kfra8p0\\localcache\\local-packages\\python39\\site-packages (from pandas->gradio) (2.8.2)\n",
            "Requirement already satisfied: pytz>=2020.1 in c:\\users\\ssri2\\appdata\\local\\packages\\pythonsoftwarefoundation.python.3.9_qbz5n2kfra8p0\\localcache\\local-packages\\python39\\site-packages (from pandas->gradio) (2023.2)\n",
            "Collecting async-timeout<5.0,>=4.0.0a3\n",
            "  Downloading async_timeout-4.0.2-py3-none-any.whl (5.8 kB)\n",
            "Collecting aiosignal>=1.1.2\n",
            "  Downloading aiosignal-1.3.1-py3-none-any.whl (7.6 kB)\n",
            "Collecting frozenlist>=1.1.1\n",
            "  Downloading frozenlist-1.3.3-cp39-cp39-win_amd64.whl (34 kB)\n",
            "Requirement already satisfied: charset-normalizer<4.0,>=2.0 in c:\\users\\ssri2\\appdata\\local\\packages\\pythonsoftwarefoundation.python.3.9_qbz5n2kfra8p0\\localcache\\local-packages\\python39\\site-packages (from aiohttp->gradio) (3.1.0)\n",
            "Collecting yarl<2.0,>=1.0\n",
            "  Downloading yarl-1.8.2-cp39-cp39-win_amd64.whl (56 kB)\n",
            "     ---------------------------------------- 0.0/56.8 kB ? eta -:--:--\n",
            "     --------------------- ------------------ 30.7/56.8 kB 1.3 MB/s eta 0:00:01\n",
            "     -------------------------------------- 56.8/56.8 kB 738.9 kB/s eta 0:00:00\n",
            "Requirement already satisfied: attrs>=17.3.0 in c:\\users\\ssri2\\appdata\\local\\packages\\pythonsoftwarefoundation.python.3.9_qbz5n2kfra8p0\\localcache\\local-packages\\python39\\site-packages (from aiohttp->gradio) (22.2.0)\n",
            "Collecting multidict<7.0,>=4.5\n",
            "  Downloading multidict-6.0.4-cp39-cp39-win_amd64.whl (28 kB)\n",
            "Collecting starlette<0.27.0,>=0.26.1\n",
            "  Downloading starlette-0.26.1-py3-none-any.whl (66 kB)\n",
            "     ---------------------------------------- 0.0/66.9 kB ? eta -:--:--\n",
            "     ------ --------------------------------- 10.2/66.9 kB ? eta -:--:--\n",
            "     ---------------------------------- --- 61.4/66.9 kB 825.8 kB/s eta 0:00:01\n",
            "     -------------------------------------- 66.9/66.9 kB 609.4 kB/s eta 0:00:00\n",
            "Collecting rfc3986[idna2008]<2,>=1.3\n",
            "  Downloading rfc3986-1.5.0-py2.py3-none-any.whl (31 kB)\n",
            "Requirement already satisfied: certifi in c:\\users\\ssri2\\appdata\\local\\packages\\pythonsoftwarefoundation.python.3.9_qbz5n2kfra8p0\\localcache\\local-packages\\python39\\site-packages (from httpx->gradio) (2022.12.7)\n",
            "Collecting httpcore<0.17.0,>=0.15.0\n",
            "  Downloading httpcore-0.16.3-py3-none-any.whl (69 kB)\n",
            "     ---------------------------------------- 0.0/69.6 kB ? eta -:--:--\n",
            "     ----------------- ---------------------- 30.7/69.6 kB 1.3 MB/s eta 0:00:01\n",
            "     -------------------------------------- 69.6/69.6 kB 956.8 kB/s eta 0:00:00\n",
            "Collecting sniffio\n",
            "  Downloading sniffio-1.3.0-py3-none-any.whl (10 kB)\n",
            "Requirement already satisfied: kiwisolver>=1.0.1 in c:\\users\\ssri2\\appdata\\local\\packages\\pythonsoftwarefoundation.python.3.9_qbz5n2kfra8p0\\localcache\\local-packages\\python39\\site-packages (from matplotlib->gradio) (1.4.4)\n",
            "Requirement already satisfied: contourpy>=1.0.1 in c:\\users\\ssri2\\appdata\\local\\packages\\pythonsoftwarefoundation.python.3.9_qbz5n2kfra8p0\\localcache\\local-packages\\python39\\site-packages (from matplotlib->gradio) (1.0.7)\n",
            "Requirement already satisfied: fonttools>=4.22.0 in c:\\users\\ssri2\\appdata\\local\\packages\\pythonsoftwarefoundation.python.3.9_qbz5n2kfra8p0\\localcache\\local-packages\\python39\\site-packages (from matplotlib->gradio) (4.39.3)\n",
            "Requirement already satisfied: cycler>=0.10 in c:\\users\\ssri2\\appdata\\local\\packages\\pythonsoftwarefoundation.python.3.9_qbz5n2kfra8p0\\localcache\\local-packages\\python39\\site-packages (from matplotlib->gradio) (0.11.0)\n",
            "Requirement already satisfied: importlib-resources>=3.2.0 in c:\\users\\ssri2\\appdata\\local\\packages\\pythonsoftwarefoundation.python.3.9_qbz5n2kfra8p0\\localcache\\local-packages\\python39\\site-packages (from matplotlib->gradio) (5.12.0)\n",
            "Requirement already satisfied: pyparsing>=2.3.1 in c:\\users\\ssri2\\appdata\\local\\packages\\pythonsoftwarefoundation.python.3.9_qbz5n2kfra8p0\\localcache\\local-packages\\python39\\site-packages (from matplotlib->gradio) (3.0.9)\n",
            "Requirement already satisfied: idna<4,>=2.5 in c:\\users\\ssri2\\appdata\\local\\packages\\pythonsoftwarefoundation.python.3.9_qbz5n2kfra8p0\\localcache\\local-packages\\python39\\site-packages (from requests->gradio) (3.4)\n",
            "Requirement already satisfied: urllib3<1.27,>=1.21.1 in c:\\users\\ssri2\\appdata\\local\\packages\\pythonsoftwarefoundation.python.3.9_qbz5n2kfra8p0\\localcache\\local-packages\\python39\\site-packages (from requests->gradio) (1.26.15)\n",
            "Collecting h11>=0.8\n",
            "  Downloading h11-0.14.0-py3-none-any.whl (58 kB)\n",
            "     ---------------------------------------- 0.0/58.3 kB ? eta -:--:--\n",
            "     ---------------------------- ----------- 41.0/58.3 kB 1.9 MB/s eta 0:00:01\n",
            "     ---------------------------- ----------- 41.0/58.3 kB 1.9 MB/s eta 0:00:01\n",
            "     ---------------------------- ----------- 41.0/58.3 kB 1.9 MB/s eta 0:00:01\n",
            "     ---------------------------- ----------- 41.0/58.3 kB 1.9 MB/s eta 0:00:01\n",
            "     ---------------------------- ----------- 41.0/58.3 kB 1.9 MB/s eta 0:00:01\n",
            "     ---------------------------- ----------- 41.0/58.3 kB 1.9 MB/s eta 0:00:01\n",
            "     ---------------------------- ----------- 41.0/58.3 kB 1.9 MB/s eta 0:00:01\n",
            "     --------------------------------- ---- 51.2/58.3 kB 119.1 kB/s eta 0:00:01\n",
            "     -------------------------------------- 58.3/58.3 kB 128.1 kB/s eta 0:00:00\n",
            "Requirement already satisfied: click>=7.0 in c:\\users\\ssri2\\appdata\\local\\packages\\pythonsoftwarefoundation.python.3.9_qbz5n2kfra8p0\\localcache\\local-packages\\python39\\site-packages (from uvicorn->gradio) (8.1.3)\n",
            "Requirement already satisfied: colorama in c:\\users\\ssri2\\appdata\\local\\packages\\pythonsoftwarefoundation.python.3.9_qbz5n2kfra8p0\\localcache\\local-packages\\python39\\site-packages (from click>=7.0->uvicorn->gradio) (0.4.6)\n",
            "Collecting anyio<5.0,>=3.0\n",
            "  Downloading anyio-3.6.2-py3-none-any.whl (80 kB)\n",
            "     ---------------------------------------- 0.0/80.6 kB ? eta -:--:--\n",
            "     ---------------------------------------- 0.0/80.6 kB ? eta -:--:--\n",
            "     ---------------------------------------- 0.0/80.6 kB ? eta -:--:--\n",
            "     --------------- ------------------------ 30.7/80.6 kB 1.3 MB/s eta 0:00:01\n",
            "     --------------- ------------------------ 30.7/80.6 kB 1.3 MB/s eta 0:00:01\n",
            "     --------------------------------- ---- 71.7/80.6 kB 563.7 kB/s eta 0:00:01\n",
            "     -------------------------------------- 80.6/80.6 kB 499.2 kB/s eta 0:00:00\n",
            "Requirement already satisfied: zipp>=3.1.0 in c:\\users\\ssri2\\appdata\\local\\packages\\pythonsoftwarefoundation.python.3.9_qbz5n2kfra8p0\\localcache\\local-packages\\python39\\site-packages (from importlib-resources>=3.2.0->matplotlib->gradio) (3.15.0)\n",
            "Requirement already satisfied: pyrsistent!=0.17.0,!=0.17.1,!=0.17.2,>=0.14.0 in c:\\users\\ssri2\\appdata\\local\\packages\\pythonsoftwarefoundation.python.3.9_qbz5n2kfra8p0\\localcache\\local-packages\\python39\\site-packages (from jsonschema>=3.0->altair>=4.2.0->gradio) (0.19.3)\n",
            "Collecting uc-micro-py\n",
            "  Downloading uc_micro_py-1.0.1-py3-none-any.whl (6.2 kB)\n",
            "Requirement already satisfied: six>=1.5 in c:\\users\\ssri2\\appdata\\local\\packages\\pythonsoftwarefoundation.python.3.9_qbz5n2kfra8p0\\localcache\\local-packages\\python39\\site-packages (from python-dateutil>=2.8.1->pandas->gradio) (1.16.0)\n",
            "Installing collected packages: rfc3986, pydub, ffmpy, websockets, uc-micro-py, tqdm, sniffio, semantic-version, pyyaml, python-multipart, pydantic, orjson, multidict, h11, fsspec, frozenlist, filelock, async-timeout, aiofiles, yarl, uvicorn, mdit-py-plugins, linkify-it-py, huggingface-hub, anyio, aiosignal, starlette, httpcore, gradio-client, aiohttp, httpx, fastapi, gradio\n",
            "  Running setup.py install for ffmpy: started\n",
            "  Running setup.py install for ffmpy: finished with status 'done'\n",
            "Successfully installed aiofiles-23.1.0 aiohttp-3.8.4 aiosignal-1.3.1 anyio-3.6.2 async-timeout-4.0.2 fastapi-0.95.0 ffmpy-0.3.0 filelock-3.10.7 frozenlist-1.3.3 fsspec-2023.3.0 gradio-3.24.0 gradio-client-0.0.5 h11-0.14.0 httpcore-0.16.3 httpx-0.23.3 huggingface-hub-0.13.3 linkify-it-py-2.0.0 mdit-py-plugins-0.3.3 multidict-6.0.4 orjson-3.8.9 pydantic-1.10.7 pydub-0.25.1 python-multipart-0.0.6 pyyaml-6.0 rfc3986-1.5.0 semantic-version-2.10.0 sniffio-1.3.0 starlette-0.26.1 tqdm-4.65.0 uc-micro-py-1.0.1 uvicorn-0.21.1 websockets-10.4 yarl-1.8.2\n"
          ]
        },
        {
          "name": "stderr",
          "output_type": "stream",
          "text": [
            "  DEPRECATION: ffmpy is being installed using the legacy 'setup.py install' method, because it does not have a 'pyproject.toml' and the 'wheel' package is not installed. pip 23.1 will enforce this behaviour change. A possible replacement is to enable the '--use-pep517' option. Discussion can be found at https://github.com/pypa/pip/issues/8559\n"
          ]
        }
      ],
      "source": [
        "!pip install gradio\n"
      ]
    },
    {
      "cell_type": "code",
      "execution_count": 174,
      "metadata": {
        "id": "NV6y42vLQIUi"
      },
      "outputs": [
        {
          "name": "stderr",
          "output_type": "stream",
          "text": [
            "C:\\Users\\ssri2\\AppData\\Local\\Packages\\PythonSoftwareFoundation.Python.3.9_qbz5n2kfra8p0\\LocalCache\\local-packages\\Python39\\site-packages\\tqdm\\auto.py:21: TqdmWarning: IProgress not found. Please update jupyter and ipywidgets. See https://ipywidgets.readthedocs.io/en/stable/user_install.html\n",
            "  from .autonotebook import tqdm as notebook_tqdm\n"
          ]
        }
      ],
      "source": [
        "import gradio as gr\n",
        "import warnings\n",
        "warnings.filterwarnings('ignore')"
      ]
    },
    {
      "cell_type": "code",
      "execution_count": 175,
      "metadata": {
        "id": "vz-yAXLLeZb1"
      },
      "outputs": [],
      "source": [
        "#country = {0:Belgium,1:France,2:Germany,3:Italy,4:Poland,5:Spain}\n",
        "#store{0 : KaggleMart,1:KaggleRama}\n",
        "#product = {0:Kaggle Advanced Techniques,1:Kaggle Getting Started,2:Kaggle Recipe Book\t,3:Kaggle for Kids: One Smart Goose}"
      ]
    },
    {
      "cell_type": "code",
      "execution_count": 176,
      "metadata": {
        "id": "ic2jUFfxQheg"
      },
      "outputs": [],
      "source": [
        "def sales_prediction(country, store, product, year, month):\n",
        "    x = np.asarray([country, store, product, year, month])\n",
        "    prediction = xg_reg.predict(x.reshape(1,-1))\n",
        "    return prediction"
      ]
    },
    {
      "cell_type": "code",
      "execution_count": 177,
      "metadata": {},
      "outputs": [
        {
          "data": {
            "text/plain": [
              "array([109.82114], dtype=float32)"
            ]
          },
          "execution_count": 177,
          "metadata": {},
          "output_type": "execute_result"
        }
      ],
      "source": [
        "sales_prediction(1,1,1,2021,1)"
      ]
    },
    {
      "cell_type": "code",
      "execution_count": 178,
      "metadata": {
        "id": "qwuTCYeGg9oO"
      },
      "outputs": [],
      "source": [
        "outputs = gr.outputs.Textbox()\n",
        "app = gr.Interface(fn=sales_prediction, inputs=['number', 'number', 'number', 'number', 'number'], outputs=outputs, description=\"Predict sales based on country, store, product, year, and month \" )"
      ]
    },
    {
      "cell_type": "code",
      "execution_count": 179,
      "metadata": {
        "colab": {
          "base_uri": "https://localhost:8080/",
          "height": 594
        },
        "id": "fR0Ye-pIQthQ",
        "outputId": "e4913404-f67e-4ea8-8227-2cc920dfa58a"
      },
      "outputs": [
        {
          "name": "stdout",
          "output_type": "stream",
          "text": [
            "Running on local URL:  http://127.0.0.1:7860\n",
            "Running on public URL: https://da5c55f73bf0ab2b8c.gradio.live\n",
            "\n",
            "This share link expires in 72 hours. For free permanent hosting and GPU upgrades (NEW!), check out Spaces: https://huggingface.co/spaces\n"
          ]
        },
        {
          "data": {
            "text/html": [
              "<div><iframe src=\"https://da5c55f73bf0ab2b8c.gradio.live\" width=\"100%\" height=\"500\" allow=\"autoplay; camera; microphone; clipboard-read; clipboard-write;\" frameborder=\"0\" allowfullscreen></iframe></div>"
            ],
            "text/plain": [
              "<IPython.core.display.HTML object>"
            ]
          },
          "metadata": {},
          "output_type": "display_data"
        },
        {
          "data": {
            "text/plain": []
          },
          "execution_count": 179,
          "metadata": {},
          "output_type": "execute_result"
        }
      ],
      "source": [
        "app.launch(share = True)"
      ]
    },
    {
      "cell_type": "markdown",
      "metadata": {
        "id": "nSeXhknBGiuc"
      },
      "source": [
        "**Saving the trained model**"
      ]
    },
    {
      "cell_type": "code",
      "execution_count": 180,
      "metadata": {
        "id": "VR0y8yl1Goa2"
      },
      "outputs": [],
      "source": [
        "import pickle\n",
        "pickle.dump(xg_reg , open('model_pickel.pkl' , 'wb'))"
      ]
    },
    {
      "cell_type": "code",
      "execution_count": null,
      "metadata": {
        "id": "ythG7gX8Hvfb"
      },
      "outputs": [],
      "source": []
    }
  ],
  "metadata": {
    "accelerator": "GPU",
    "colab": {
      "provenance": []
    },
    "gpuClass": "standard",
    "kernelspec": {
      "display_name": "Python 3",
      "name": "python3"
    },
    "language_info": {
      "codemirror_mode": {
        "name": "ipython",
        "version": 3
      },
      "file_extension": ".py",
      "mimetype": "text/x-python",
      "name": "python",
      "nbconvert_exporter": "python",
      "pygments_lexer": "ipython3",
      "version": "3.9.13"
    }
  },
  "nbformat": 4,
  "nbformat_minor": 0
}
